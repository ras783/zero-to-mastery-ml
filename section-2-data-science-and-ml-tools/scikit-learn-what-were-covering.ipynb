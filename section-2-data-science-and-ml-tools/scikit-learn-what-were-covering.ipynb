{
  "nbformat": 4,
  "nbformat_minor": 0,
  "metadata": {
    "kernelspec": {
      "display_name": "Python 3",
      "language": "python",
      "name": "python3"
    },
    "language_info": {
      "codemirror_mode": {
        "name": "ipython",
        "version": 3
      },
      "file_extension": ".py",
      "mimetype": "text/x-python",
      "name": "python",
      "nbconvert_exporter": "python",
      "pygments_lexer": "ipython3",
      "version": "3.7.5"
    },
    "colab": {
      "name": "scikit-learn-what-were-covering.ipynb",
      "provenance": []
    }
  },
  "cells": [
    {
      "cell_type": "markdown",
      "metadata": {
        "id": "QwMS-VtusPwQ",
        "colab_type": "text"
      },
      "source": [
        "# What we're covering in the Scikit-Learn Introduction\n",
        "\n",
        "This notebook outlines the content convered in the Scikit-Learn Introduction.\n",
        "\n",
        "It's a quick stop to see all the Scikit-Learn functions and modules for each section outlined.\n",
        "\n",
        "What we're covering follows the following diagram detailing a Scikit-Learn workflow.\n",
        "\n",
        "<img src=\"https://github.com/ras783/zero-to-mastery-ml/blob/master/images/sklearn-workflow-title.png?raw=1\"/>"
      ]
    },
    {
      "cell_type": "markdown",
      "metadata": {
        "id": "mqUImycdsPwU",
        "colab_type": "text"
      },
      "source": [
        "## 0. Standard library imports\n",
        "\n",
        "For all machine learning projects, you'll often see these libraries (Matplotlib, NumPy and pandas) imported at the top."
      ]
    },
    {
      "cell_type": "code",
      "metadata": {
        "id": "xzbEDgOosPwX",
        "colab_type": "code",
        "colab": {}
      },
      "source": [
        "%matplotlib inline\n",
        "import matplotlib.pyplot as plt\n",
        "import numpy as np\n",
        "import pandas as pd"
      ],
      "execution_count": 0,
      "outputs": []
    },
    {
      "cell_type": "markdown",
      "metadata": {
        "id": "U_VpaLwisPwj",
        "colab_type": "text"
      },
      "source": [
        "We'll use 2 datasets for demonstration purposes.\n",
        "* `heart_disease` - a classification dataset (predicting whether someone has heart disease or not)\n",
        "* `boston_df` - a regression dataset (predicting the median house prices of cities in Boston)"
      ]
    },
    {
      "cell_type": "code",
      "metadata": {
        "id": "zoHbncqJsPwm",
        "colab_type": "code",
        "colab": {}
      },
      "source": [
        "# Classification data\n",
        "heart_disease = pd.read_csv(\"../data/heart-disease.csv\")\n",
        "\n",
        "# Regression data\n",
        "from sklearn.datasets import load_boston\n",
        "boston = load_boston() # loads as dictionary\n",
        "# Convert dictionary to dataframe\n",
        "boston_df = pd.DataFrame(boston[\"data\"], columns=boston[\"feature_names\"])\n",
        "boston_df[\"target\"] = pd.Series(boston[\"target\"])"
      ],
      "execution_count": 0,
      "outputs": []
    },
    {
      "cell_type": "markdown",
      "metadata": {
        "id": "jf00pvQasPwx",
        "colab_type": "text"
      },
      "source": [
        "## 1. Get the data ready"
      ]
    },
    {
      "cell_type": "code",
      "metadata": {
        "id": "TNXyI_S9sPwz",
        "colab_type": "code",
        "colab": {}
      },
      "source": [
        "# Split data into X & y\n",
        "X = heart_disease.drop(\"target\", axis=1) # use all columns except target\n",
        "y = heart_disease[\"target\"] # we want to predict y using X"
      ],
      "execution_count": 0,
      "outputs": []
    },
    {
      "cell_type": "code",
      "metadata": {
        "id": "RdfxPxYDsPxB",
        "colab_type": "code",
        "colab": {}
      },
      "source": [
        "# Split the data into training and test sets\n",
        "from sklearn.model_selection import train_test_split\n",
        "# Example use case (requires X & y)\n",
        "X_train, X_test, y_train, y_test = train_test_split(X, y)"
      ],
      "execution_count": 0,
      "outputs": []
    },
    {
      "cell_type": "markdown",
      "metadata": {
        "id": "gwhmwsLwsPxO",
        "colab_type": "text"
      },
      "source": [
        "## 2. Pick a model/estimator (to suit your problem)\n",
        "To pick a model we use the [Scikit-Learn machine learning map](https://scikit-learn.org/stable/tutorial/machine_learning_map/index.html).\n",
        "\n",
        "<img src=\"https://github.com/ras783/zero-to-mastery-ml/blob/master/images/sklearn-ml-map.png?raw=1\" width=400/>\n",
        "\n",
        "**Note:** Scikit-Learn refers to machine learning models and algorithms as estimators."
      ]
    },
    {
      "cell_type": "code",
      "metadata": {
        "id": "zhuJyNa9sPxR",
        "colab_type": "code",
        "colab": {}
      },
      "source": [
        "# Random Forest Classifier (for classification problems)\n",
        "from sklearn.ensemble import RandomForestClassifier\n",
        "# Instantiating a Random Forest Classifier (clf short for classifier)\n",
        "clf = RandomForestClassifier()"
      ],
      "execution_count": 0,
      "outputs": []
    },
    {
      "cell_type": "code",
      "metadata": {
        "id": "-g7nRtzFsPxl",
        "colab_type": "code",
        "colab": {}
      },
      "source": [
        "# Random Forest Regressor (for regression problems)\n",
        "from sklearn.ensemble import RandomForestRegressor\n",
        "# Instantiating a Random Forest Regressor\n",
        "model = RandomForestRegressor()"
      ],
      "execution_count": 0,
      "outputs": []
    },
    {
      "cell_type": "markdown",
      "metadata": {
        "id": "9U3NBOq_sPx1",
        "colab_type": "text"
      },
      "source": [
        "## 3. Fit the model to the data and make a prediction\n"
      ]
    },
    {
      "cell_type": "code",
      "metadata": {
        "id": "VMDf402RsPx4",
        "colab_type": "code",
        "colab": {},
        "outputId": "b29906dc-ee5c-465a-d99e-4be6b807f3b4"
      },
      "source": [
        "# All models/estimators have the fit() function built-in\n",
        "clf.fit(X_train, y_train)\n",
        "\n",
        "# Once fit is called, you can make predictions using predict()\n",
        "y_preds = clf.predict(X_test)\n",
        "\n",
        "# You can also predict with probabilities (on classification models)\n",
        "y_probs = clf.predict_proba(X_test)\n",
        "\n",
        "# View preds/probabilities\n",
        "y_preds, y_probs"
      ],
      "execution_count": 0,
      "outputs": [
        {
          "output_type": "stream",
          "text": [
            "/Users/daniel/Desktop/ml-course/zero-to-mastery-ml/env/lib/python3.7/site-packages/sklearn/ensemble/forest.py:245: FutureWarning: The default value of n_estimators will change from 10 in version 0.20 to 100 in 0.22.\n",
            "  \"10 in version 0.20 to 100 in 0.22.\", FutureWarning)\n"
          ],
          "name": "stderr"
        },
        {
          "output_type": "execute_result",
          "data": {
            "text/plain": [
              "(array([0, 1, 1, 0, 0, 0, 0, 0, 1, 0, 0, 0, 0, 0, 1, 0, 0, 1, 1, 0, 0, 0,\n",
              "        0, 0, 1, 1, 0, 1, 0, 0, 0, 1, 0, 1, 0, 0, 0, 1, 0, 0, 0, 0, 1, 1,\n",
              "        0, 0, 1, 1, 0, 0, 1, 0, 1, 1, 1, 0, 0, 1, 1, 0, 1, 1, 1, 0, 0, 0,\n",
              "        1, 1, 1, 1, 1, 0, 1, 0, 1, 0]), array([[0.5, 0.5],\n",
              "        [0.2, 0.8],\n",
              "        [0.4, 0.6],\n",
              "        [0.5, 0.5],\n",
              "        [0.8, 0.2],\n",
              "        [0.9, 0.1],\n",
              "        [0.5, 0.5],\n",
              "        [0.9, 0.1],\n",
              "        [0.2, 0.8],\n",
              "        [1. , 0. ],\n",
              "        [0.5, 0.5],\n",
              "        [0.8, 0.2],\n",
              "        [0.5, 0.5],\n",
              "        [0.5, 0.5],\n",
              "        [0.2, 0.8],\n",
              "        [0.5, 0.5],\n",
              "        [0.6, 0.4],\n",
              "        [0.2, 0.8],\n",
              "        [0.4, 0.6],\n",
              "        [1. , 0. ],\n",
              "        [0.5, 0.5],\n",
              "        [0.5, 0.5],\n",
              "        [0.9, 0.1],\n",
              "        [0.6, 0.4],\n",
              "        [0.2, 0.8],\n",
              "        [0.4, 0.6],\n",
              "        [0.5, 0.5],\n",
              "        [0.4, 0.6],\n",
              "        [0.9, 0.1],\n",
              "        [0.7, 0.3],\n",
              "        [0.7, 0.3],\n",
              "        [0.2, 0.8],\n",
              "        [1. , 0. ],\n",
              "        [0.1, 0.9],\n",
              "        [0.6, 0.4],\n",
              "        [0.8, 0.2],\n",
              "        [1. , 0. ],\n",
              "        [0.1, 0.9],\n",
              "        [1. , 0. ],\n",
              "        [0.5, 0.5],\n",
              "        [0.6, 0.4],\n",
              "        [1. , 0. ],\n",
              "        [0.3, 0.7],\n",
              "        [0. , 1. ],\n",
              "        [0.9, 0.1],\n",
              "        [0.6, 0.4],\n",
              "        [0. , 1. ],\n",
              "        [0.3, 0.7],\n",
              "        [0.8, 0.2],\n",
              "        [0.6, 0.4],\n",
              "        [0.4, 0.6],\n",
              "        [0.6, 0.4],\n",
              "        [0.2, 0.8],\n",
              "        [0.4, 0.6],\n",
              "        [0. , 1. ],\n",
              "        [0.9, 0.1],\n",
              "        [0.8, 0.2],\n",
              "        [0.3, 0.7],\n",
              "        [0. , 1. ],\n",
              "        [0.9, 0.1],\n",
              "        [0.1, 0.9],\n",
              "        [0.1, 0.9],\n",
              "        [0.3, 0.7],\n",
              "        [1. , 0. ],\n",
              "        [0.9, 0.1],\n",
              "        [0.6, 0.4],\n",
              "        [0.3, 0.7],\n",
              "        [0.3, 0.7],\n",
              "        [0. , 1. ],\n",
              "        [0.3, 0.7],\n",
              "        [0.1, 0.9],\n",
              "        [0.6, 0.4],\n",
              "        [0. , 1. ],\n",
              "        [0.7, 0.3],\n",
              "        [0. , 1. ],\n",
              "        [1. , 0. ]]))"
            ]
          },
          "metadata": {
            "tags": []
          },
          "execution_count": 7
        }
      ]
    },
    {
      "cell_type": "markdown",
      "metadata": {
        "id": "wrw9Sb1NsPyF",
        "colab_type": "text"
      },
      "source": [
        "## 4. Evaluate the model\n",
        "\n",
        "Every Scikit-Learn model has a default metric which is accessible through the `score()` function.\n",
        "\n",
        "However there are a range of different evaluation metrics you can use depending on the model you're using.\n",
        "\n",
        "A full list of evaluation metrics can be [found in the documentation](https://scikit-learn.org/stable/modules/model_evaluation.html)."
      ]
    },
    {
      "cell_type": "code",
      "metadata": {
        "id": "zA-Ug_T5sPyI",
        "colab_type": "code",
        "colab": {},
        "outputId": "65527ff2-1ef4-435f-d8cb-df2b22a4dd5e"
      },
      "source": [
        "# All models/estimators have a score() function\n",
        "clf.score(X_test, y_test)"
      ],
      "execution_count": 0,
      "outputs": [
        {
          "output_type": "execute_result",
          "data": {
            "text/plain": [
              "0.8026315789473685"
            ]
          },
          "metadata": {
            "tags": []
          },
          "execution_count": 8
        }
      ]
    },
    {
      "cell_type": "code",
      "metadata": {
        "id": "psEKjCRGsPyU",
        "colab_type": "code",
        "colab": {},
        "outputId": "960fcce9-ad4f-4501-d12d-88c9999f522f"
      },
      "source": [
        "# Evaluting a model using cross-validation is possible with cross_val_score\n",
        "from sklearn.model_selection import cross_val_score\n",
        "\n",
        "# scoring=None means default score() metric is used\n",
        "print(cross_val_score(estimator=clf, \n",
        "                      X=X, \n",
        "                      y=y, \n",
        "                      cv=5, # use 5-fold cross-validation\n",
        "                      scoring=None)) \n",
        "\n",
        "# Evaluate a model with a different scoring method\n",
        "print(cross_val_score(estimator=clf, \n",
        "                      X=X, \n",
        "                      y=y,\n",
        "                      cv=5, # use 5-fold cross-validation\n",
        "                      scoring=\"precision\"))"
      ],
      "execution_count": 0,
      "outputs": [
        {
          "output_type": "stream",
          "text": [
            "[0.78688525 0.86885246 0.7704918  0.78333333 0.81666667]\n",
            "[0.8        0.92592593 0.85185185 0.83870968 0.75      ]\n"
          ],
          "name": "stdout"
        }
      ]
    },
    {
      "cell_type": "code",
      "metadata": {
        "id": "rDQyf4d3sPyg",
        "colab_type": "code",
        "colab": {},
        "outputId": "a2f6e65c-4bfd-435e-dc33-96be07fd5340"
      },
      "source": [
        "# Different classification metrics\n",
        "\n",
        "# Accuracy\n",
        "from sklearn.metrics import accuracy_score\n",
        "print(accuracy_score(y_test, y_preds))\n",
        "\n",
        "# Reciver Operating Characteristic (ROC curve)/Area under curve (AUC)\n",
        "from sklearn.metrics import roc_curve, roc_auc_score\n",
        "false_positive_rate, true_positive_rate, thresholds = roc_curve(y_test, y_probs[:, 1])\n",
        "print(roc_auc_score(y_test, y_preds))\n",
        "\n",
        "# Confusion matrix\n",
        "from sklearn.metrics import confusion_matrix\n",
        "print(confusion_matrix(y_test, y_preds))\n",
        "\n",
        "# Classification report\n",
        "from sklearn.metrics import classification_report\n",
        "print(classification_report(y_test, y_preds))"
      ],
      "execution_count": 0,
      "outputs": [
        {
          "output_type": "stream",
          "text": [
            "0.8026315789473685\n",
            "0.804920304920305\n",
            "[[33  4]\n",
            " [11 28]]\n",
            "              precision    recall  f1-score   support\n",
            "\n",
            "           0       0.75      0.89      0.81        37\n",
            "           1       0.88      0.72      0.79        39\n",
            "\n",
            "    accuracy                           0.80        76\n",
            "   macro avg       0.81      0.80      0.80        76\n",
            "weighted avg       0.81      0.80      0.80        76\n",
            "\n"
          ],
          "name": "stdout"
        }
      ]
    },
    {
      "cell_type": "code",
      "metadata": {
        "id": "2PfQRYtTsPyv",
        "colab_type": "code",
        "colab": {},
        "outputId": "9a737443-2322-4a06-8429-01463e0f8181"
      },
      "source": [
        "# Different regression metrics\n",
        "\n",
        "# Make predictions first\n",
        "X = boston_df.drop(\"target\", axis=1)\n",
        "y = boston_df[\"target\"]\n",
        "X_train, X_test, y_train, y_test = train_test_split(X, y, test_size=0.2)\n",
        "\n",
        "model = RandomForestRegressor()\n",
        "model.fit(X_train, y_train)\n",
        "y_preds = model.predict(X_test)\n",
        "\n",
        "# R^2 (pronounced r-squared) or coefficient of determination\n",
        "from sklearn.metrics import r2_score\n",
        "print(r2_score(y_test, y_preds))\n",
        "\n",
        "# Mean absolute error (MAE)\n",
        "from sklearn.metrics import mean_absolute_error\n",
        "print(mean_absolute_error(y_test, y_preds))\n",
        "\n",
        "# Mean square error (MSE)\n",
        "from sklearn.metrics import mean_squared_error\n",
        "print(mean_squared_error(y_test, y_preds))"
      ],
      "execution_count": 0,
      "outputs": [
        {
          "output_type": "stream",
          "text": [
            "0.8987155770408454\n",
            "1.9618627450980388\n",
            "7.75367352941176\n"
          ],
          "name": "stdout"
        },
        {
          "output_type": "stream",
          "text": [
            "/Users/daniel/Desktop/ml-course/zero-to-mastery-ml/env/lib/python3.7/site-packages/sklearn/ensemble/forest.py:245: FutureWarning: The default value of n_estimators will change from 10 in version 0.20 to 100 in 0.22.\n",
            "  \"10 in version 0.20 to 100 in 0.22.\", FutureWarning)\n"
          ],
          "name": "stderr"
        }
      ]
    },
    {
      "cell_type": "markdown",
      "metadata": {
        "id": "MvHMxKyqsPy7",
        "colab_type": "text"
      },
      "source": [
        "## 5. Improve through experimentation\n",
        "\n",
        "Two of the main methods to improve a models baseline metrics (the first evaluation metrics you get).\n",
        "\n",
        "From a data perspective asks:\n",
        "* Could we collect more data? In machine learning, more data is generally better, as it gives a model more opportunities to learn patterns.\n",
        "* Could we improve our data? This could mean filling in misisng values or finding a better encoding (turning things into numbers) strategy.\n",
        "\n",
        "From a model perspective asks:\n",
        "* Is there a better model we could use? If you've started out with a simple model, could you use a more complex one? (we saw an example of this when looking at the [Scikit-Learn machine learning map](https://scikit-learn.org/stable/tutorial/machine_learning_map/index.html), ensemble methods are generally considered more complex models)\n",
        "* Could we improve the current model? If the model you're using performs well straight out of the box, can the **hyperparameters** be tuned to make it even better?\n",
        "\n",
        "**Hyperparameters** are like settings on a model you can adjust so some of the ways it uses to find patterns are altered and potentially improved. Adjusting hyperparameters is referred to as hyperparameter tuning."
      ]
    },
    {
      "cell_type": "code",
      "metadata": {
        "id": "1t7OVu-tsPy9",
        "colab_type": "code",
        "colab": {},
        "outputId": "6ea6f18d-9bd4-41bf-e412-ca180ba3f1b4"
      },
      "source": [
        "# How to find a model's hyperparameters\n",
        "clf = RandomForestClassifier()\n",
        "clf.get_params() # returns a list of adjustable hyperparameters"
      ],
      "execution_count": 0,
      "outputs": [
        {
          "output_type": "execute_result",
          "data": {
            "text/plain": [
              "{'bootstrap': True,\n",
              " 'class_weight': None,\n",
              " 'criterion': 'gini',\n",
              " 'max_depth': None,\n",
              " 'max_features': 'auto',\n",
              " 'max_leaf_nodes': None,\n",
              " 'min_impurity_decrease': 0.0,\n",
              " 'min_impurity_split': None,\n",
              " 'min_samples_leaf': 1,\n",
              " 'min_samples_split': 2,\n",
              " 'min_weight_fraction_leaf': 0.0,\n",
              " 'n_estimators': 'warn',\n",
              " 'n_jobs': None,\n",
              " 'oob_score': False,\n",
              " 'random_state': None,\n",
              " 'verbose': 0,\n",
              " 'warm_start': False}"
            ]
          },
          "metadata": {
            "tags": []
          },
          "execution_count": 12
        }
      ]
    },
    {
      "cell_type": "code",
      "metadata": {
        "id": "aIK7y_F7sPzG",
        "colab_type": "code",
        "colab": {},
        "outputId": "76f3ee41-dcc1-4f99-8f42-3138c80e8fb9"
      },
      "source": [
        "# Example of adjusting hyperparameters by hand\n",
        "\n",
        "# Split data into X & y\n",
        "X = heart_disease.drop(\"target\", axis=1) # use all columns except target\n",
        "y = heart_disease[\"target\"] # we want to predict y using X\n",
        "\n",
        "# Split data into train and test sets\n",
        "X_train, X_test, y_train, y_test = train_test_split(X, y)\n",
        "\n",
        "# Instantiate two models with different settings\n",
        "clf_1 = RandomForestClassifier(n_estimators=100)\n",
        "clf_2 = RandomForestClassifier(n_estimators=200)\n",
        "\n",
        "# Fit both models on training data\n",
        "clf_1.fit(X_train, y_train)\n",
        "clf_2.fit(X_train, y_train)\n",
        "\n",
        "# Evaluate both models on test data and see which is best\n",
        "print(clf_1.score(X_test, y_test))\n",
        "print(clf_2.score(X_test, y_test))"
      ],
      "execution_count": 0,
      "outputs": [
        {
          "output_type": "stream",
          "text": [
            "0.868421052631579\n",
            "0.8552631578947368\n"
          ],
          "name": "stdout"
        }
      ]
    },
    {
      "cell_type": "code",
      "metadata": {
        "id": "fuokue75sPzY",
        "colab_type": "code",
        "colab": {},
        "outputId": "bf657094-d8ba-4354-cfce-e670bc98b9f7"
      },
      "source": [
        "# Example of adjusting hyperparameters computationally (recommended)\n",
        "\n",
        "from sklearn.model_selection import RandomizedSearchCV\n",
        "\n",
        "# Define a grid of hyperparameters\n",
        "grid = {\"n_estimators\": [10, 100, 200, 500, 1000, 1200],\n",
        "        \"max_depth\": [None, 5, 10, 20, 30],\n",
        "        \"max_features\": [\"auto\", \"sqrt\"],\n",
        "        \"min_samples_split\": [2, 4, 6],\n",
        "        \"min_samples_leaf\": [1, 2, 4]}\n",
        "\n",
        "# Split into train and test sets\n",
        "X_train, X_test, y_train, y_test = train_test_split(X, y, test_size=0.2)\n",
        "\n",
        "# Set n_jobs to -1 to use all cores (NOTE: n_jobs=-1 is broken as of 8 Dec 2019, using n_jobs=1 works)\n",
        "clf = RandomForestClassifier(n_jobs=1)\n",
        "\n",
        "# Setup RandomizedSearchCV\n",
        "rs_clf = RandomizedSearchCV(estimator=clf,\n",
        "                            param_distributions=grid,\n",
        "                            n_iter=10, # try 10 models total\n",
        "                            cv=5, # 5-fold cross-validation\n",
        "                            verbose=2) # print out results\n",
        "\n",
        "# Fit the RandomizedSearchCV version of clf\n",
        "rs_clf.fit(X_train, y_train);\n",
        "\n",
        "# Find the best hyperparameters\n",
        "print(rs_clf.best_params_)\n",
        "\n",
        "# Scoring automatically uses the best hyperparameters\n",
        "rs_clf.score(X_test, y_test)"
      ],
      "execution_count": 0,
      "outputs": [
        {
          "output_type": "stream",
          "text": [
            "Fitting 5 folds for each of 10 candidates, totalling 50 fits\n",
            "[CV] n_estimators=100, min_samples_split=2, min_samples_leaf=2, max_features=sqrt, max_depth=10 \n",
            "[CV]  n_estimators=100, min_samples_split=2, min_samples_leaf=2, max_features=sqrt, max_depth=10, total=   0.2s\n",
            "[CV] n_estimators=100, min_samples_split=2, min_samples_leaf=2, max_features=sqrt, max_depth=10 \n"
          ],
          "name": "stdout"
        },
        {
          "output_type": "stream",
          "text": [
            "[Parallel(n_jobs=1)]: Using backend SequentialBackend with 1 concurrent workers.\n",
            "[Parallel(n_jobs=1)]: Done   1 out of   1 | elapsed:    0.2s remaining:    0.0s\n"
          ],
          "name": "stderr"
        },
        {
          "output_type": "stream",
          "text": [
            "[CV]  n_estimators=100, min_samples_split=2, min_samples_leaf=2, max_features=sqrt, max_depth=10, total=   0.2s\n",
            "[CV] n_estimators=100, min_samples_split=2, min_samples_leaf=2, max_features=sqrt, max_depth=10 \n",
            "[CV]  n_estimators=100, min_samples_split=2, min_samples_leaf=2, max_features=sqrt, max_depth=10, total=   0.1s\n",
            "[CV] n_estimators=100, min_samples_split=2, min_samples_leaf=2, max_features=sqrt, max_depth=10 \n",
            "[CV]  n_estimators=100, min_samples_split=2, min_samples_leaf=2, max_features=sqrt, max_depth=10, total=   0.1s\n",
            "[CV] n_estimators=100, min_samples_split=2, min_samples_leaf=2, max_features=sqrt, max_depth=10 \n",
            "[CV]  n_estimators=100, min_samples_split=2, min_samples_leaf=2, max_features=sqrt, max_depth=10, total=   0.2s\n",
            "[CV] n_estimators=200, min_samples_split=6, min_samples_leaf=4, max_features=auto, max_depth=None \n",
            "[CV]  n_estimators=200, min_samples_split=6, min_samples_leaf=4, max_features=auto, max_depth=None, total=   0.2s\n",
            "[CV] n_estimators=200, min_samples_split=6, min_samples_leaf=4, max_features=auto, max_depth=None \n",
            "[CV]  n_estimators=200, min_samples_split=6, min_samples_leaf=4, max_features=auto, max_depth=None, total=   0.3s\n",
            "[CV] n_estimators=200, min_samples_split=6, min_samples_leaf=4, max_features=auto, max_depth=None \n",
            "[CV]  n_estimators=200, min_samples_split=6, min_samples_leaf=4, max_features=auto, max_depth=None, total=   0.3s\n",
            "[CV] n_estimators=200, min_samples_split=6, min_samples_leaf=4, max_features=auto, max_depth=None \n",
            "[CV]  n_estimators=200, min_samples_split=6, min_samples_leaf=4, max_features=auto, max_depth=None, total=   0.3s\n",
            "[CV] n_estimators=200, min_samples_split=6, min_samples_leaf=4, max_features=auto, max_depth=None \n",
            "[CV]  n_estimators=200, min_samples_split=6, min_samples_leaf=4, max_features=auto, max_depth=None, total=   0.2s\n",
            "[CV] n_estimators=10, min_samples_split=4, min_samples_leaf=4, max_features=sqrt, max_depth=20 \n",
            "[CV]  n_estimators=10, min_samples_split=4, min_samples_leaf=4, max_features=sqrt, max_depth=20, total=   0.0s\n",
            "[CV] n_estimators=10, min_samples_split=4, min_samples_leaf=4, max_features=sqrt, max_depth=20 \n",
            "[CV]  n_estimators=10, min_samples_split=4, min_samples_leaf=4, max_features=sqrt, max_depth=20, total=   0.0s\n",
            "[CV] n_estimators=10, min_samples_split=4, min_samples_leaf=4, max_features=sqrt, max_depth=20 \n",
            "[CV]  n_estimators=10, min_samples_split=4, min_samples_leaf=4, max_features=sqrt, max_depth=20, total=   0.0s\n",
            "[CV] n_estimators=10, min_samples_split=4, min_samples_leaf=4, max_features=sqrt, max_depth=20 \n",
            "[CV]  n_estimators=10, min_samples_split=4, min_samples_leaf=4, max_features=sqrt, max_depth=20, total=   0.0s\n",
            "[CV] n_estimators=10, min_samples_split=4, min_samples_leaf=4, max_features=sqrt, max_depth=20 \n",
            "[CV]  n_estimators=10, min_samples_split=4, min_samples_leaf=4, max_features=sqrt, max_depth=20, total=   0.0s\n",
            "[CV] n_estimators=10, min_samples_split=2, min_samples_leaf=4, max_features=auto, max_depth=20 \n",
            "[CV]  n_estimators=10, min_samples_split=2, min_samples_leaf=4, max_features=auto, max_depth=20, total=   0.0s\n",
            "[CV] n_estimators=10, min_samples_split=2, min_samples_leaf=4, max_features=auto, max_depth=20 \n",
            "[CV]  n_estimators=10, min_samples_split=2, min_samples_leaf=4, max_features=auto, max_depth=20, total=   0.0s\n",
            "[CV] n_estimators=10, min_samples_split=2, min_samples_leaf=4, max_features=auto, max_depth=20 \n",
            "[CV]  n_estimators=10, min_samples_split=2, min_samples_leaf=4, max_features=auto, max_depth=20, total=   0.0s\n",
            "[CV] n_estimators=10, min_samples_split=2, min_samples_leaf=4, max_features=auto, max_depth=20 \n",
            "[CV]  n_estimators=10, min_samples_split=2, min_samples_leaf=4, max_features=auto, max_depth=20, total=   0.0s\n",
            "[CV] n_estimators=10, min_samples_split=2, min_samples_leaf=4, max_features=auto, max_depth=20 \n",
            "[CV]  n_estimators=10, min_samples_split=2, min_samples_leaf=4, max_features=auto, max_depth=20, total=   0.0s\n",
            "[CV] n_estimators=100, min_samples_split=6, min_samples_leaf=1, max_features=sqrt, max_depth=20 \n",
            "[CV]  n_estimators=100, min_samples_split=6, min_samples_leaf=1, max_features=sqrt, max_depth=20, total=   0.1s\n",
            "[CV] n_estimators=100, min_samples_split=6, min_samples_leaf=1, max_features=sqrt, max_depth=20 \n",
            "[CV]  n_estimators=100, min_samples_split=6, min_samples_leaf=1, max_features=sqrt, max_depth=20, total=   0.1s\n",
            "[CV] n_estimators=100, min_samples_split=6, min_samples_leaf=1, max_features=sqrt, max_depth=20 \n",
            "[CV]  n_estimators=100, min_samples_split=6, min_samples_leaf=1, max_features=sqrt, max_depth=20, total=   0.1s\n",
            "[CV] n_estimators=100, min_samples_split=6, min_samples_leaf=1, max_features=sqrt, max_depth=20 \n",
            "[CV]  n_estimators=100, min_samples_split=6, min_samples_leaf=1, max_features=sqrt, max_depth=20, total=   0.1s\n",
            "[CV] n_estimators=100, min_samples_split=6, min_samples_leaf=1, max_features=sqrt, max_depth=20 \n",
            "[CV]  n_estimators=100, min_samples_split=6, min_samples_leaf=1, max_features=sqrt, max_depth=20, total=   0.1s\n",
            "[CV] n_estimators=1000, min_samples_split=4, min_samples_leaf=2, max_features=auto, max_depth=5 \n",
            "[CV]  n_estimators=1000, min_samples_split=4, min_samples_leaf=2, max_features=auto, max_depth=5, total=   1.4s\n",
            "[CV] n_estimators=1000, min_samples_split=4, min_samples_leaf=2, max_features=auto, max_depth=5 \n",
            "[CV]  n_estimators=1000, min_samples_split=4, min_samples_leaf=2, max_features=auto, max_depth=5, total=   1.5s\n",
            "[CV] n_estimators=1000, min_samples_split=4, min_samples_leaf=2, max_features=auto, max_depth=5 \n",
            "[CV]  n_estimators=1000, min_samples_split=4, min_samples_leaf=2, max_features=auto, max_depth=5, total=   1.4s\n",
            "[CV] n_estimators=1000, min_samples_split=4, min_samples_leaf=2, max_features=auto, max_depth=5 \n",
            "[CV]  n_estimators=1000, min_samples_split=4, min_samples_leaf=2, max_features=auto, max_depth=5, total=   1.9s\n",
            "[CV] n_estimators=1000, min_samples_split=4, min_samples_leaf=2, max_features=auto, max_depth=5 \n",
            "[CV]  n_estimators=1000, min_samples_split=4, min_samples_leaf=2, max_features=auto, max_depth=5, total=   2.2s\n",
            "[CV] n_estimators=1000, min_samples_split=4, min_samples_leaf=1, max_features=auto, max_depth=None \n",
            "[CV]  n_estimators=1000, min_samples_split=4, min_samples_leaf=1, max_features=auto, max_depth=None, total=   2.8s\n",
            "[CV] n_estimators=1000, min_samples_split=4, min_samples_leaf=1, max_features=auto, max_depth=None \n",
            "[CV]  n_estimators=1000, min_samples_split=4, min_samples_leaf=1, max_features=auto, max_depth=None, total=   1.7s\n",
            "[CV] n_estimators=1000, min_samples_split=4, min_samples_leaf=1, max_features=auto, max_depth=None \n",
            "[CV]  n_estimators=1000, min_samples_split=4, min_samples_leaf=1, max_features=auto, max_depth=None, total=   1.6s\n",
            "[CV] n_estimators=1000, min_samples_split=4, min_samples_leaf=1, max_features=auto, max_depth=None \n",
            "[CV]  n_estimators=1000, min_samples_split=4, min_samples_leaf=1, max_features=auto, max_depth=None, total=   1.3s\n",
            "[CV] n_estimators=1000, min_samples_split=4, min_samples_leaf=1, max_features=auto, max_depth=None \n",
            "[CV]  n_estimators=1000, min_samples_split=4, min_samples_leaf=1, max_features=auto, max_depth=None, total=   2.0s\n",
            "[CV] n_estimators=500, min_samples_split=2, min_samples_leaf=2, max_features=sqrt, max_depth=10 \n",
            "[CV]  n_estimators=500, min_samples_split=2, min_samples_leaf=2, max_features=sqrt, max_depth=10, total=   0.6s\n",
            "[CV] n_estimators=500, min_samples_split=2, min_samples_leaf=2, max_features=sqrt, max_depth=10 \n",
            "[CV]  n_estimators=500, min_samples_split=2, min_samples_leaf=2, max_features=sqrt, max_depth=10, total=   0.6s\n",
            "[CV] n_estimators=500, min_samples_split=2, min_samples_leaf=2, max_features=sqrt, max_depth=10 \n",
            "[CV]  n_estimators=500, min_samples_split=2, min_samples_leaf=2, max_features=sqrt, max_depth=10, total=   1.1s\n",
            "[CV] n_estimators=500, min_samples_split=2, min_samples_leaf=2, max_features=sqrt, max_depth=10 \n",
            "[CV]  n_estimators=500, min_samples_split=2, min_samples_leaf=2, max_features=sqrt, max_depth=10, total=   0.7s\n",
            "[CV] n_estimators=500, min_samples_split=2, min_samples_leaf=2, max_features=sqrt, max_depth=10 \n",
            "[CV]  n_estimators=500, min_samples_split=2, min_samples_leaf=2, max_features=sqrt, max_depth=10, total=   0.6s\n",
            "[CV] n_estimators=1200, min_samples_split=6, min_samples_leaf=4, max_features=auto, max_depth=30 \n",
            "[CV]  n_estimators=1200, min_samples_split=6, min_samples_leaf=4, max_features=auto, max_depth=30, total=   1.4s\n",
            "[CV] n_estimators=1200, min_samples_split=6, min_samples_leaf=4, max_features=auto, max_depth=30 \n"
          ],
          "name": "stdout"
        },
        {
          "output_type": "stream",
          "text": [
            "[CV]  n_estimators=1200, min_samples_split=6, min_samples_leaf=4, max_features=auto, max_depth=30, total=   1.4s\n",
            "[CV] n_estimators=1200, min_samples_split=6, min_samples_leaf=4, max_features=auto, max_depth=30 \n",
            "[CV]  n_estimators=1200, min_samples_split=6, min_samples_leaf=4, max_features=auto, max_depth=30, total=   1.3s\n",
            "[CV] n_estimators=1200, min_samples_split=6, min_samples_leaf=4, max_features=auto, max_depth=30 \n",
            "[CV]  n_estimators=1200, min_samples_split=6, min_samples_leaf=4, max_features=auto, max_depth=30, total=   1.3s\n",
            "[CV] n_estimators=1200, min_samples_split=6, min_samples_leaf=4, max_features=auto, max_depth=30 \n",
            "[CV]  n_estimators=1200, min_samples_split=6, min_samples_leaf=4, max_features=auto, max_depth=30, total=   1.3s\n",
            "[CV] n_estimators=10, min_samples_split=2, min_samples_leaf=4, max_features=auto, max_depth=30 \n",
            "[CV]  n_estimators=10, min_samples_split=2, min_samples_leaf=4, max_features=auto, max_depth=30, total=   0.0s\n",
            "[CV] n_estimators=10, min_samples_split=2, min_samples_leaf=4, max_features=auto, max_depth=30 \n",
            "[CV]  n_estimators=10, min_samples_split=2, min_samples_leaf=4, max_features=auto, max_depth=30, total=   0.0s\n",
            "[CV] n_estimators=10, min_samples_split=2, min_samples_leaf=4, max_features=auto, max_depth=30 \n",
            "[CV]  n_estimators=10, min_samples_split=2, min_samples_leaf=4, max_features=auto, max_depth=30, total=   0.0s\n",
            "[CV] n_estimators=10, min_samples_split=2, min_samples_leaf=4, max_features=auto, max_depth=30 \n",
            "[CV]  n_estimators=10, min_samples_split=2, min_samples_leaf=4, max_features=auto, max_depth=30, total=   0.0s\n",
            "[CV] n_estimators=10, min_samples_split=2, min_samples_leaf=4, max_features=auto, max_depth=30 \n",
            "[CV]  n_estimators=10, min_samples_split=2, min_samples_leaf=4, max_features=auto, max_depth=30, total=   0.0s\n"
          ],
          "name": "stdout"
        },
        {
          "output_type": "stream",
          "text": [
            "[Parallel(n_jobs=1)]: Done  50 out of  50 | elapsed:   31.0s finished\n",
            "/Users/daniel/Desktop/ml-course/zero-to-mastery-ml/env/lib/python3.7/site-packages/sklearn/model_selection/_search.py:814: DeprecationWarning: The default of the `iid` parameter will change from True to False in version 0.22 and will be removed in 0.24. This will change numeric results when test-set sizes are unequal.\n",
            "  DeprecationWarning)\n"
          ],
          "name": "stderr"
        },
        {
          "output_type": "stream",
          "text": [
            "{'n_estimators': 1000, 'min_samples_split': 4, 'min_samples_leaf': 2, 'max_features': 'auto', 'max_depth': 5}\n"
          ],
          "name": "stdout"
        },
        {
          "output_type": "execute_result",
          "data": {
            "text/plain": [
              "0.819672131147541"
            ]
          },
          "metadata": {
            "tags": []
          },
          "execution_count": 14
        }
      ]
    },
    {
      "cell_type": "markdown",
      "metadata": {
        "id": "WCk4KV77sPzk",
        "colab_type": "text"
      },
      "source": [
        "## 6. Save and reload your trained model\n",
        "You can save and load a model with `pickle`."
      ]
    },
    {
      "cell_type": "code",
      "metadata": {
        "id": "7ROaZn1bsPzn",
        "colab_type": "code",
        "colab": {}
      },
      "source": [
        "# Saving a model with pickle\n",
        "import pickle\n",
        "\n",
        "# Save an existing model to file\n",
        "pickle.dump(rs_clf, open(\"rs_random_forest_model_1.pkl\", \"wb\"))"
      ],
      "execution_count": 0,
      "outputs": []
    },
    {
      "cell_type": "code",
      "metadata": {
        "id": "XZoOlKyXsPzy",
        "colab_type": "code",
        "colab": {},
        "outputId": "9aa2fa4c-cca7-405c-b246-c8386681ef71"
      },
      "source": [
        "# Load a saved pickle model\n",
        "loaded_pickle_model = pickle.load(open(\"rs_random_forest_model_1.pkl\", \"rb\"))\n",
        "\n",
        "# Evaluate loaded model\n",
        "loaded_pickle_model.score(X_test, y_test)"
      ],
      "execution_count": 0,
      "outputs": [
        {
          "output_type": "execute_result",
          "data": {
            "text/plain": [
              "0.819672131147541"
            ]
          },
          "metadata": {
            "tags": []
          },
          "execution_count": 16
        }
      ]
    },
    {
      "cell_type": "markdown",
      "metadata": {
        "id": "czusKRzpsPz7",
        "colab_type": "text"
      },
      "source": [
        "You can do the same with `joblib`. `joblib` is usually more efficient with numerical data (what our models are)."
      ]
    },
    {
      "cell_type": "code",
      "metadata": {
        "id": "sr_9NzejsPz9",
        "colab_type": "code",
        "colab": {},
        "outputId": "c373d03f-ad5d-4237-94d8-1ff0e33001e1"
      },
      "source": [
        "# Saving a model with joblib\n",
        "from joblib import dump, load\n",
        "\n",
        "# Save a model to file\n",
        "dump(rs_clf, filename=\"gs_random_forest_model_1.joblib\") "
      ],
      "execution_count": 0,
      "outputs": [
        {
          "output_type": "execute_result",
          "data": {
            "text/plain": [
              "['gs_random_forest_model_1.joblib']"
            ]
          },
          "metadata": {
            "tags": []
          },
          "execution_count": 17
        }
      ]
    },
    {
      "cell_type": "code",
      "metadata": {
        "id": "2OO4udGVsP0K",
        "colab_type": "code",
        "colab": {}
      },
      "source": [
        "# Import a saved joblib model\n",
        "loaded_joblib_model = load(filename=\"gs_random_forest_model_1.joblib\")"
      ],
      "execution_count": 0,
      "outputs": []
    },
    {
      "cell_type": "code",
      "metadata": {
        "id": "N4TTifpzsP0U",
        "colab_type": "code",
        "colab": {},
        "outputId": "ce703138-3926-43b0-91e7-dd46fe46e380"
      },
      "source": [
        "# Evaluate joblib predictions \n",
        "loaded_joblib_model.score(X_test, y_test)"
      ],
      "execution_count": 0,
      "outputs": [
        {
          "output_type": "execute_result",
          "data": {
            "text/plain": [
              "0.819672131147541"
            ]
          },
          "metadata": {
            "tags": []
          },
          "execution_count": 19
        }
      ]
    },
    {
      "cell_type": "markdown",
      "metadata": {
        "id": "m_PsT8LlsP0i",
        "colab_type": "text"
      },
      "source": [
        "## 7. Putting it all together (not pictured)\n",
        "\n",
        "We can put a number of different Scikit-Learn functions together using `Pipeline`.\n",
        "\n",
        "As an example, we'll use `car-sales-extended-missing-data.csv`. Which has missing data as well as non-numeric data. For a machine learning model to work, there can be no missing data or non-numeric values.\n",
        "\n",
        "The problem we're solving here is predicting a cars sales price given a number of parameters about the car (a regression problem)."
      ]
    },
    {
      "cell_type": "code",
      "metadata": {
        "id": "iqg8jCZLsP0k",
        "colab_type": "code",
        "colab": {},
        "outputId": "254b065a-0cc6-4a30-e35f-770cfd59d302"
      },
      "source": [
        "# Getting data ready\n",
        "import pandas as pd\n",
        "from sklearn.compose import ColumnTransformer\n",
        "from sklearn.pipeline import Pipeline\n",
        "from sklearn.impute import SimpleImputer\n",
        "from sklearn.preprocessing import OneHotEncoder\n",
        "\n",
        "# Modelling\n",
        "from sklearn.ensemble import RandomForestRegressor\n",
        "from sklearn.model_selection import train_test_split, GridSearchCV\n",
        "\n",
        "# Setup random seed\n",
        "import numpy as np\n",
        "np.random.seed(42)\n",
        "\n",
        "# Import data and drop the rows with missing labels\n",
        "data = pd.read_csv(\"../data/car-sales-extended-missing-data.csv\")\n",
        "data.dropna(subset=[\"Price\"], inplace=True)\n",
        "\n",
        "# Define different features and transformer pipelines\n",
        "categorical_features = [\"Make\", \"Colour\"]\n",
        "categorical_transformer = Pipeline(steps=[\n",
        "    (\"imputer\", SimpleImputer(strategy=\"constant\", fill_value=\"missing\")),\n",
        "    (\"onehot\", OneHotEncoder(handle_unknown=\"ignore\"))])\n",
        "\n",
        "door_feature = [\"Doors\"]\n",
        "door_transformer = Pipeline(steps=[\n",
        "    (\"imputer\", SimpleImputer(strategy=\"constant\", fill_value=4))])\n",
        "\n",
        "numeric_features = [\"Odometer (KM)\"]\n",
        "numeric_transformer = Pipeline(steps=[\n",
        "    (\"imputer\", SimpleImputer(strategy=\"mean\"))\n",
        "])\n",
        "\n",
        "# Setup preprocessing steps (fill missing values, then convert to numbers)\n",
        "preprocessor = ColumnTransformer(\n",
        "    transformers=[\n",
        "        (\"cat\", categorical_transformer, categorical_features),\n",
        "        (\"door\", door_transformer, door_feature),\n",
        "        (\"num\", numeric_transformer, numeric_features)])\n",
        "\n",
        "# Create a preprocessing and modelling pipeline\n",
        "model = Pipeline(steps=[(\"preprocessor\", preprocessor),\n",
        "                        (\"model\", RandomForestRegressor())])\n",
        "\n",
        "# Split data\n",
        "X = data.drop(\"Price\", axis=1)\n",
        "y = data[\"Price\"]\n",
        "X_train, X_test, y_train, y_test = train_test_split(X, y, test_size=0.2)\n",
        "\n",
        "# Fit and score the model\n",
        "model.fit(X_train, y_train)\n",
        "model.score(X_test, y_test)"
      ],
      "execution_count": 0,
      "outputs": [
        {
          "output_type": "stream",
          "text": [
            "/Users/daniel/Desktop/ml-course/zero-to-mastery-ml/env/lib/python3.7/site-packages/sklearn/ensemble/forest.py:245: FutureWarning: The default value of n_estimators will change from 10 in version 0.20 to 100 in 0.22.\n",
            "  \"10 in version 0.20 to 100 in 0.22.\", FutureWarning)\n"
          ],
          "name": "stderr"
        },
        {
          "output_type": "execute_result",
          "data": {
            "text/plain": [
              "0.1821575815702311"
            ]
          },
          "metadata": {
            "tags": []
          },
          "execution_count": 20
        }
      ]
    }
  ]
}