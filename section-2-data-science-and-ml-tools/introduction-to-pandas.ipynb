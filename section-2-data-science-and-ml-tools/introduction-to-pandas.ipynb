{
  "nbformat": 4,
  "nbformat_minor": 0,
  "metadata": {
    "kernelspec": {
      "display_name": "Python 3",
      "language": "python",
      "name": "python3"
    },
    "language_info": {
      "codemirror_mode": {
        "name": "ipython",
        "version": 3
      },
      "file_extension": ".py",
      "mimetype": "text/x-python",
      "name": "python",
      "nbconvert_exporter": "python",
      "pygments_lexer": "ipython3",
      "version": "3.7.6"
    },
    "colab": {
      "name": "introduction-to-pandas.ipynb",
      "provenance": [],
      "include_colab_link": true
    }
  },
  "cells": [
    {
      "cell_type": "markdown",
      "metadata": {
        "id": "view-in-github",
        "colab_type": "text"
      },
      "source": [
        "<a href=\"https://colab.research.google.com/github/ras783/zero-to-mastery-ml/blob/master/section-2-data-science-and-ml-tools/introduction-to-pandas.ipynb\" target=\"_parent\"><img src=\"https://colab.research.google.com/assets/colab-badge.svg\" alt=\"Open In Colab\"/></a>"
      ]
    },
    {
      "cell_type": "markdown",
      "metadata": {
        "id": "eSJVnUQ84rKF",
        "colab_type": "text"
      },
      "source": [
        "# A Quick Introduction to Data Analysis and Manipulation with Python and pandas\n",
        "\n",
        "\n",
        "## What is pandas?\n",
        "\n",
        "If you're getting into machine learning and data science and you're using Python, you're going to use pandas.\n",
        "\n",
        "[pandas](https://pandas.pydata.org/) is an open source library which helps you analyse and manipulate data.\n",
        "\n",
        "<img src=\"https://github.com/ras783/zero-to-mastery-ml/blob/master/images/pandas-6-step-ml-framework-tools-highlight.png?raw=1\" alt=\"a 6 step machine learning framework along will tools you can use for each step\" width=\"700\"/>\n",
        "\n",
        "## Why pandas?\n",
        "\n",
        "pandas provides a simple to use but very capable set of functions you can use to on your data.\n",
        "\n",
        "It's integrated with many other data science and machine learning tools which use Python so having an understanding of it will be helpful throughout your journey.\n",
        "\n",
        "One of the main use cases you'll come across is using pandas to transform your data in a way which makes it usable with machine learning algorithms.\n",
        "\n",
        "## What does this notebook cover?\n",
        "\n",
        "Because the pandas library is vast, there's often many ways to do the same thing. This notebook covers some of the most fundamental functions of the library, which are more than enough to get started.\n",
        "\n",
        "## Where can I get help?\n",
        "If you get stuck or think of something you'd like to do which this notebook doesn't cover, don't fear!\n",
        "\n",
        "The recommended steps you take are:\n",
        "1. **Try it** - Since pandas is very friendly, your first step should be to use what you know and try figure out the answer to your own question (getting it wrong is part of the process). If in doubt, run your code.\n",
        "2. **Search for it** - If trying it on your own doesn't work, since someone else has probably tried to do something similar, try searching for your problem. You'll likely end up in 1 of 2 places:\n",
        "    * [pandas documentation](https://pandas.pydata.org/pandas-docs/version/0.25/) - the best place for learning pandas, this resource covers all of the pandas functionality.\n",
        "    * [Stack Overflow](https://stackoverflow.com/) - this is the developers Q&A hub, it's full of questions and answers of different problems across a wide range of software development topics and chances are, there's one related to your problem.\n",
        "    \n",
        "An example of searching for a pandas function might be:\n",
        "\n",
        "> \"how to fill all the missing values of two columns using pandas\"\n",
        "\n",
        "Searching this on Google leads to this post on Stack Overflow: https://stackoverflow.com/questions/36556256/how-do-i-fill-na-values-in-multiple-columns-in-pandas\n",
        "\n",
        "The next steps here are to read through the post and see if it relates to your problem. If it does, great, take the code/information you need and **rewrite it** to suit your own problem.\n",
        "\n",
        "3. **Ask for help** - If you've been through the above 2 steps and you're still stuck, you might want to ask your question on Stack Overflow. Remember to be specific as possible and provide details on what you've tried.\n",
        "\n",
        "Remember, you don't have to learn all of these functions off by heart to begin with. \n",
        "\n",
        "What's most important is remembering to continually ask yourself, \"what am I trying to do with the data?\".\n",
        "\n",
        "Start by answering that question and then practicing finding the code which does it.\n",
        "\n",
        "Let's get started."
      ]
    },
    {
      "cell_type": "markdown",
      "metadata": {
        "id": "VGGLGx_h4rKI",
        "colab_type": "text"
      },
      "source": [
        "## 0. Importing pandas\n",
        "\n",
        "To get started using pandas, the first step is to import it. \n",
        "\n",
        "The most common way (and method you should use) is to import pandas as the abbreviation `pd`.\n",
        "\n",
        "If you see the letters `pd` used anywhere in machine learning or data science, it's probably referring to the pandas library."
      ]
    },
    {
      "cell_type": "code",
      "metadata": {
        "id": "nD73GDsl4rKJ",
        "colab_type": "code",
        "colab": {}
      },
      "source": [
        "import pandas as pd"
      ],
      "execution_count": 0,
      "outputs": []
    },
    {
      "cell_type": "code",
      "metadata": {
        "id": "KXJlm8DW4yN8",
        "colab_type": "code",
        "outputId": "27bfde8b-2e2b-4ab5-cf26-4ab2ddf260c9",
        "colab": {
          "base_uri": "https://localhost:8080/",
          "height": 34
        }
      },
      "source": [
        "from google.colab import drive\n",
        "drive.mount('/content/drive')"
      ],
      "execution_count": 138,
      "outputs": [
        {
          "output_type": "stream",
          "text": [
            "Drive already mounted at /content/drive; to attempt to forcibly remount, call drive.mount(\"/content/drive\", force_remount=True).\n"
          ],
          "name": "stdout"
        }
      ]
    },
    {
      "cell_type": "code",
      "metadata": {
        "id": "vw3MDo3c4zTf",
        "colab_type": "code",
        "outputId": "2e606751-8ae1-45d9-bdd9-f2342f0565ae",
        "colab": {
          "base_uri": "https://localhost:8080/",
          "height": 34
        }
      },
      "source": [
        "cd '/content/drive/My Drive/Colab Notebooks/zero-to-mastery-ml'"
      ],
      "execution_count": 139,
      "outputs": [
        {
          "output_type": "stream",
          "text": [
            "/content/drive/My Drive/Colab Notebooks/zero-to-mastery-ml\n"
          ],
          "name": "stdout"
        }
      ]
    },
    {
      "cell_type": "markdown",
      "metadata": {
        "id": "ZfpnXj584rKQ",
        "colab_type": "text"
      },
      "source": [
        "## 1. Datatypes\n",
        "\n",
        "pandas has two main datatypes, `Series` and `DataFrame`.\n",
        "* `Series` - a 1-dimensional column of data.\n",
        "* `DataFrame` (most common) - a 2-dimesional table of data with rows and columns.\n",
        "\n",
        "You can create a `Series` using `pd.Series()` and passing it a Python list."
      ]
    },
    {
      "cell_type": "code",
      "metadata": {
        "id": "OfwUiFNu4rKR",
        "colab_type": "code",
        "outputId": "de37e280-a216-4f49-c95c-6b5ffb2a5be5",
        "colab": {
          "base_uri": "https://localhost:8080/",
          "height": 85
        }
      },
      "source": [
        "# Creating a series of car types\n",
        "cars = pd.Series([\"BMW\", \"Toyota\", \"Honda\"])\n",
        "cars"
      ],
      "execution_count": 140,
      "outputs": [
        {
          "output_type": "execute_result",
          "data": {
            "text/plain": [
              "0       BMW\n",
              "1    Toyota\n",
              "2     Honda\n",
              "dtype: object"
            ]
          },
          "metadata": {
            "tags": []
          },
          "execution_count": 140
        }
      ]
    },
    {
      "cell_type": "code",
      "metadata": {
        "id": "6j4CahPU4rKW",
        "colab_type": "code",
        "outputId": "2a51df67-3844-41c7-cb38-79eab4120594",
        "colab": {
          "base_uri": "https://localhost:8080/",
          "height": 85
        }
      },
      "source": [
        "# Creating a series of colours\n",
        "colours = pd.Series([\"Blue\", \"Red\", \"White\"])\n",
        "colours"
      ],
      "execution_count": 141,
      "outputs": [
        {
          "output_type": "execute_result",
          "data": {
            "text/plain": [
              "0     Blue\n",
              "1      Red\n",
              "2    White\n",
              "dtype: object"
            ]
          },
          "metadata": {
            "tags": []
          },
          "execution_count": 141
        }
      ]
    },
    {
      "cell_type": "markdown",
      "metadata": {
        "id": "kok0Qd7Y4rKc",
        "colab_type": "text"
      },
      "source": [
        "You can create a `DataFrame` by using `pd.DataFrame()` and passing it a Python dictionary.\n",
        "\n",
        "Let's use our two `Series` as the values."
      ]
    },
    {
      "cell_type": "code",
      "metadata": {
        "id": "rppTDP_e4rKd",
        "colab_type": "code",
        "colab": {}
      },
      "source": [
        "# Creating a DataFrame of cars and colours\n",
        "car_data = pd.DataFrame({\"Car type\": cars, \n",
        "                         \"Colour\": colours})"
      ],
      "execution_count": 0,
      "outputs": []
    },
    {
      "cell_type": "code",
      "metadata": {
        "id": "EzrzVzML4rKj",
        "colab_type": "code",
        "outputId": "2cc6e3fa-1dba-4407-e961-b93dbc4f9e26",
        "colab": {
          "base_uri": "https://localhost:8080/",
          "height": 142
        }
      },
      "source": [
        "car_data"
      ],
      "execution_count": 143,
      "outputs": [
        {
          "output_type": "execute_result",
          "data": {
            "text/html": [
              "<div>\n",
              "<style scoped>\n",
              "    .dataframe tbody tr th:only-of-type {\n",
              "        vertical-align: middle;\n",
              "    }\n",
              "\n",
              "    .dataframe tbody tr th {\n",
              "        vertical-align: top;\n",
              "    }\n",
              "\n",
              "    .dataframe thead th {\n",
              "        text-align: right;\n",
              "    }\n",
              "</style>\n",
              "<table border=\"1\" class=\"dataframe\">\n",
              "  <thead>\n",
              "    <tr style=\"text-align: right;\">\n",
              "      <th></th>\n",
              "      <th>Car type</th>\n",
              "      <th>Colour</th>\n",
              "    </tr>\n",
              "  </thead>\n",
              "  <tbody>\n",
              "    <tr>\n",
              "      <th>0</th>\n",
              "      <td>BMW</td>\n",
              "      <td>Blue</td>\n",
              "    </tr>\n",
              "    <tr>\n",
              "      <th>1</th>\n",
              "      <td>Toyota</td>\n",
              "      <td>Red</td>\n",
              "    </tr>\n",
              "    <tr>\n",
              "      <th>2</th>\n",
              "      <td>Honda</td>\n",
              "      <td>White</td>\n",
              "    </tr>\n",
              "  </tbody>\n",
              "</table>\n",
              "</div>"
            ],
            "text/plain": [
              "  Car type Colour\n",
              "0      BMW   Blue\n",
              "1   Toyota    Red\n",
              "2    Honda  White"
            ]
          },
          "metadata": {
            "tags": []
          },
          "execution_count": 143
        }
      ]
    },
    {
      "cell_type": "markdown",
      "metadata": {
        "id": "d6XwoYMa4rKo",
        "colab_type": "text"
      },
      "source": [
        "You can see the keys of the dictionary became the column headings (text in bold) and the values of the two `Series`'s became the values in the DataFrame.\n",
        "\n",
        "It's important to note, many different types of data could go into the DataFrame. \n",
        "\n",
        "Here we've used only text but you could use floats, integers and more."
      ]
    },
    {
      "cell_type": "markdown",
      "metadata": {
        "id": "8-Fdkxdc4rKp",
        "colab_type": "text"
      },
      "source": [
        "### Exercises\n",
        "\n",
        "1. Make a `Series` of different foods.\n",
        "2. Make a `Series` of different dollar values (these can be integers).\n",
        "3. Combine your `Series`'s of foods and dollar values into a `DataFrame`.\n",
        "\n",
        "Try it out for yourself first, then see how your code goes against the solution.\n",
        "\n",
        "**Note:** Make sure your two `Series` are the same size before combining them in a DataFrame."
      ]
    },
    {
      "cell_type": "code",
      "metadata": {
        "id": "-k9tOPux4rKr",
        "colab_type": "code",
        "colab": {}
      },
      "source": [
        "# Your code here"
      ],
      "execution_count": 0,
      "outputs": []
    },
    {
      "cell_type": "code",
      "metadata": {
        "id": "LXyE72Kb4rKx",
        "colab_type": "code",
        "outputId": "64275f92-9f3a-41f2-9059-49cb55fd371f",
        "colab": {
          "base_uri": "https://localhost:8080/",
          "height": 142
        }
      },
      "source": [
        "# Example solution\n",
        "\n",
        "# Make a Series of different foods\n",
        "foods = pd.Series([\"Almond butter\", \"Eggs\", \"Avocado\"])\n",
        "\n",
        "# Make a Series of different dollar values \n",
        "prices = pd.Series([9, 6, 2])\n",
        "\n",
        "# Combine your Series of foods and dollar values into a DataFrame\n",
        "food_data = pd.DataFrame({\"Foods\": foods,\n",
        "                          \"Price\": prices})\n",
        "\n",
        "food_data"
      ],
      "execution_count": 145,
      "outputs": [
        {
          "output_type": "execute_result",
          "data": {
            "text/html": [
              "<div>\n",
              "<style scoped>\n",
              "    .dataframe tbody tr th:only-of-type {\n",
              "        vertical-align: middle;\n",
              "    }\n",
              "\n",
              "    .dataframe tbody tr th {\n",
              "        vertical-align: top;\n",
              "    }\n",
              "\n",
              "    .dataframe thead th {\n",
              "        text-align: right;\n",
              "    }\n",
              "</style>\n",
              "<table border=\"1\" class=\"dataframe\">\n",
              "  <thead>\n",
              "    <tr style=\"text-align: right;\">\n",
              "      <th></th>\n",
              "      <th>Foods</th>\n",
              "      <th>Price</th>\n",
              "    </tr>\n",
              "  </thead>\n",
              "  <tbody>\n",
              "    <tr>\n",
              "      <th>0</th>\n",
              "      <td>Almond butter</td>\n",
              "      <td>9</td>\n",
              "    </tr>\n",
              "    <tr>\n",
              "      <th>1</th>\n",
              "      <td>Eggs</td>\n",
              "      <td>6</td>\n",
              "    </tr>\n",
              "    <tr>\n",
              "      <th>2</th>\n",
              "      <td>Avocado</td>\n",
              "      <td>2</td>\n",
              "    </tr>\n",
              "  </tbody>\n",
              "</table>\n",
              "</div>"
            ],
            "text/plain": [
              "           Foods  Price\n",
              "0  Almond butter      9\n",
              "1           Eggs      6\n",
              "2        Avocado      2"
            ]
          },
          "metadata": {
            "tags": []
          },
          "execution_count": 145
        }
      ]
    },
    {
      "cell_type": "markdown",
      "metadata": {
        "id": "HhDJgJK94rK0",
        "colab_type": "text"
      },
      "source": [
        "## 2. Importing data\n",
        "\n",
        "Creating `Series` and `DataFrame`'s from scratch is nice but what you'll usually be doing is importing your data in the form of a `.csv` (comma separated value) or spreadsheet file.\n",
        "\n",
        "pandas allows for easy importing of data like this through functions such as `pd.read_csv()` and `pd.read_excel()` (for Microsoft Excel files).\n",
        "\n",
        "Say you wanted to get this information from this Google Sheet document into a pandas `DataFrame`. \n",
        "\n",
        "<img src=\"https://github.com/ras783/zero-to-mastery-ml/blob/master/images/pandas-car-sales-csv.png?raw=1\" alt=\"spreadsheet with car sales information\" width=\"600\">\n",
        "\n",
        "You could export it as a `.csv` file and then import it using `pd.read_csv()`.\n",
        "\n",
        "In this case, the exported `.csv` file is called `car-sales.csv`."
      ]
    },
    {
      "cell_type": "code",
      "metadata": {
        "id": "nCbBGhkn4rK1",
        "colab_type": "code",
        "outputId": "daed369e-5d82-4d5c-f201-70494c132477",
        "colab": {
          "base_uri": "https://localhost:8080/",
          "height": 359
        }
      },
      "source": [
        "# Import car sales data\n",
        "car_sales = pd.read_csv(\"data/car-sales.csv\") # takes a filename as string as input\n",
        "car_sales"
      ],
      "execution_count": 146,
      "outputs": [
        {
          "output_type": "execute_result",
          "data": {
            "text/html": [
              "<div>\n",
              "<style scoped>\n",
              "    .dataframe tbody tr th:only-of-type {\n",
              "        vertical-align: middle;\n",
              "    }\n",
              "\n",
              "    .dataframe tbody tr th {\n",
              "        vertical-align: top;\n",
              "    }\n",
              "\n",
              "    .dataframe thead th {\n",
              "        text-align: right;\n",
              "    }\n",
              "</style>\n",
              "<table border=\"1\" class=\"dataframe\">\n",
              "  <thead>\n",
              "    <tr style=\"text-align: right;\">\n",
              "      <th></th>\n",
              "      <th>Make</th>\n",
              "      <th>Colour</th>\n",
              "      <th>Odometer (KM)</th>\n",
              "      <th>Doors</th>\n",
              "      <th>Price</th>\n",
              "    </tr>\n",
              "  </thead>\n",
              "  <tbody>\n",
              "    <tr>\n",
              "      <th>0</th>\n",
              "      <td>Toyota</td>\n",
              "      <td>White</td>\n",
              "      <td>150043</td>\n",
              "      <td>4</td>\n",
              "      <td>$4,000.00</td>\n",
              "    </tr>\n",
              "    <tr>\n",
              "      <th>1</th>\n",
              "      <td>Honda</td>\n",
              "      <td>Red</td>\n",
              "      <td>87899</td>\n",
              "      <td>4</td>\n",
              "      <td>$5,000.00</td>\n",
              "    </tr>\n",
              "    <tr>\n",
              "      <th>2</th>\n",
              "      <td>Toyota</td>\n",
              "      <td>Blue</td>\n",
              "      <td>32549</td>\n",
              "      <td>3</td>\n",
              "      <td>$7,000.00</td>\n",
              "    </tr>\n",
              "    <tr>\n",
              "      <th>3</th>\n",
              "      <td>BMW</td>\n",
              "      <td>Black</td>\n",
              "      <td>11179</td>\n",
              "      <td>5</td>\n",
              "      <td>$22,000.00</td>\n",
              "    </tr>\n",
              "    <tr>\n",
              "      <th>4</th>\n",
              "      <td>Nissan</td>\n",
              "      <td>White</td>\n",
              "      <td>213095</td>\n",
              "      <td>4</td>\n",
              "      <td>$3,500.00</td>\n",
              "    </tr>\n",
              "    <tr>\n",
              "      <th>5</th>\n",
              "      <td>Toyota</td>\n",
              "      <td>Green</td>\n",
              "      <td>99213</td>\n",
              "      <td>4</td>\n",
              "      <td>$4,500.00</td>\n",
              "    </tr>\n",
              "    <tr>\n",
              "      <th>6</th>\n",
              "      <td>Honda</td>\n",
              "      <td>Blue</td>\n",
              "      <td>45698</td>\n",
              "      <td>4</td>\n",
              "      <td>$7,500.00</td>\n",
              "    </tr>\n",
              "    <tr>\n",
              "      <th>7</th>\n",
              "      <td>Honda</td>\n",
              "      <td>Blue</td>\n",
              "      <td>54738</td>\n",
              "      <td>4</td>\n",
              "      <td>$7,000.00</td>\n",
              "    </tr>\n",
              "    <tr>\n",
              "      <th>8</th>\n",
              "      <td>Toyota</td>\n",
              "      <td>White</td>\n",
              "      <td>60000</td>\n",
              "      <td>4</td>\n",
              "      <td>$6,250.00</td>\n",
              "    </tr>\n",
              "    <tr>\n",
              "      <th>9</th>\n",
              "      <td>Nissan</td>\n",
              "      <td>White</td>\n",
              "      <td>31600</td>\n",
              "      <td>4</td>\n",
              "      <td>$9,700.00</td>\n",
              "    </tr>\n",
              "  </tbody>\n",
              "</table>\n",
              "</div>"
            ],
            "text/plain": [
              "     Make Colour  Odometer (KM)  Doors       Price\n",
              "0  Toyota  White         150043      4   $4,000.00\n",
              "1   Honda    Red          87899      4   $5,000.00\n",
              "2  Toyota   Blue          32549      3   $7,000.00\n",
              "3     BMW  Black          11179      5  $22,000.00\n",
              "4  Nissan  White         213095      4   $3,500.00\n",
              "5  Toyota  Green          99213      4   $4,500.00\n",
              "6   Honda   Blue          45698      4   $7,500.00\n",
              "7   Honda   Blue          54738      4   $7,000.00\n",
              "8  Toyota  White          60000      4   $6,250.00\n",
              "9  Nissan  White          31600      4   $9,700.00"
            ]
          },
          "metadata": {
            "tags": []
          },
          "execution_count": 146
        }
      ]
    },
    {
      "cell_type": "markdown",
      "metadata": {
        "id": "t8GuoUxI4rK5",
        "colab_type": "text"
      },
      "source": [
        "Now we've got the same data from the spreadsheet available in a pandas `DataFrame` called `car_sales`. \n",
        "\n",
        "Having your data available in a `DataFrame` allows you to take advantage of all of pandas functionality on it.\n",
        "\n",
        "Another common practice you'll see is data being imported to `DataFrame` called `df` (short for `DataFrame`)."
      ]
    },
    {
      "cell_type": "code",
      "metadata": {
        "id": "LvrYA66G4rK6",
        "colab_type": "code",
        "outputId": "26af775c-f79a-499c-be7b-0f10ef7c8a37",
        "colab": {
          "base_uri": "https://localhost:8080/",
          "height": 359
        }
      },
      "source": [
        "# Import the car sales data and save it to df\n",
        "df = pd.read_csv(\"data/car-sales.csv\")\n",
        "df"
      ],
      "execution_count": 147,
      "outputs": [
        {
          "output_type": "execute_result",
          "data": {
            "text/html": [
              "<div>\n",
              "<style scoped>\n",
              "    .dataframe tbody tr th:only-of-type {\n",
              "        vertical-align: middle;\n",
              "    }\n",
              "\n",
              "    .dataframe tbody tr th {\n",
              "        vertical-align: top;\n",
              "    }\n",
              "\n",
              "    .dataframe thead th {\n",
              "        text-align: right;\n",
              "    }\n",
              "</style>\n",
              "<table border=\"1\" class=\"dataframe\">\n",
              "  <thead>\n",
              "    <tr style=\"text-align: right;\">\n",
              "      <th></th>\n",
              "      <th>Make</th>\n",
              "      <th>Colour</th>\n",
              "      <th>Odometer (KM)</th>\n",
              "      <th>Doors</th>\n",
              "      <th>Price</th>\n",
              "    </tr>\n",
              "  </thead>\n",
              "  <tbody>\n",
              "    <tr>\n",
              "      <th>0</th>\n",
              "      <td>Toyota</td>\n",
              "      <td>White</td>\n",
              "      <td>150043</td>\n",
              "      <td>4</td>\n",
              "      <td>$4,000.00</td>\n",
              "    </tr>\n",
              "    <tr>\n",
              "      <th>1</th>\n",
              "      <td>Honda</td>\n",
              "      <td>Red</td>\n",
              "      <td>87899</td>\n",
              "      <td>4</td>\n",
              "      <td>$5,000.00</td>\n",
              "    </tr>\n",
              "    <tr>\n",
              "      <th>2</th>\n",
              "      <td>Toyota</td>\n",
              "      <td>Blue</td>\n",
              "      <td>32549</td>\n",
              "      <td>3</td>\n",
              "      <td>$7,000.00</td>\n",
              "    </tr>\n",
              "    <tr>\n",
              "      <th>3</th>\n",
              "      <td>BMW</td>\n",
              "      <td>Black</td>\n",
              "      <td>11179</td>\n",
              "      <td>5</td>\n",
              "      <td>$22,000.00</td>\n",
              "    </tr>\n",
              "    <tr>\n",
              "      <th>4</th>\n",
              "      <td>Nissan</td>\n",
              "      <td>White</td>\n",
              "      <td>213095</td>\n",
              "      <td>4</td>\n",
              "      <td>$3,500.00</td>\n",
              "    </tr>\n",
              "    <tr>\n",
              "      <th>5</th>\n",
              "      <td>Toyota</td>\n",
              "      <td>Green</td>\n",
              "      <td>99213</td>\n",
              "      <td>4</td>\n",
              "      <td>$4,500.00</td>\n",
              "    </tr>\n",
              "    <tr>\n",
              "      <th>6</th>\n",
              "      <td>Honda</td>\n",
              "      <td>Blue</td>\n",
              "      <td>45698</td>\n",
              "      <td>4</td>\n",
              "      <td>$7,500.00</td>\n",
              "    </tr>\n",
              "    <tr>\n",
              "      <th>7</th>\n",
              "      <td>Honda</td>\n",
              "      <td>Blue</td>\n",
              "      <td>54738</td>\n",
              "      <td>4</td>\n",
              "      <td>$7,000.00</td>\n",
              "    </tr>\n",
              "    <tr>\n",
              "      <th>8</th>\n",
              "      <td>Toyota</td>\n",
              "      <td>White</td>\n",
              "      <td>60000</td>\n",
              "      <td>4</td>\n",
              "      <td>$6,250.00</td>\n",
              "    </tr>\n",
              "    <tr>\n",
              "      <th>9</th>\n",
              "      <td>Nissan</td>\n",
              "      <td>White</td>\n",
              "      <td>31600</td>\n",
              "      <td>4</td>\n",
              "      <td>$9,700.00</td>\n",
              "    </tr>\n",
              "  </tbody>\n",
              "</table>\n",
              "</div>"
            ],
            "text/plain": [
              "     Make Colour  Odometer (KM)  Doors       Price\n",
              "0  Toyota  White         150043      4   $4,000.00\n",
              "1   Honda    Red          87899      4   $5,000.00\n",
              "2  Toyota   Blue          32549      3   $7,000.00\n",
              "3     BMW  Black          11179      5  $22,000.00\n",
              "4  Nissan  White         213095      4   $3,500.00\n",
              "5  Toyota  Green          99213      4   $4,500.00\n",
              "6   Honda   Blue          45698      4   $7,500.00\n",
              "7   Honda   Blue          54738      4   $7,000.00\n",
              "8  Toyota  White          60000      4   $6,250.00\n",
              "9  Nissan  White          31600      4   $9,700.00"
            ]
          },
          "metadata": {
            "tags": []
          },
          "execution_count": 147
        }
      ]
    },
    {
      "cell_type": "markdown",
      "metadata": {
        "id": "AEm9-tBd4rK_",
        "colab_type": "text"
      },
      "source": [
        "Now `car_sales` and `df` contain the exact same information, the only difference is the name. Like any other variable, you can name your `DataFrame`'s whatever you want. But best to choose something simple.\n",
        "\n",
        "### Anatomy of a DataFrame\n",
        "\n",
        "Different functions use different labels for different things. This graphic sums up some of the main components of `DataFrame`'s and their different names.\n",
        "\n",
        "<img src=\"https://github.com/ras783/zero-to-mastery-ml/blob/master/images/pandas-dataframe-anatomy.png?raw=1\" alt=\"pandas dataframe with different sections labelled\" width=\"800\"/>\n"
      ]
    },
    {
      "cell_type": "markdown",
      "metadata": {
        "id": "hQlBGYMX4rLA",
        "colab_type": "text"
      },
      "source": [
        "## 3. Exporting data\n",
        "\n",
        "After you've made a few changes to your data, you might want to export it and save it so someone else can access the changes.\n",
        "\n",
        "pandas allows you to export `DataFrame`'s to `.csv` format using `.to_csv()` or spreadsheet format using `.to_excel()`.\n",
        "\n",
        "We haven't made any changes yet to the `car_sales` `DataFrame` but let's try export it."
      ]
    },
    {
      "cell_type": "code",
      "metadata": {
        "id": "DygE24F64rLA",
        "colab_type": "code",
        "colab": {}
      },
      "source": [
        "# Export the car sales DataFrame to csv\n",
        "car_sales.to_csv(\"data/exported-car-sales.csv\")"
      ],
      "execution_count": 0,
      "outputs": []
    },
    {
      "cell_type": "markdown",
      "metadata": {
        "id": "9dyxKAbC4rLF",
        "colab_type": "text"
      },
      "source": [
        "Running this will save a file called `export-car-sales.csv` to the current folder.\n",
        "\n",
        "<img src=\"https://github.com/ras783/zero-to-mastery-ml/blob/master/images/pandas-exported-car-sales-csv.png?raw=1\" alt=\"folder with exported car sales csv file highlighted\" width=\"600\"/>"
      ]
    },
    {
      "cell_type": "markdown",
      "metadata": {
        "id": "Pbabesql4rLG",
        "colab_type": "text"
      },
      "source": [
        "## Exercises\n",
        "\n",
        "1. Practice importing a `.csv` file using `pd.read_csv()`, you can download `heart-disease.csv`. This file contains annonymous patient medical records and whether or not they have heart disease.\n",
        "2. Practice exporting a `DataFrame` using `.to_csv()`. You could export the heart disease `DataFrame` after you've imported it.\n",
        "\n",
        "**Note:** \n",
        "* Make sure the `heart-disease.csv` file is in the same folder as your notebook orbe sure to use the filepath where the file is.\n",
        "* You can name the variables and exported files whatever you like but make sure they're readable."
      ]
    },
    {
      "cell_type": "code",
      "metadata": {
        "id": "Qz4dJ6dU4rLG",
        "colab_type": "code",
        "colab": {}
      },
      "source": [
        "# Your code here\n"
      ],
      "execution_count": 0,
      "outputs": []
    },
    {
      "cell_type": "markdown",
      "metadata": {
        "id": "PCBbQyPm4rLK",
        "colab_type": "text"
      },
      "source": [
        "### Example solution"
      ]
    },
    {
      "cell_type": "code",
      "metadata": {
        "id": "t0cXu5zZ4rLL",
        "colab_type": "code",
        "outputId": "9bcb6003-8d5a-42df-d022-33da3773f82c",
        "colab": {
          "base_uri": "https://localhost:8080/",
          "height": 419
        }
      },
      "source": [
        "# Importing heart-disease.csv\n",
        "patient_data = pd.read_csv(\"data/heart-disease.csv\")\n",
        "patient_data"
      ],
      "execution_count": 150,
      "outputs": [
        {
          "output_type": "execute_result",
          "data": {
            "text/html": [
              "<div>\n",
              "<style scoped>\n",
              "    .dataframe tbody tr th:only-of-type {\n",
              "        vertical-align: middle;\n",
              "    }\n",
              "\n",
              "    .dataframe tbody tr th {\n",
              "        vertical-align: top;\n",
              "    }\n",
              "\n",
              "    .dataframe thead th {\n",
              "        text-align: right;\n",
              "    }\n",
              "</style>\n",
              "<table border=\"1\" class=\"dataframe\">\n",
              "  <thead>\n",
              "    <tr style=\"text-align: right;\">\n",
              "      <th></th>\n",
              "      <th>age</th>\n",
              "      <th>sex</th>\n",
              "      <th>cp</th>\n",
              "      <th>trestbps</th>\n",
              "      <th>chol</th>\n",
              "      <th>fbs</th>\n",
              "      <th>restecg</th>\n",
              "      <th>thalach</th>\n",
              "      <th>exang</th>\n",
              "      <th>oldpeak</th>\n",
              "      <th>slope</th>\n",
              "      <th>ca</th>\n",
              "      <th>thal</th>\n",
              "      <th>target</th>\n",
              "    </tr>\n",
              "  </thead>\n",
              "  <tbody>\n",
              "    <tr>\n",
              "      <th>0</th>\n",
              "      <td>63</td>\n",
              "      <td>1</td>\n",
              "      <td>3</td>\n",
              "      <td>145</td>\n",
              "      <td>233</td>\n",
              "      <td>1</td>\n",
              "      <td>0</td>\n",
              "      <td>150</td>\n",
              "      <td>0</td>\n",
              "      <td>2.3</td>\n",
              "      <td>0</td>\n",
              "      <td>0</td>\n",
              "      <td>1</td>\n",
              "      <td>1</td>\n",
              "    </tr>\n",
              "    <tr>\n",
              "      <th>1</th>\n",
              "      <td>37</td>\n",
              "      <td>1</td>\n",
              "      <td>2</td>\n",
              "      <td>130</td>\n",
              "      <td>250</td>\n",
              "      <td>0</td>\n",
              "      <td>1</td>\n",
              "      <td>187</td>\n",
              "      <td>0</td>\n",
              "      <td>3.5</td>\n",
              "      <td>0</td>\n",
              "      <td>0</td>\n",
              "      <td>2</td>\n",
              "      <td>1</td>\n",
              "    </tr>\n",
              "    <tr>\n",
              "      <th>2</th>\n",
              "      <td>41</td>\n",
              "      <td>0</td>\n",
              "      <td>1</td>\n",
              "      <td>130</td>\n",
              "      <td>204</td>\n",
              "      <td>0</td>\n",
              "      <td>0</td>\n",
              "      <td>172</td>\n",
              "      <td>0</td>\n",
              "      <td>1.4</td>\n",
              "      <td>2</td>\n",
              "      <td>0</td>\n",
              "      <td>2</td>\n",
              "      <td>1</td>\n",
              "    </tr>\n",
              "    <tr>\n",
              "      <th>3</th>\n",
              "      <td>56</td>\n",
              "      <td>1</td>\n",
              "      <td>1</td>\n",
              "      <td>120</td>\n",
              "      <td>236</td>\n",
              "      <td>0</td>\n",
              "      <td>1</td>\n",
              "      <td>178</td>\n",
              "      <td>0</td>\n",
              "      <td>0.8</td>\n",
              "      <td>2</td>\n",
              "      <td>0</td>\n",
              "      <td>2</td>\n",
              "      <td>1</td>\n",
              "    </tr>\n",
              "    <tr>\n",
              "      <th>4</th>\n",
              "      <td>57</td>\n",
              "      <td>0</td>\n",
              "      <td>0</td>\n",
              "      <td>120</td>\n",
              "      <td>354</td>\n",
              "      <td>0</td>\n",
              "      <td>1</td>\n",
              "      <td>163</td>\n",
              "      <td>1</td>\n",
              "      <td>0.6</td>\n",
              "      <td>2</td>\n",
              "      <td>0</td>\n",
              "      <td>2</td>\n",
              "      <td>1</td>\n",
              "    </tr>\n",
              "    <tr>\n",
              "      <th>...</th>\n",
              "      <td>...</td>\n",
              "      <td>...</td>\n",
              "      <td>...</td>\n",
              "      <td>...</td>\n",
              "      <td>...</td>\n",
              "      <td>...</td>\n",
              "      <td>...</td>\n",
              "      <td>...</td>\n",
              "      <td>...</td>\n",
              "      <td>...</td>\n",
              "      <td>...</td>\n",
              "      <td>...</td>\n",
              "      <td>...</td>\n",
              "      <td>...</td>\n",
              "    </tr>\n",
              "    <tr>\n",
              "      <th>298</th>\n",
              "      <td>57</td>\n",
              "      <td>0</td>\n",
              "      <td>0</td>\n",
              "      <td>140</td>\n",
              "      <td>241</td>\n",
              "      <td>0</td>\n",
              "      <td>1</td>\n",
              "      <td>123</td>\n",
              "      <td>1</td>\n",
              "      <td>0.2</td>\n",
              "      <td>1</td>\n",
              "      <td>0</td>\n",
              "      <td>3</td>\n",
              "      <td>0</td>\n",
              "    </tr>\n",
              "    <tr>\n",
              "      <th>299</th>\n",
              "      <td>45</td>\n",
              "      <td>1</td>\n",
              "      <td>3</td>\n",
              "      <td>110</td>\n",
              "      <td>264</td>\n",
              "      <td>0</td>\n",
              "      <td>1</td>\n",
              "      <td>132</td>\n",
              "      <td>0</td>\n",
              "      <td>1.2</td>\n",
              "      <td>1</td>\n",
              "      <td>0</td>\n",
              "      <td>3</td>\n",
              "      <td>0</td>\n",
              "    </tr>\n",
              "    <tr>\n",
              "      <th>300</th>\n",
              "      <td>68</td>\n",
              "      <td>1</td>\n",
              "      <td>0</td>\n",
              "      <td>144</td>\n",
              "      <td>193</td>\n",
              "      <td>1</td>\n",
              "      <td>1</td>\n",
              "      <td>141</td>\n",
              "      <td>0</td>\n",
              "      <td>3.4</td>\n",
              "      <td>1</td>\n",
              "      <td>2</td>\n",
              "      <td>3</td>\n",
              "      <td>0</td>\n",
              "    </tr>\n",
              "    <tr>\n",
              "      <th>301</th>\n",
              "      <td>57</td>\n",
              "      <td>1</td>\n",
              "      <td>0</td>\n",
              "      <td>130</td>\n",
              "      <td>131</td>\n",
              "      <td>0</td>\n",
              "      <td>1</td>\n",
              "      <td>115</td>\n",
              "      <td>1</td>\n",
              "      <td>1.2</td>\n",
              "      <td>1</td>\n",
              "      <td>1</td>\n",
              "      <td>3</td>\n",
              "      <td>0</td>\n",
              "    </tr>\n",
              "    <tr>\n",
              "      <th>302</th>\n",
              "      <td>57</td>\n",
              "      <td>0</td>\n",
              "      <td>1</td>\n",
              "      <td>130</td>\n",
              "      <td>236</td>\n",
              "      <td>0</td>\n",
              "      <td>0</td>\n",
              "      <td>174</td>\n",
              "      <td>0</td>\n",
              "      <td>0.0</td>\n",
              "      <td>1</td>\n",
              "      <td>1</td>\n",
              "      <td>2</td>\n",
              "      <td>0</td>\n",
              "    </tr>\n",
              "  </tbody>\n",
              "</table>\n",
              "<p>303 rows × 14 columns</p>\n",
              "</div>"
            ],
            "text/plain": [
              "     age  sex  cp  trestbps  chol  fbs  ...  exang  oldpeak  slope  ca  thal  target\n",
              "0     63    1   3       145   233    1  ...      0      2.3      0   0     1       1\n",
              "1     37    1   2       130   250    0  ...      0      3.5      0   0     2       1\n",
              "2     41    0   1       130   204    0  ...      0      1.4      2   0     2       1\n",
              "3     56    1   1       120   236    0  ...      0      0.8      2   0     2       1\n",
              "4     57    0   0       120   354    0  ...      1      0.6      2   0     2       1\n",
              "..   ...  ...  ..       ...   ...  ...  ...    ...      ...    ...  ..   ...     ...\n",
              "298   57    0   0       140   241    0  ...      1      0.2      1   0     3       0\n",
              "299   45    1   3       110   264    0  ...      0      1.2      1   0     3       0\n",
              "300   68    1   0       144   193    1  ...      0      3.4      1   2     3       0\n",
              "301   57    1   0       130   131    0  ...      1      1.2      1   1     3       0\n",
              "302   57    0   1       130   236    0  ...      0      0.0      1   1     2       0\n",
              "\n",
              "[303 rows x 14 columns]"
            ]
          },
          "metadata": {
            "tags": []
          },
          "execution_count": 150
        }
      ]
    },
    {
      "cell_type": "code",
      "metadata": {
        "id": "gTW4py0P4rLP",
        "colab_type": "code",
        "colab": {}
      },
      "source": [
        "# Exporting the patient_data DataFrame to csv\n",
        "patient_data.to_csv(\"data/exported-patient-data.csv\")"
      ],
      "execution_count": 0,
      "outputs": []
    },
    {
      "cell_type": "markdown",
      "metadata": {
        "id": "AasGLiZ94rLT",
        "colab_type": "text"
      },
      "source": [
        "<img src=\"https://github.com/ras783/zero-to-mastery-ml/blob/master/images/pandas-exported-patient-data-csv.png?raw=1\" alt=\"folder containing exported patient data csv file\" width=\"600\"/>"
      ]
    },
    {
      "cell_type": "markdown",
      "metadata": {
        "id": "ktFHvsWO4rLT",
        "colab_type": "text"
      },
      "source": [
        "## 4. Describing data\n",
        "\n",
        "One of the first things you'll want to do after you import some data into a pandas `DataFrame` is to start exploring it.\n",
        "\n",
        "pandas has many built in functions which allow you to quickly get information about a `DataFrame`.\n",
        "\n",
        "Let's explore some using the `car_sales` `DataFrame`."
      ]
    },
    {
      "cell_type": "code",
      "metadata": {
        "id": "LeE4D3u44rLU",
        "colab_type": "code",
        "outputId": "dd7771e3-a0ee-41f6-f4b9-e6838d59b696",
        "colab": {
          "base_uri": "https://localhost:8080/",
          "height": 359
        }
      },
      "source": [
        "car_sales"
      ],
      "execution_count": 152,
      "outputs": [
        {
          "output_type": "execute_result",
          "data": {
            "text/html": [
              "<div>\n",
              "<style scoped>\n",
              "    .dataframe tbody tr th:only-of-type {\n",
              "        vertical-align: middle;\n",
              "    }\n",
              "\n",
              "    .dataframe tbody tr th {\n",
              "        vertical-align: top;\n",
              "    }\n",
              "\n",
              "    .dataframe thead th {\n",
              "        text-align: right;\n",
              "    }\n",
              "</style>\n",
              "<table border=\"1\" class=\"dataframe\">\n",
              "  <thead>\n",
              "    <tr style=\"text-align: right;\">\n",
              "      <th></th>\n",
              "      <th>Make</th>\n",
              "      <th>Colour</th>\n",
              "      <th>Odometer (KM)</th>\n",
              "      <th>Doors</th>\n",
              "      <th>Price</th>\n",
              "    </tr>\n",
              "  </thead>\n",
              "  <tbody>\n",
              "    <tr>\n",
              "      <th>0</th>\n",
              "      <td>Toyota</td>\n",
              "      <td>White</td>\n",
              "      <td>150043</td>\n",
              "      <td>4</td>\n",
              "      <td>$4,000.00</td>\n",
              "    </tr>\n",
              "    <tr>\n",
              "      <th>1</th>\n",
              "      <td>Honda</td>\n",
              "      <td>Red</td>\n",
              "      <td>87899</td>\n",
              "      <td>4</td>\n",
              "      <td>$5,000.00</td>\n",
              "    </tr>\n",
              "    <tr>\n",
              "      <th>2</th>\n",
              "      <td>Toyota</td>\n",
              "      <td>Blue</td>\n",
              "      <td>32549</td>\n",
              "      <td>3</td>\n",
              "      <td>$7,000.00</td>\n",
              "    </tr>\n",
              "    <tr>\n",
              "      <th>3</th>\n",
              "      <td>BMW</td>\n",
              "      <td>Black</td>\n",
              "      <td>11179</td>\n",
              "      <td>5</td>\n",
              "      <td>$22,000.00</td>\n",
              "    </tr>\n",
              "    <tr>\n",
              "      <th>4</th>\n",
              "      <td>Nissan</td>\n",
              "      <td>White</td>\n",
              "      <td>213095</td>\n",
              "      <td>4</td>\n",
              "      <td>$3,500.00</td>\n",
              "    </tr>\n",
              "    <tr>\n",
              "      <th>5</th>\n",
              "      <td>Toyota</td>\n",
              "      <td>Green</td>\n",
              "      <td>99213</td>\n",
              "      <td>4</td>\n",
              "      <td>$4,500.00</td>\n",
              "    </tr>\n",
              "    <tr>\n",
              "      <th>6</th>\n",
              "      <td>Honda</td>\n",
              "      <td>Blue</td>\n",
              "      <td>45698</td>\n",
              "      <td>4</td>\n",
              "      <td>$7,500.00</td>\n",
              "    </tr>\n",
              "    <tr>\n",
              "      <th>7</th>\n",
              "      <td>Honda</td>\n",
              "      <td>Blue</td>\n",
              "      <td>54738</td>\n",
              "      <td>4</td>\n",
              "      <td>$7,000.00</td>\n",
              "    </tr>\n",
              "    <tr>\n",
              "      <th>8</th>\n",
              "      <td>Toyota</td>\n",
              "      <td>White</td>\n",
              "      <td>60000</td>\n",
              "      <td>4</td>\n",
              "      <td>$6,250.00</td>\n",
              "    </tr>\n",
              "    <tr>\n",
              "      <th>9</th>\n",
              "      <td>Nissan</td>\n",
              "      <td>White</td>\n",
              "      <td>31600</td>\n",
              "      <td>4</td>\n",
              "      <td>$9,700.00</td>\n",
              "    </tr>\n",
              "  </tbody>\n",
              "</table>\n",
              "</div>"
            ],
            "text/plain": [
              "     Make Colour  Odometer (KM)  Doors       Price\n",
              "0  Toyota  White         150043      4   $4,000.00\n",
              "1   Honda    Red          87899      4   $5,000.00\n",
              "2  Toyota   Blue          32549      3   $7,000.00\n",
              "3     BMW  Black          11179      5  $22,000.00\n",
              "4  Nissan  White         213095      4   $3,500.00\n",
              "5  Toyota  Green          99213      4   $4,500.00\n",
              "6   Honda   Blue          45698      4   $7,500.00\n",
              "7   Honda   Blue          54738      4   $7,000.00\n",
              "8  Toyota  White          60000      4   $6,250.00\n",
              "9  Nissan  White          31600      4   $9,700.00"
            ]
          },
          "metadata": {
            "tags": []
          },
          "execution_count": 152
        }
      ]
    },
    {
      "cell_type": "markdown",
      "metadata": {
        "id": "2i0dzU234rLX",
        "colab_type": "text"
      },
      "source": [
        "`.dtypes` shows us what datatype each column contains."
      ]
    },
    {
      "cell_type": "code",
      "metadata": {
        "id": "M5LIANPF4rLY",
        "colab_type": "code",
        "outputId": "290118a1-765d-45ff-c305-e6036a198499",
        "colab": {
          "base_uri": "https://localhost:8080/",
          "height": 119
        }
      },
      "source": [
        "car_sales.dtypes"
      ],
      "execution_count": 153,
      "outputs": [
        {
          "output_type": "execute_result",
          "data": {
            "text/plain": [
              "Make             object\n",
              "Colour           object\n",
              "Odometer (KM)     int64\n",
              "Doors             int64\n",
              "Price            object\n",
              "dtype: object"
            ]
          },
          "metadata": {
            "tags": []
          },
          "execution_count": 153
        }
      ]
    },
    {
      "cell_type": "markdown",
      "metadata": {
        "id": "JPuWq_4C4rLd",
        "colab_type": "text"
      },
      "source": [
        "Notice how the `Price` column isn't an integer like `Odometer` or `Doors`. Don't worry, pandas makes this easy to fix."
      ]
    },
    {
      "cell_type": "markdown",
      "metadata": {
        "id": "TAX6ac-84rLe",
        "colab_type": "text"
      },
      "source": [
        "`.describe()` gives you a quick statistical overview of the numerical columns."
      ]
    },
    {
      "cell_type": "code",
      "metadata": {
        "id": "dTqdPUVu4rLf",
        "colab_type": "code",
        "outputId": "bc93faca-e919-47b0-9780-8255538892c6",
        "colab": {
          "base_uri": "https://localhost:8080/",
          "height": 297
        }
      },
      "source": [
        "car_sales.describe()"
      ],
      "execution_count": 154,
      "outputs": [
        {
          "output_type": "execute_result",
          "data": {
            "text/html": [
              "<div>\n",
              "<style scoped>\n",
              "    .dataframe tbody tr th:only-of-type {\n",
              "        vertical-align: middle;\n",
              "    }\n",
              "\n",
              "    .dataframe tbody tr th {\n",
              "        vertical-align: top;\n",
              "    }\n",
              "\n",
              "    .dataframe thead th {\n",
              "        text-align: right;\n",
              "    }\n",
              "</style>\n",
              "<table border=\"1\" class=\"dataframe\">\n",
              "  <thead>\n",
              "    <tr style=\"text-align: right;\">\n",
              "      <th></th>\n",
              "      <th>Odometer (KM)</th>\n",
              "      <th>Doors</th>\n",
              "    </tr>\n",
              "  </thead>\n",
              "  <tbody>\n",
              "    <tr>\n",
              "      <th>count</th>\n",
              "      <td>10.000000</td>\n",
              "      <td>10.000000</td>\n",
              "    </tr>\n",
              "    <tr>\n",
              "      <th>mean</th>\n",
              "      <td>78601.400000</td>\n",
              "      <td>4.000000</td>\n",
              "    </tr>\n",
              "    <tr>\n",
              "      <th>std</th>\n",
              "      <td>61983.471735</td>\n",
              "      <td>0.471405</td>\n",
              "    </tr>\n",
              "    <tr>\n",
              "      <th>min</th>\n",
              "      <td>11179.000000</td>\n",
              "      <td>3.000000</td>\n",
              "    </tr>\n",
              "    <tr>\n",
              "      <th>25%</th>\n",
              "      <td>35836.250000</td>\n",
              "      <td>4.000000</td>\n",
              "    </tr>\n",
              "    <tr>\n",
              "      <th>50%</th>\n",
              "      <td>57369.000000</td>\n",
              "      <td>4.000000</td>\n",
              "    </tr>\n",
              "    <tr>\n",
              "      <th>75%</th>\n",
              "      <td>96384.500000</td>\n",
              "      <td>4.000000</td>\n",
              "    </tr>\n",
              "    <tr>\n",
              "      <th>max</th>\n",
              "      <td>213095.000000</td>\n",
              "      <td>5.000000</td>\n",
              "    </tr>\n",
              "  </tbody>\n",
              "</table>\n",
              "</div>"
            ],
            "text/plain": [
              "       Odometer (KM)      Doors\n",
              "count      10.000000  10.000000\n",
              "mean    78601.400000   4.000000\n",
              "std     61983.471735   0.471405\n",
              "min     11179.000000   3.000000\n",
              "25%     35836.250000   4.000000\n",
              "50%     57369.000000   4.000000\n",
              "75%     96384.500000   4.000000\n",
              "max    213095.000000   5.000000"
            ]
          },
          "metadata": {
            "tags": []
          },
          "execution_count": 154
        }
      ]
    },
    {
      "cell_type": "markdown",
      "metadata": {
        "id": "290ffVGk4rLi",
        "colab_type": "text"
      },
      "source": [
        "`.info()` shows a handful of useful information about a `DataFrame` such as: \n",
        "* How many entries (rows) there are \n",
        "* Whether there are missing values (if a columns non-null value is less than the number of entries, it has missing values)\n",
        "* The datatypes of each column"
      ]
    },
    {
      "cell_type": "code",
      "metadata": {
        "id": "z1O-0Y8f4rLj",
        "colab_type": "code",
        "outputId": "4c1f2a67-cc03-4ea1-bd7f-b4adb00a1908",
        "colab": {
          "base_uri": "https://localhost:8080/",
          "height": 221
        }
      },
      "source": [
        "car_sales.info()"
      ],
      "execution_count": 155,
      "outputs": [
        {
          "output_type": "stream",
          "text": [
            "<class 'pandas.core.frame.DataFrame'>\n",
            "RangeIndex: 10 entries, 0 to 9\n",
            "Data columns (total 5 columns):\n",
            " #   Column         Non-Null Count  Dtype \n",
            "---  ------         --------------  ----- \n",
            " 0   Make           10 non-null     object\n",
            " 1   Colour         10 non-null     object\n",
            " 2   Odometer (KM)  10 non-null     int64 \n",
            " 3   Doors          10 non-null     int64 \n",
            " 4   Price          10 non-null     object\n",
            "dtypes: int64(2), object(3)\n",
            "memory usage: 528.0+ bytes\n"
          ],
          "name": "stdout"
        }
      ]
    },
    {
      "cell_type": "markdown",
      "metadata": {
        "id": "wBKzKDI_4rLq",
        "colab_type": "text"
      },
      "source": [
        "You can also call various statistical and mathematical methods such as `.mean()` or `.sum()` directly on a `DataFrame` or `Series`."
      ]
    },
    {
      "cell_type": "code",
      "metadata": {
        "id": "9zzGhWcW4rLr",
        "colab_type": "code",
        "outputId": "86736dd1-6406-4f77-ebd2-4d2da06dacae",
        "colab": {
          "base_uri": "https://localhost:8080/",
          "height": 68
        }
      },
      "source": [
        "# Calling .mean() on a DataFrame\n",
        "car_sales.mean()"
      ],
      "execution_count": 156,
      "outputs": [
        {
          "output_type": "execute_result",
          "data": {
            "text/plain": [
              "Odometer (KM)    78601.4\n",
              "Doors                4.0\n",
              "dtype: float64"
            ]
          },
          "metadata": {
            "tags": []
          },
          "execution_count": 156
        }
      ]
    },
    {
      "cell_type": "code",
      "metadata": {
        "id": "owYT3ofS4rLu",
        "colab_type": "code",
        "outputId": "5a5469e7-28ef-4ca2-93f7-4b8eed10ef5d",
        "colab": {
          "base_uri": "https://localhost:8080/",
          "height": 34
        }
      },
      "source": [
        "# Calling .mean() on a Series\n",
        "car_prices = pd.Series([3000, 3500, 11250])\n",
        "car_prices.mean()"
      ],
      "execution_count": 157,
      "outputs": [
        {
          "output_type": "execute_result",
          "data": {
            "text/plain": [
              "5916.666666666667"
            ]
          },
          "metadata": {
            "tags": []
          },
          "execution_count": 157
        }
      ]
    },
    {
      "cell_type": "code",
      "metadata": {
        "id": "T3h_H0ON4rLx",
        "colab_type": "code",
        "outputId": "beb79b0b-13ba-483c-c761-818c98b6d792",
        "colab": {
          "base_uri": "https://localhost:8080/",
          "height": 119
        }
      },
      "source": [
        "# Calling .sum() on a DataFrame\n",
        "car_sales.sum()"
      ],
      "execution_count": 158,
      "outputs": [
        {
          "output_type": "execute_result",
          "data": {
            "text/plain": [
              "Make             ToyotaHondaToyotaBMWNissanToyotaHondaHondaToyo...\n",
              "Colour               WhiteRedBlueBlackWhiteGreenBlueBlueWhiteWhite\n",
              "Odometer (KM)                                               786014\n",
              "Doors                                                           40\n",
              "Price            $4,000.00$5,000.00$7,000.00$22,000.00$3,500.00...\n",
              "dtype: object"
            ]
          },
          "metadata": {
            "tags": []
          },
          "execution_count": 158
        }
      ]
    },
    {
      "cell_type": "code",
      "metadata": {
        "id": "8vhh_qGH4rL0",
        "colab_type": "code",
        "outputId": "0aa416c0-51f8-4938-f024-02b8b1a3071c",
        "colab": {
          "base_uri": "https://localhost:8080/",
          "height": 34
        }
      },
      "source": [
        "# Calling .sum() on a Series\n",
        "car_prices.sum()"
      ],
      "execution_count": 159,
      "outputs": [
        {
          "output_type": "execute_result",
          "data": {
            "text/plain": [
              "17750"
            ]
          },
          "metadata": {
            "tags": []
          },
          "execution_count": 159
        }
      ]
    },
    {
      "cell_type": "markdown",
      "metadata": {
        "id": "yuwRETss4rL4",
        "colab_type": "text"
      },
      "source": [
        "Calling these on a whole `DataFrame` may not be as helpful as targeting an individual column. But it's helpful to know they're there.\n",
        "\n",
        "`.columns` will show you all the columns of a `DataFrame`."
      ]
    },
    {
      "cell_type": "code",
      "metadata": {
        "id": "jy6QmOzl4rL4",
        "colab_type": "code",
        "outputId": "454c5e86-0932-4ef5-9418-5e6acff05f6b",
        "colab": {
          "base_uri": "https://localhost:8080/",
          "height": 34
        }
      },
      "source": [
        "car_sales.columns"
      ],
      "execution_count": 160,
      "outputs": [
        {
          "output_type": "execute_result",
          "data": {
            "text/plain": [
              "Index(['Make', 'Colour', 'Odometer (KM)', 'Doors', 'Price'], dtype='object')"
            ]
          },
          "metadata": {
            "tags": []
          },
          "execution_count": 160
        }
      ]
    },
    {
      "cell_type": "markdown",
      "metadata": {
        "id": "wLKsiGxk4rL8",
        "colab_type": "text"
      },
      "source": [
        "You can save them to a list which you could use later."
      ]
    },
    {
      "cell_type": "code",
      "metadata": {
        "id": "uNmkAoRl4rL8",
        "colab_type": "code",
        "outputId": "12fb5e1c-c61f-4dee-d7ca-e5f9e9804e70",
        "colab": {
          "base_uri": "https://localhost:8080/",
          "height": 34
        }
      },
      "source": [
        "# Save car_sales columns to a list \n",
        "car_columns = car_sales.columns\n",
        "car_columns[0]"
      ],
      "execution_count": 161,
      "outputs": [
        {
          "output_type": "execute_result",
          "data": {
            "text/plain": [
              "'Make'"
            ]
          },
          "metadata": {
            "tags": []
          },
          "execution_count": 161
        }
      ]
    },
    {
      "cell_type": "markdown",
      "metadata": {
        "id": "lsPr2Q1N4rMA",
        "colab_type": "text"
      },
      "source": [
        "`.index` will show you the values in a `DataFrame`'s index (the column on the far left)."
      ]
    },
    {
      "cell_type": "code",
      "metadata": {
        "id": "yy7tQo254rMA",
        "colab_type": "code",
        "outputId": "b572fbe0-d69f-4137-ba50-dbd6a034580e",
        "colab": {
          "base_uri": "https://localhost:8080/",
          "height": 34
        }
      },
      "source": [
        "car_sales.index"
      ],
      "execution_count": 162,
      "outputs": [
        {
          "output_type": "execute_result",
          "data": {
            "text/plain": [
              "RangeIndex(start=0, stop=10, step=1)"
            ]
          },
          "metadata": {
            "tags": []
          },
          "execution_count": 162
        }
      ]
    },
    {
      "cell_type": "markdown",
      "metadata": {
        "id": "78BfJIVD4rMD",
        "colab_type": "text"
      },
      "source": [
        "pandas `DataFrame`'s, like Python lists, are 0-indexed (unless otherwise changed). This means they start at 0. \n",
        "\n",
        "<img src=\"https://github.com/ras783/zero-to-mastery-ml/blob/master/images/pandas-dataframe-zero-indexed.png?raw=1\" alt=\"dataframe with index number 0 highlighted\" width=\"700\"/>"
      ]
    },
    {
      "cell_type": "code",
      "metadata": {
        "id": "3eQ6rdha4rMD",
        "colab_type": "code",
        "outputId": "e6850916-e943-4f4c-8630-19900a8145c3",
        "colab": {
          "base_uri": "https://localhost:8080/",
          "height": 34
        }
      },
      "source": [
        "# Show the length of a DataFrame\n",
        "len(car_sales)"
      ],
      "execution_count": 163,
      "outputs": [
        {
          "output_type": "execute_result",
          "data": {
            "text/plain": [
              "10"
            ]
          },
          "metadata": {
            "tags": []
          },
          "execution_count": 163
        }
      ]
    },
    {
      "cell_type": "markdown",
      "metadata": {
        "id": "5vkHmtH74rMG",
        "colab_type": "text"
      },
      "source": [
        "So even though the length of our `car_sales` dataframe is 10, this means the indexes go from 0-9."
      ]
    },
    {
      "cell_type": "markdown",
      "metadata": {
        "id": "u2Tc3pZ84rMG",
        "colab_type": "text"
      },
      "source": [
        "## 5. Viewing and selecting data\n",
        "* `head()`\n",
        "* `tail()`\n",
        "* `loc`\n",
        "* `iloc`\n",
        "* `columns` - `df['A']`\n",
        "* boolean indexing - `df[df['A'] > 5]`\n",
        "* `crosstab()`\n",
        "* `.plot()`\n",
        "* `hist()`\n",
        "\n",
        "In practice, you'll constantly be making changes to your data, and viewing it. Changing it, viewing it, changing it, viewing it.\n",
        "\n",
        "You won't always want to change all of the data in your `DataFrame`'s either. So there are just as many different ways to select data as there is to view it.\n",
        "\n",
        "`.head()` allows you to view the first 5 rows of your `DataFrame`. You'll likely be using this one a lot. "
      ]
    },
    {
      "cell_type": "code",
      "metadata": {
        "id": "ZK6mbnzx4rMH",
        "colab_type": "code",
        "outputId": "beebb044-3bad-4ec8-c751-16f1a4bfbac8",
        "colab": {
          "base_uri": "https://localhost:8080/",
          "height": 204
        }
      },
      "source": [
        "# Show the first 5 rows of car_sales\n",
        "car_sales.head()"
      ],
      "execution_count": 164,
      "outputs": [
        {
          "output_type": "execute_result",
          "data": {
            "text/html": [
              "<div>\n",
              "<style scoped>\n",
              "    .dataframe tbody tr th:only-of-type {\n",
              "        vertical-align: middle;\n",
              "    }\n",
              "\n",
              "    .dataframe tbody tr th {\n",
              "        vertical-align: top;\n",
              "    }\n",
              "\n",
              "    .dataframe thead th {\n",
              "        text-align: right;\n",
              "    }\n",
              "</style>\n",
              "<table border=\"1\" class=\"dataframe\">\n",
              "  <thead>\n",
              "    <tr style=\"text-align: right;\">\n",
              "      <th></th>\n",
              "      <th>Make</th>\n",
              "      <th>Colour</th>\n",
              "      <th>Odometer (KM)</th>\n",
              "      <th>Doors</th>\n",
              "      <th>Price</th>\n",
              "    </tr>\n",
              "  </thead>\n",
              "  <tbody>\n",
              "    <tr>\n",
              "      <th>0</th>\n",
              "      <td>Toyota</td>\n",
              "      <td>White</td>\n",
              "      <td>150043</td>\n",
              "      <td>4</td>\n",
              "      <td>$4,000.00</td>\n",
              "    </tr>\n",
              "    <tr>\n",
              "      <th>1</th>\n",
              "      <td>Honda</td>\n",
              "      <td>Red</td>\n",
              "      <td>87899</td>\n",
              "      <td>4</td>\n",
              "      <td>$5,000.00</td>\n",
              "    </tr>\n",
              "    <tr>\n",
              "      <th>2</th>\n",
              "      <td>Toyota</td>\n",
              "      <td>Blue</td>\n",
              "      <td>32549</td>\n",
              "      <td>3</td>\n",
              "      <td>$7,000.00</td>\n",
              "    </tr>\n",
              "    <tr>\n",
              "      <th>3</th>\n",
              "      <td>BMW</td>\n",
              "      <td>Black</td>\n",
              "      <td>11179</td>\n",
              "      <td>5</td>\n",
              "      <td>$22,000.00</td>\n",
              "    </tr>\n",
              "    <tr>\n",
              "      <th>4</th>\n",
              "      <td>Nissan</td>\n",
              "      <td>White</td>\n",
              "      <td>213095</td>\n",
              "      <td>4</td>\n",
              "      <td>$3,500.00</td>\n",
              "    </tr>\n",
              "  </tbody>\n",
              "</table>\n",
              "</div>"
            ],
            "text/plain": [
              "     Make Colour  Odometer (KM)  Doors       Price\n",
              "0  Toyota  White         150043      4   $4,000.00\n",
              "1   Honda    Red          87899      4   $5,000.00\n",
              "2  Toyota   Blue          32549      3   $7,000.00\n",
              "3     BMW  Black          11179      5  $22,000.00\n",
              "4  Nissan  White         213095      4   $3,500.00"
            ]
          },
          "metadata": {
            "tags": []
          },
          "execution_count": 164
        }
      ]
    },
    {
      "cell_type": "markdown",
      "metadata": {
        "id": "1jAb3B7h4rMK",
        "colab_type": "text"
      },
      "source": [
        "Why 5 rows? Good question. I don't know the answer. But 5 seems like a good amount.\n",
        "\n",
        "Want more than 5?\n",
        "\n",
        "No worries, you can pass `.head()` an integer to display more than or less than 5 rows."
      ]
    },
    {
      "cell_type": "code",
      "metadata": {
        "id": "8OuI-tKB4rML",
        "colab_type": "code",
        "outputId": "d9a2f74f-71ef-4dae-a287-8e2ffac91ac6",
        "colab": {
          "base_uri": "https://localhost:8080/",
          "height": 266
        }
      },
      "source": [
        "# Show the first 7 rows of car_sales\n",
        "car_sales.head(7)"
      ],
      "execution_count": 165,
      "outputs": [
        {
          "output_type": "execute_result",
          "data": {
            "text/html": [
              "<div>\n",
              "<style scoped>\n",
              "    .dataframe tbody tr th:only-of-type {\n",
              "        vertical-align: middle;\n",
              "    }\n",
              "\n",
              "    .dataframe tbody tr th {\n",
              "        vertical-align: top;\n",
              "    }\n",
              "\n",
              "    .dataframe thead th {\n",
              "        text-align: right;\n",
              "    }\n",
              "</style>\n",
              "<table border=\"1\" class=\"dataframe\">\n",
              "  <thead>\n",
              "    <tr style=\"text-align: right;\">\n",
              "      <th></th>\n",
              "      <th>Make</th>\n",
              "      <th>Colour</th>\n",
              "      <th>Odometer (KM)</th>\n",
              "      <th>Doors</th>\n",
              "      <th>Price</th>\n",
              "    </tr>\n",
              "  </thead>\n",
              "  <tbody>\n",
              "    <tr>\n",
              "      <th>0</th>\n",
              "      <td>Toyota</td>\n",
              "      <td>White</td>\n",
              "      <td>150043</td>\n",
              "      <td>4</td>\n",
              "      <td>$4,000.00</td>\n",
              "    </tr>\n",
              "    <tr>\n",
              "      <th>1</th>\n",
              "      <td>Honda</td>\n",
              "      <td>Red</td>\n",
              "      <td>87899</td>\n",
              "      <td>4</td>\n",
              "      <td>$5,000.00</td>\n",
              "    </tr>\n",
              "    <tr>\n",
              "      <th>2</th>\n",
              "      <td>Toyota</td>\n",
              "      <td>Blue</td>\n",
              "      <td>32549</td>\n",
              "      <td>3</td>\n",
              "      <td>$7,000.00</td>\n",
              "    </tr>\n",
              "    <tr>\n",
              "      <th>3</th>\n",
              "      <td>BMW</td>\n",
              "      <td>Black</td>\n",
              "      <td>11179</td>\n",
              "      <td>5</td>\n",
              "      <td>$22,000.00</td>\n",
              "    </tr>\n",
              "    <tr>\n",
              "      <th>4</th>\n",
              "      <td>Nissan</td>\n",
              "      <td>White</td>\n",
              "      <td>213095</td>\n",
              "      <td>4</td>\n",
              "      <td>$3,500.00</td>\n",
              "    </tr>\n",
              "    <tr>\n",
              "      <th>5</th>\n",
              "      <td>Toyota</td>\n",
              "      <td>Green</td>\n",
              "      <td>99213</td>\n",
              "      <td>4</td>\n",
              "      <td>$4,500.00</td>\n",
              "    </tr>\n",
              "    <tr>\n",
              "      <th>6</th>\n",
              "      <td>Honda</td>\n",
              "      <td>Blue</td>\n",
              "      <td>45698</td>\n",
              "      <td>4</td>\n",
              "      <td>$7,500.00</td>\n",
              "    </tr>\n",
              "  </tbody>\n",
              "</table>\n",
              "</div>"
            ],
            "text/plain": [
              "     Make Colour  Odometer (KM)  Doors       Price\n",
              "0  Toyota  White         150043      4   $4,000.00\n",
              "1   Honda    Red          87899      4   $5,000.00\n",
              "2  Toyota   Blue          32549      3   $7,000.00\n",
              "3     BMW  Black          11179      5  $22,000.00\n",
              "4  Nissan  White         213095      4   $3,500.00\n",
              "5  Toyota  Green          99213      4   $4,500.00\n",
              "6   Honda   Blue          45698      4   $7,500.00"
            ]
          },
          "metadata": {
            "tags": []
          },
          "execution_count": 165
        }
      ]
    },
    {
      "cell_type": "markdown",
      "metadata": {
        "id": "7kBa-_7M4rMN",
        "colab_type": "text"
      },
      "source": [
        "`.tail()` allows you to see the bottom 5 rows of your `DataFrame`. This is helpful if your changes are influencing the bottom rows of your data."
      ]
    },
    {
      "cell_type": "code",
      "metadata": {
        "id": "D9pJg1wQ4rMO",
        "colab_type": "code",
        "outputId": "74b641aa-e151-4655-e0cd-4a865507fc7e",
        "colab": {
          "base_uri": "https://localhost:8080/",
          "height": 204
        }
      },
      "source": [
        "# Show bottom 5 rows of car_sales\n",
        "car_sales.tail()"
      ],
      "execution_count": 166,
      "outputs": [
        {
          "output_type": "execute_result",
          "data": {
            "text/html": [
              "<div>\n",
              "<style scoped>\n",
              "    .dataframe tbody tr th:only-of-type {\n",
              "        vertical-align: middle;\n",
              "    }\n",
              "\n",
              "    .dataframe tbody tr th {\n",
              "        vertical-align: top;\n",
              "    }\n",
              "\n",
              "    .dataframe thead th {\n",
              "        text-align: right;\n",
              "    }\n",
              "</style>\n",
              "<table border=\"1\" class=\"dataframe\">\n",
              "  <thead>\n",
              "    <tr style=\"text-align: right;\">\n",
              "      <th></th>\n",
              "      <th>Make</th>\n",
              "      <th>Colour</th>\n",
              "      <th>Odometer (KM)</th>\n",
              "      <th>Doors</th>\n",
              "      <th>Price</th>\n",
              "    </tr>\n",
              "  </thead>\n",
              "  <tbody>\n",
              "    <tr>\n",
              "      <th>5</th>\n",
              "      <td>Toyota</td>\n",
              "      <td>Green</td>\n",
              "      <td>99213</td>\n",
              "      <td>4</td>\n",
              "      <td>$4,500.00</td>\n",
              "    </tr>\n",
              "    <tr>\n",
              "      <th>6</th>\n",
              "      <td>Honda</td>\n",
              "      <td>Blue</td>\n",
              "      <td>45698</td>\n",
              "      <td>4</td>\n",
              "      <td>$7,500.00</td>\n",
              "    </tr>\n",
              "    <tr>\n",
              "      <th>7</th>\n",
              "      <td>Honda</td>\n",
              "      <td>Blue</td>\n",
              "      <td>54738</td>\n",
              "      <td>4</td>\n",
              "      <td>$7,000.00</td>\n",
              "    </tr>\n",
              "    <tr>\n",
              "      <th>8</th>\n",
              "      <td>Toyota</td>\n",
              "      <td>White</td>\n",
              "      <td>60000</td>\n",
              "      <td>4</td>\n",
              "      <td>$6,250.00</td>\n",
              "    </tr>\n",
              "    <tr>\n",
              "      <th>9</th>\n",
              "      <td>Nissan</td>\n",
              "      <td>White</td>\n",
              "      <td>31600</td>\n",
              "      <td>4</td>\n",
              "      <td>$9,700.00</td>\n",
              "    </tr>\n",
              "  </tbody>\n",
              "</table>\n",
              "</div>"
            ],
            "text/plain": [
              "     Make Colour  Odometer (KM)  Doors      Price\n",
              "5  Toyota  Green          99213      4  $4,500.00\n",
              "6   Honda   Blue          45698      4  $7,500.00\n",
              "7   Honda   Blue          54738      4  $7,000.00\n",
              "8  Toyota  White          60000      4  $6,250.00\n",
              "9  Nissan  White          31600      4  $9,700.00"
            ]
          },
          "metadata": {
            "tags": []
          },
          "execution_count": 166
        }
      ]
    },
    {
      "cell_type": "markdown",
      "metadata": {
        "id": "slSHeF4R4rMS",
        "colab_type": "text"
      },
      "source": [
        "You can use `.loc[]` and `.iloc[]` to select data from your `Series` and `DataFrame`'s.\n",
        "\n",
        "Let's see."
      ]
    },
    {
      "cell_type": "code",
      "metadata": {
        "id": "TfGeuyVp4rMT",
        "colab_type": "code",
        "outputId": "db6d29d5-f677-4662-828c-ce84f4f19889",
        "colab": {
          "base_uri": "https://localhost:8080/",
          "height": 136
        }
      },
      "source": [
        "# Create a sample series\n",
        "animals = pd.Series([\"cat\", \"dog\", \"bird\", \"snake\", \"ox\", \"lion\"], \n",
        "                   index=[0, 3, 9, 8, 67, 3])\n",
        "animals"
      ],
      "execution_count": 167,
      "outputs": [
        {
          "output_type": "execute_result",
          "data": {
            "text/plain": [
              "0       cat\n",
              "3       dog\n",
              "9      bird\n",
              "8     snake\n",
              "67       ox\n",
              "3      lion\n",
              "dtype: object"
            ]
          },
          "metadata": {
            "tags": []
          },
          "execution_count": 167
        }
      ]
    },
    {
      "cell_type": "markdown",
      "metadata": {
        "id": "HI8TylUf4rMW",
        "colab_type": "text"
      },
      "source": [
        "`.loc[]` takes an integer as input. And it chooses from your `Series` or `DataFrame` whichever index matches the number."
      ]
    },
    {
      "cell_type": "code",
      "metadata": {
        "id": "J0bkKMVB4rMW",
        "colab_type": "code",
        "outputId": "25ea50f6-0c08-4854-e1f6-dc0ec49393fa",
        "colab": {
          "base_uri": "https://localhost:8080/",
          "height": 68
        }
      },
      "source": [
        "# Select all indexes with 3\n",
        "animals.loc[3]"
      ],
      "execution_count": 168,
      "outputs": [
        {
          "output_type": "execute_result",
          "data": {
            "text/plain": [
              "3     dog\n",
              "3    lion\n",
              "dtype: object"
            ]
          },
          "metadata": {
            "tags": []
          },
          "execution_count": 168
        }
      ]
    },
    {
      "cell_type": "code",
      "metadata": {
        "id": "EAqLiLuT4rMZ",
        "colab_type": "code",
        "outputId": "4915fd4d-8434-4ea0-d59c-c082a2f355a3",
        "colab": {
          "base_uri": "https://localhost:8080/",
          "height": 34
        }
      },
      "source": [
        "# Select index 9\n",
        "animals.loc[9]"
      ],
      "execution_count": 169,
      "outputs": [
        {
          "output_type": "execute_result",
          "data": {
            "text/plain": [
              "'bird'"
            ]
          },
          "metadata": {
            "tags": []
          },
          "execution_count": 169
        }
      ]
    },
    {
      "cell_type": "markdown",
      "metadata": {
        "id": "GlhTHjsR4rMc",
        "colab_type": "text"
      },
      "source": [
        "Let's try with our `car_sales` DataFrame."
      ]
    },
    {
      "cell_type": "code",
      "metadata": {
        "id": "ODdhWstz4rMc",
        "colab_type": "code",
        "outputId": "f067b897-1ae1-459d-a045-799f5bb3c77f",
        "colab": {
          "base_uri": "https://localhost:8080/",
          "height": 359
        }
      },
      "source": [
        "car_sales"
      ],
      "execution_count": 170,
      "outputs": [
        {
          "output_type": "execute_result",
          "data": {
            "text/html": [
              "<div>\n",
              "<style scoped>\n",
              "    .dataframe tbody tr th:only-of-type {\n",
              "        vertical-align: middle;\n",
              "    }\n",
              "\n",
              "    .dataframe tbody tr th {\n",
              "        vertical-align: top;\n",
              "    }\n",
              "\n",
              "    .dataframe thead th {\n",
              "        text-align: right;\n",
              "    }\n",
              "</style>\n",
              "<table border=\"1\" class=\"dataframe\">\n",
              "  <thead>\n",
              "    <tr style=\"text-align: right;\">\n",
              "      <th></th>\n",
              "      <th>Make</th>\n",
              "      <th>Colour</th>\n",
              "      <th>Odometer (KM)</th>\n",
              "      <th>Doors</th>\n",
              "      <th>Price</th>\n",
              "    </tr>\n",
              "  </thead>\n",
              "  <tbody>\n",
              "    <tr>\n",
              "      <th>0</th>\n",
              "      <td>Toyota</td>\n",
              "      <td>White</td>\n",
              "      <td>150043</td>\n",
              "      <td>4</td>\n",
              "      <td>$4,000.00</td>\n",
              "    </tr>\n",
              "    <tr>\n",
              "      <th>1</th>\n",
              "      <td>Honda</td>\n",
              "      <td>Red</td>\n",
              "      <td>87899</td>\n",
              "      <td>4</td>\n",
              "      <td>$5,000.00</td>\n",
              "    </tr>\n",
              "    <tr>\n",
              "      <th>2</th>\n",
              "      <td>Toyota</td>\n",
              "      <td>Blue</td>\n",
              "      <td>32549</td>\n",
              "      <td>3</td>\n",
              "      <td>$7,000.00</td>\n",
              "    </tr>\n",
              "    <tr>\n",
              "      <th>3</th>\n",
              "      <td>BMW</td>\n",
              "      <td>Black</td>\n",
              "      <td>11179</td>\n",
              "      <td>5</td>\n",
              "      <td>$22,000.00</td>\n",
              "    </tr>\n",
              "    <tr>\n",
              "      <th>4</th>\n",
              "      <td>Nissan</td>\n",
              "      <td>White</td>\n",
              "      <td>213095</td>\n",
              "      <td>4</td>\n",
              "      <td>$3,500.00</td>\n",
              "    </tr>\n",
              "    <tr>\n",
              "      <th>5</th>\n",
              "      <td>Toyota</td>\n",
              "      <td>Green</td>\n",
              "      <td>99213</td>\n",
              "      <td>4</td>\n",
              "      <td>$4,500.00</td>\n",
              "    </tr>\n",
              "    <tr>\n",
              "      <th>6</th>\n",
              "      <td>Honda</td>\n",
              "      <td>Blue</td>\n",
              "      <td>45698</td>\n",
              "      <td>4</td>\n",
              "      <td>$7,500.00</td>\n",
              "    </tr>\n",
              "    <tr>\n",
              "      <th>7</th>\n",
              "      <td>Honda</td>\n",
              "      <td>Blue</td>\n",
              "      <td>54738</td>\n",
              "      <td>4</td>\n",
              "      <td>$7,000.00</td>\n",
              "    </tr>\n",
              "    <tr>\n",
              "      <th>8</th>\n",
              "      <td>Toyota</td>\n",
              "      <td>White</td>\n",
              "      <td>60000</td>\n",
              "      <td>4</td>\n",
              "      <td>$6,250.00</td>\n",
              "    </tr>\n",
              "    <tr>\n",
              "      <th>9</th>\n",
              "      <td>Nissan</td>\n",
              "      <td>White</td>\n",
              "      <td>31600</td>\n",
              "      <td>4</td>\n",
              "      <td>$9,700.00</td>\n",
              "    </tr>\n",
              "  </tbody>\n",
              "</table>\n",
              "</div>"
            ],
            "text/plain": [
              "     Make Colour  Odometer (KM)  Doors       Price\n",
              "0  Toyota  White         150043      4   $4,000.00\n",
              "1   Honda    Red          87899      4   $5,000.00\n",
              "2  Toyota   Blue          32549      3   $7,000.00\n",
              "3     BMW  Black          11179      5  $22,000.00\n",
              "4  Nissan  White         213095      4   $3,500.00\n",
              "5  Toyota  Green          99213      4   $4,500.00\n",
              "6   Honda   Blue          45698      4   $7,500.00\n",
              "7   Honda   Blue          54738      4   $7,000.00\n",
              "8  Toyota  White          60000      4   $6,250.00\n",
              "9  Nissan  White          31600      4   $9,700.00"
            ]
          },
          "metadata": {
            "tags": []
          },
          "execution_count": 170
        }
      ]
    },
    {
      "cell_type": "code",
      "metadata": {
        "id": "LvPOwVwC4rMf",
        "colab_type": "code",
        "outputId": "062b0dbc-c980-4be0-93f4-dc31a3bfb9cf",
        "colab": {
          "base_uri": "https://localhost:8080/",
          "height": 119
        }
      },
      "source": [
        "# Select row at index 3\n",
        "car_sales.loc[3]"
      ],
      "execution_count": 171,
      "outputs": [
        {
          "output_type": "execute_result",
          "data": {
            "text/plain": [
              "Make                    BMW\n",
              "Colour                Black\n",
              "Odometer (KM)         11179\n",
              "Doors                     5\n",
              "Price            $22,000.00\n",
              "Name: 3, dtype: object"
            ]
          },
          "metadata": {
            "tags": []
          },
          "execution_count": 171
        }
      ]
    },
    {
      "cell_type": "markdown",
      "metadata": {
        "id": "ovaVu68h4rMi",
        "colab_type": "text"
      },
      "source": [
        "`iloc[]` does a similar thing but works with exact positions.\n"
      ]
    },
    {
      "cell_type": "code",
      "metadata": {
        "id": "Z-iA14a94rMj",
        "colab_type": "code",
        "outputId": "66971d28-aed8-44c9-f448-aaf48d8f9470",
        "colab": {
          "base_uri": "https://localhost:8080/",
          "height": 136
        }
      },
      "source": [
        "animals"
      ],
      "execution_count": 172,
      "outputs": [
        {
          "output_type": "execute_result",
          "data": {
            "text/plain": [
              "0       cat\n",
              "3       dog\n",
              "9      bird\n",
              "8     snake\n",
              "67       ox\n",
              "3      lion\n",
              "dtype: object"
            ]
          },
          "metadata": {
            "tags": []
          },
          "execution_count": 172
        }
      ]
    },
    {
      "cell_type": "code",
      "metadata": {
        "id": "tA5wFWvI4rMm",
        "colab_type": "code",
        "outputId": "1ffd9daf-2ce8-4528-a6ae-55ae962f97c8",
        "colab": {
          "base_uri": "https://localhost:8080/",
          "height": 34
        }
      },
      "source": [
        "# Select row at position 3\n",
        "animals.iloc[3]"
      ],
      "execution_count": 173,
      "outputs": [
        {
          "output_type": "execute_result",
          "data": {
            "text/plain": [
              "'snake'"
            ]
          },
          "metadata": {
            "tags": []
          },
          "execution_count": 173
        }
      ]
    },
    {
      "cell_type": "markdown",
      "metadata": {
        "id": "r84k0tip4rMq",
        "colab_type": "text"
      },
      "source": [
        "Even though `'snake'` appears at index 8 in the series, it's shown using `.iloc[3]` because it's at the 3rd (starting from 0) position.\n",
        "\n",
        "Let's try with the `car_sales` `DataFrame`."
      ]
    },
    {
      "cell_type": "code",
      "metadata": {
        "id": "15VcqXke4rMr",
        "colab_type": "code",
        "outputId": "ff2c3ce6-a614-405c-9b85-1562875a581d",
        "colab": {
          "base_uri": "https://localhost:8080/",
          "height": 119
        }
      },
      "source": [
        "# Select row at position 3\n",
        "car_sales.iloc[3]"
      ],
      "execution_count": 174,
      "outputs": [
        {
          "output_type": "execute_result",
          "data": {
            "text/plain": [
              "Make                    BMW\n",
              "Colour                Black\n",
              "Odometer (KM)         11179\n",
              "Doors                     5\n",
              "Price            $22,000.00\n",
              "Name: 3, dtype: object"
            ]
          },
          "metadata": {
            "tags": []
          },
          "execution_count": 174
        }
      ]
    },
    {
      "cell_type": "markdown",
      "metadata": {
        "id": "ZP39RpaW4rMu",
        "colab_type": "text"
      },
      "source": [
        "You can see it's the same as `.loc[]` because the index is in order, position 3 is the same as index 3.\n",
        "\n",
        "You can also use slicing with `.loc[]` and `.iloc[]`."
      ]
    },
    {
      "cell_type": "code",
      "metadata": {
        "id": "_5SaHn8x4rMu",
        "colab_type": "code",
        "outputId": "376d16db-82d6-4531-ed9e-56cc312eff49",
        "colab": {
          "base_uri": "https://localhost:8080/",
          "height": 85
        }
      },
      "source": [
        "# Get all rows up to position 3\n",
        "animals.iloc[:3]"
      ],
      "execution_count": 175,
      "outputs": [
        {
          "output_type": "execute_result",
          "data": {
            "text/plain": [
              "0     cat\n",
              "3     dog\n",
              "9    bird\n",
              "dtype: object"
            ]
          },
          "metadata": {
            "tags": []
          },
          "execution_count": 175
        }
      ]
    },
    {
      "cell_type": "code",
      "metadata": {
        "id": "nQn1sO_74rM0",
        "colab_type": "code",
        "outputId": "0ef2f2d8-3ad7-4e7a-91cd-e5e6fef16c4a",
        "colab": {
          "base_uri": "https://localhost:8080/",
          "height": 173
        }
      },
      "source": [
        "# Get all rows up to (and including) index 3\n",
        "car_sales.loc[:3]"
      ],
      "execution_count": 176,
      "outputs": [
        {
          "output_type": "execute_result",
          "data": {
            "text/html": [
              "<div>\n",
              "<style scoped>\n",
              "    .dataframe tbody tr th:only-of-type {\n",
              "        vertical-align: middle;\n",
              "    }\n",
              "\n",
              "    .dataframe tbody tr th {\n",
              "        vertical-align: top;\n",
              "    }\n",
              "\n",
              "    .dataframe thead th {\n",
              "        text-align: right;\n",
              "    }\n",
              "</style>\n",
              "<table border=\"1\" class=\"dataframe\">\n",
              "  <thead>\n",
              "    <tr style=\"text-align: right;\">\n",
              "      <th></th>\n",
              "      <th>Make</th>\n",
              "      <th>Colour</th>\n",
              "      <th>Odometer (KM)</th>\n",
              "      <th>Doors</th>\n",
              "      <th>Price</th>\n",
              "    </tr>\n",
              "  </thead>\n",
              "  <tbody>\n",
              "    <tr>\n",
              "      <th>0</th>\n",
              "      <td>Toyota</td>\n",
              "      <td>White</td>\n",
              "      <td>150043</td>\n",
              "      <td>4</td>\n",
              "      <td>$4,000.00</td>\n",
              "    </tr>\n",
              "    <tr>\n",
              "      <th>1</th>\n",
              "      <td>Honda</td>\n",
              "      <td>Red</td>\n",
              "      <td>87899</td>\n",
              "      <td>4</td>\n",
              "      <td>$5,000.00</td>\n",
              "    </tr>\n",
              "    <tr>\n",
              "      <th>2</th>\n",
              "      <td>Toyota</td>\n",
              "      <td>Blue</td>\n",
              "      <td>32549</td>\n",
              "      <td>3</td>\n",
              "      <td>$7,000.00</td>\n",
              "    </tr>\n",
              "    <tr>\n",
              "      <th>3</th>\n",
              "      <td>BMW</td>\n",
              "      <td>Black</td>\n",
              "      <td>11179</td>\n",
              "      <td>5</td>\n",
              "      <td>$22,000.00</td>\n",
              "    </tr>\n",
              "  </tbody>\n",
              "</table>\n",
              "</div>"
            ],
            "text/plain": [
              "     Make Colour  Odometer (KM)  Doors       Price\n",
              "0  Toyota  White         150043      4   $4,000.00\n",
              "1   Honda    Red          87899      4   $5,000.00\n",
              "2  Toyota   Blue          32549      3   $7,000.00\n",
              "3     BMW  Black          11179      5  $22,000.00"
            ]
          },
          "metadata": {
            "tags": []
          },
          "execution_count": 176
        }
      ]
    },
    {
      "cell_type": "markdown",
      "metadata": {
        "id": "MFurQy0A4rM3",
        "colab_type": "text"
      },
      "source": [
        "When should you use `.loc[]` or `.iloc[]`?\n",
        "* Use `.loc[]` when you're referring to **indexes**.\n",
        "* Use `.iloc[]` when you're referring to **positions** in the `DataFrame` (index is out of order)."
      ]
    },
    {
      "cell_type": "markdown",
      "metadata": {
        "id": "9LPZTwVA4rM3",
        "colab_type": "text"
      },
      "source": [
        "If you want to select a particular column, you can use `['COLUMN_NAME']`."
      ]
    },
    {
      "cell_type": "code",
      "metadata": {
        "id": "nE2fvJ7n4rM4",
        "colab_type": "code",
        "outputId": "ef93ec1e-4db9-4a63-fe4b-55c99905c225",
        "colab": {
          "base_uri": "https://localhost:8080/",
          "height": 204
        }
      },
      "source": [
        "# Select Make column\n",
        "car_sales['Make']"
      ],
      "execution_count": 177,
      "outputs": [
        {
          "output_type": "execute_result",
          "data": {
            "text/plain": [
              "0    Toyota\n",
              "1     Honda\n",
              "2    Toyota\n",
              "3       BMW\n",
              "4    Nissan\n",
              "5    Toyota\n",
              "6     Honda\n",
              "7     Honda\n",
              "8    Toyota\n",
              "9    Nissan\n",
              "Name: Make, dtype: object"
            ]
          },
          "metadata": {
            "tags": []
          },
          "execution_count": 177
        }
      ]
    },
    {
      "cell_type": "code",
      "metadata": {
        "id": "6UfFDUYy4rM7",
        "colab_type": "code",
        "outputId": "10f3c3c6-16a8-4fd8-cd32-cc750d977ebd",
        "colab": {
          "base_uri": "https://localhost:8080/",
          "height": 204
        }
      },
      "source": [
        "# Select Colour column\n",
        "car_sales['Colour']"
      ],
      "execution_count": 178,
      "outputs": [
        {
          "output_type": "execute_result",
          "data": {
            "text/plain": [
              "0    White\n",
              "1      Red\n",
              "2     Blue\n",
              "3    Black\n",
              "4    White\n",
              "5    Green\n",
              "6     Blue\n",
              "7     Blue\n",
              "8    White\n",
              "9    White\n",
              "Name: Colour, dtype: object"
            ]
          },
          "metadata": {
            "tags": []
          },
          "execution_count": 178
        }
      ]
    },
    {
      "cell_type": "markdown",
      "metadata": {
        "id": "xqF5a2-m4rM9",
        "colab_type": "text"
      },
      "source": [
        "Boolean indexing works with column selection too. Using it will select the rows which fulfill the condition in the brackets."
      ]
    },
    {
      "cell_type": "code",
      "metadata": {
        "id": "MPVUrbqg4rM-",
        "colab_type": "code",
        "outputId": "e480ce90-3ec5-433b-c8f5-0fb2854c44d0",
        "colab": {
          "base_uri": "https://localhost:8080/",
          "height": 111
        }
      },
      "source": [
        "# Select cars with over 100,000 on the Odometer\n",
        "car_sales[car_sales[\"Odometer (KM)\"] > 100000]"
      ],
      "execution_count": 179,
      "outputs": [
        {
          "output_type": "execute_result",
          "data": {
            "text/html": [
              "<div>\n",
              "<style scoped>\n",
              "    .dataframe tbody tr th:only-of-type {\n",
              "        vertical-align: middle;\n",
              "    }\n",
              "\n",
              "    .dataframe tbody tr th {\n",
              "        vertical-align: top;\n",
              "    }\n",
              "\n",
              "    .dataframe thead th {\n",
              "        text-align: right;\n",
              "    }\n",
              "</style>\n",
              "<table border=\"1\" class=\"dataframe\">\n",
              "  <thead>\n",
              "    <tr style=\"text-align: right;\">\n",
              "      <th></th>\n",
              "      <th>Make</th>\n",
              "      <th>Colour</th>\n",
              "      <th>Odometer (KM)</th>\n",
              "      <th>Doors</th>\n",
              "      <th>Price</th>\n",
              "    </tr>\n",
              "  </thead>\n",
              "  <tbody>\n",
              "    <tr>\n",
              "      <th>0</th>\n",
              "      <td>Toyota</td>\n",
              "      <td>White</td>\n",
              "      <td>150043</td>\n",
              "      <td>4</td>\n",
              "      <td>$4,000.00</td>\n",
              "    </tr>\n",
              "    <tr>\n",
              "      <th>4</th>\n",
              "      <td>Nissan</td>\n",
              "      <td>White</td>\n",
              "      <td>213095</td>\n",
              "      <td>4</td>\n",
              "      <td>$3,500.00</td>\n",
              "    </tr>\n",
              "  </tbody>\n",
              "</table>\n",
              "</div>"
            ],
            "text/plain": [
              "     Make Colour  Odometer (KM)  Doors      Price\n",
              "0  Toyota  White         150043      4  $4,000.00\n",
              "4  Nissan  White         213095      4  $3,500.00"
            ]
          },
          "metadata": {
            "tags": []
          },
          "execution_count": 179
        }
      ]
    },
    {
      "cell_type": "code",
      "metadata": {
        "id": "cYR5G7134rNB",
        "colab_type": "code",
        "outputId": "5d3dbe2b-b893-4a31-8c7d-5744efb45af4",
        "colab": {
          "base_uri": "https://localhost:8080/",
          "height": 173
        }
      },
      "source": [
        "# Select cars which are made by Toyota\n",
        "car_sales[car_sales[\"Make\"] == \"Toyota\"]"
      ],
      "execution_count": 180,
      "outputs": [
        {
          "output_type": "execute_result",
          "data": {
            "text/html": [
              "<div>\n",
              "<style scoped>\n",
              "    .dataframe tbody tr th:only-of-type {\n",
              "        vertical-align: middle;\n",
              "    }\n",
              "\n",
              "    .dataframe tbody tr th {\n",
              "        vertical-align: top;\n",
              "    }\n",
              "\n",
              "    .dataframe thead th {\n",
              "        text-align: right;\n",
              "    }\n",
              "</style>\n",
              "<table border=\"1\" class=\"dataframe\">\n",
              "  <thead>\n",
              "    <tr style=\"text-align: right;\">\n",
              "      <th></th>\n",
              "      <th>Make</th>\n",
              "      <th>Colour</th>\n",
              "      <th>Odometer (KM)</th>\n",
              "      <th>Doors</th>\n",
              "      <th>Price</th>\n",
              "    </tr>\n",
              "  </thead>\n",
              "  <tbody>\n",
              "    <tr>\n",
              "      <th>0</th>\n",
              "      <td>Toyota</td>\n",
              "      <td>White</td>\n",
              "      <td>150043</td>\n",
              "      <td>4</td>\n",
              "      <td>$4,000.00</td>\n",
              "    </tr>\n",
              "    <tr>\n",
              "      <th>2</th>\n",
              "      <td>Toyota</td>\n",
              "      <td>Blue</td>\n",
              "      <td>32549</td>\n",
              "      <td>3</td>\n",
              "      <td>$7,000.00</td>\n",
              "    </tr>\n",
              "    <tr>\n",
              "      <th>5</th>\n",
              "      <td>Toyota</td>\n",
              "      <td>Green</td>\n",
              "      <td>99213</td>\n",
              "      <td>4</td>\n",
              "      <td>$4,500.00</td>\n",
              "    </tr>\n",
              "    <tr>\n",
              "      <th>8</th>\n",
              "      <td>Toyota</td>\n",
              "      <td>White</td>\n",
              "      <td>60000</td>\n",
              "      <td>4</td>\n",
              "      <td>$6,250.00</td>\n",
              "    </tr>\n",
              "  </tbody>\n",
              "</table>\n",
              "</div>"
            ],
            "text/plain": [
              "     Make Colour  Odometer (KM)  Doors      Price\n",
              "0  Toyota  White         150043      4  $4,000.00\n",
              "2  Toyota   Blue          32549      3  $7,000.00\n",
              "5  Toyota  Green          99213      4  $4,500.00\n",
              "8  Toyota  White          60000      4  $6,250.00"
            ]
          },
          "metadata": {
            "tags": []
          },
          "execution_count": 180
        }
      ]
    },
    {
      "cell_type": "markdown",
      "metadata": {
        "id": "NnoQPfao4rNE",
        "colab_type": "text"
      },
      "source": [
        "`pd.crosstab()` is a great way to view two different columns together and compare them."
      ]
    },
    {
      "cell_type": "code",
      "metadata": {
        "id": "uuh3dsFQ4rNF",
        "colab_type": "code",
        "outputId": "b9c402ad-c66a-4bf0-be1c-683e7ec3f328",
        "colab": {
          "base_uri": "https://localhost:8080/",
          "height": 204
        }
      },
      "source": [
        "# Compare car Make with number of Doors\n",
        "pd.crosstab(car_sales[\"Make\"], car_sales[\"Doors\"])"
      ],
      "execution_count": 181,
      "outputs": [
        {
          "output_type": "execute_result",
          "data": {
            "text/html": [
              "<div>\n",
              "<style scoped>\n",
              "    .dataframe tbody tr th:only-of-type {\n",
              "        vertical-align: middle;\n",
              "    }\n",
              "\n",
              "    .dataframe tbody tr th {\n",
              "        vertical-align: top;\n",
              "    }\n",
              "\n",
              "    .dataframe thead th {\n",
              "        text-align: right;\n",
              "    }\n",
              "</style>\n",
              "<table border=\"1\" class=\"dataframe\">\n",
              "  <thead>\n",
              "    <tr style=\"text-align: right;\">\n",
              "      <th>Doors</th>\n",
              "      <th>3</th>\n",
              "      <th>4</th>\n",
              "      <th>5</th>\n",
              "    </tr>\n",
              "    <tr>\n",
              "      <th>Make</th>\n",
              "      <th></th>\n",
              "      <th></th>\n",
              "      <th></th>\n",
              "    </tr>\n",
              "  </thead>\n",
              "  <tbody>\n",
              "    <tr>\n",
              "      <th>BMW</th>\n",
              "      <td>0</td>\n",
              "      <td>0</td>\n",
              "      <td>1</td>\n",
              "    </tr>\n",
              "    <tr>\n",
              "      <th>Honda</th>\n",
              "      <td>0</td>\n",
              "      <td>3</td>\n",
              "      <td>0</td>\n",
              "    </tr>\n",
              "    <tr>\n",
              "      <th>Nissan</th>\n",
              "      <td>0</td>\n",
              "      <td>2</td>\n",
              "      <td>0</td>\n",
              "    </tr>\n",
              "    <tr>\n",
              "      <th>Toyota</th>\n",
              "      <td>1</td>\n",
              "      <td>3</td>\n",
              "      <td>0</td>\n",
              "    </tr>\n",
              "  </tbody>\n",
              "</table>\n",
              "</div>"
            ],
            "text/plain": [
              "Doors   3  4  5\n",
              "Make           \n",
              "BMW     0  0  1\n",
              "Honda   0  3  0\n",
              "Nissan  0  2  0\n",
              "Toyota  1  3  0"
            ]
          },
          "metadata": {
            "tags": []
          },
          "execution_count": 181
        }
      ]
    },
    {
      "cell_type": "markdown",
      "metadata": {
        "id": "Fuaggf394rNH",
        "colab_type": "text"
      },
      "source": [
        "If you want to compare more columns in the context of another column, you can use `.groupby()`."
      ]
    },
    {
      "cell_type": "code",
      "metadata": {
        "id": "DHrnVRGV4rNH",
        "colab_type": "code",
        "outputId": "318e5912-c2f0-40b0-92a0-e5a881b04da4",
        "colab": {
          "base_uri": "https://localhost:8080/",
          "height": 204
        }
      },
      "source": [
        "car_sales.groupby(['Make']).mean()"
      ],
      "execution_count": 182,
      "outputs": [
        {
          "output_type": "execute_result",
          "data": {
            "text/html": [
              "<div>\n",
              "<style scoped>\n",
              "    .dataframe tbody tr th:only-of-type {\n",
              "        vertical-align: middle;\n",
              "    }\n",
              "\n",
              "    .dataframe tbody tr th {\n",
              "        vertical-align: top;\n",
              "    }\n",
              "\n",
              "    .dataframe thead th {\n",
              "        text-align: right;\n",
              "    }\n",
              "</style>\n",
              "<table border=\"1\" class=\"dataframe\">\n",
              "  <thead>\n",
              "    <tr style=\"text-align: right;\">\n",
              "      <th></th>\n",
              "      <th>Odometer (KM)</th>\n",
              "      <th>Doors</th>\n",
              "    </tr>\n",
              "    <tr>\n",
              "      <th>Make</th>\n",
              "      <th></th>\n",
              "      <th></th>\n",
              "    </tr>\n",
              "  </thead>\n",
              "  <tbody>\n",
              "    <tr>\n",
              "      <th>BMW</th>\n",
              "      <td>11179.000000</td>\n",
              "      <td>5.00</td>\n",
              "    </tr>\n",
              "    <tr>\n",
              "      <th>Honda</th>\n",
              "      <td>62778.333333</td>\n",
              "      <td>4.00</td>\n",
              "    </tr>\n",
              "    <tr>\n",
              "      <th>Nissan</th>\n",
              "      <td>122347.500000</td>\n",
              "      <td>4.00</td>\n",
              "    </tr>\n",
              "    <tr>\n",
              "      <th>Toyota</th>\n",
              "      <td>85451.250000</td>\n",
              "      <td>3.75</td>\n",
              "    </tr>\n",
              "  </tbody>\n",
              "</table>\n",
              "</div>"
            ],
            "text/plain": [
              "        Odometer (KM)  Doors\n",
              "Make                        \n",
              "BMW      11179.000000   5.00\n",
              "Honda    62778.333333   4.00\n",
              "Nissan  122347.500000   4.00\n",
              "Toyota   85451.250000   3.75"
            ]
          },
          "metadata": {
            "tags": []
          },
          "execution_count": 182
        }
      ]
    },
    {
      "cell_type": "code",
      "metadata": {
        "id": "n0GBLc5s-Ijc",
        "colab_type": "code",
        "colab": {}
      },
      "source": [
        ""
      ],
      "execution_count": 0,
      "outputs": []
    },
    {
      "cell_type": "code",
      "metadata": {
        "id": "-luNp1Ah-KJI",
        "colab_type": "code",
        "colab": {}
      },
      "source": [
        ""
      ],
      "execution_count": 0,
      "outputs": []
    },
    {
      "cell_type": "code",
      "metadata": {
        "id": "zsiWsIYe4rNK",
        "colab_type": "code",
        "outputId": "daf5d73a-4233-4a38-a970-bd605596dfad",
        "colab": {
          "base_uri": "https://localhost:8080/",
          "height": 204
        }
      },
      "source": [
        "# Group by the Make column and find the mean of the other columns \n",
        "car_sales.groupby([\"Make\"]).mean()"
      ],
      "execution_count": 183,
      "outputs": [
        {
          "output_type": "execute_result",
          "data": {
            "text/html": [
              "<div>\n",
              "<style scoped>\n",
              "    .dataframe tbody tr th:only-of-type {\n",
              "        vertical-align: middle;\n",
              "    }\n",
              "\n",
              "    .dataframe tbody tr th {\n",
              "        vertical-align: top;\n",
              "    }\n",
              "\n",
              "    .dataframe thead th {\n",
              "        text-align: right;\n",
              "    }\n",
              "</style>\n",
              "<table border=\"1\" class=\"dataframe\">\n",
              "  <thead>\n",
              "    <tr style=\"text-align: right;\">\n",
              "      <th></th>\n",
              "      <th>Odometer (KM)</th>\n",
              "      <th>Doors</th>\n",
              "    </tr>\n",
              "    <tr>\n",
              "      <th>Make</th>\n",
              "      <th></th>\n",
              "      <th></th>\n",
              "    </tr>\n",
              "  </thead>\n",
              "  <tbody>\n",
              "    <tr>\n",
              "      <th>BMW</th>\n",
              "      <td>11179.000000</td>\n",
              "      <td>5.00</td>\n",
              "    </tr>\n",
              "    <tr>\n",
              "      <th>Honda</th>\n",
              "      <td>62778.333333</td>\n",
              "      <td>4.00</td>\n",
              "    </tr>\n",
              "    <tr>\n",
              "      <th>Nissan</th>\n",
              "      <td>122347.500000</td>\n",
              "      <td>4.00</td>\n",
              "    </tr>\n",
              "    <tr>\n",
              "      <th>Toyota</th>\n",
              "      <td>85451.250000</td>\n",
              "      <td>3.75</td>\n",
              "    </tr>\n",
              "  </tbody>\n",
              "</table>\n",
              "</div>"
            ],
            "text/plain": [
              "        Odometer (KM)  Doors\n",
              "Make                        \n",
              "BMW      11179.000000   5.00\n",
              "Honda    62778.333333   4.00\n",
              "Nissan  122347.500000   4.00\n",
              "Toyota   85451.250000   3.75"
            ]
          },
          "metadata": {
            "tags": []
          },
          "execution_count": 183
        }
      ]
    },
    {
      "cell_type": "markdown",
      "metadata": {
        "id": "uPb68lnQ4rNO",
        "colab_type": "text"
      },
      "source": [
        "pandas even allows for quick plotting of columns so you can see your data visualling. To plot, you'll have to import `matplotlib`. If your plots aren't showing, try running the two lines of code below.\n",
        "\n",
        "`%matplotlib inline` is a special command which tells Jupyter to show your plots. Commands with `%` at the front are called magic commands."
      ]
    },
    {
      "cell_type": "code",
      "metadata": {
        "id": "0Qat_5vK4rNO",
        "colab_type": "code",
        "colab": {}
      },
      "source": [
        "# Import matplotlib and tell Jupyter to show plots\n",
        "import matplotlib.pyplot as plt\n",
        "%matplotlib inline"
      ],
      "execution_count": 0,
      "outputs": []
    },
    {
      "cell_type": "markdown",
      "metadata": {
        "id": "lGloLPxV4rNS",
        "colab_type": "text"
      },
      "source": [
        "You can visualize a column by calling `.plot()` on it."
      ]
    },
    {
      "cell_type": "code",
      "metadata": {
        "id": "YSq9DjwC4rNT",
        "colab_type": "code",
        "outputId": "b4788886-0eca-4f5f-df69-a48b9cf4a090",
        "colab": {
          "base_uri": "https://localhost:8080/",
          "height": 282
        }
      },
      "source": [
        "car_sales[\"Odometer (KM)\"].plot()"
      ],
      "execution_count": 185,
      "outputs": [
        {
          "output_type": "execute_result",
          "data": {
            "text/plain": [
              "<matplotlib.axes._subplots.AxesSubplot at 0x7f4170f38a20>"
            ]
          },
          "metadata": {
            "tags": []
          },
          "execution_count": 185
        },
        {
          "output_type": "display_data",
          "data": {
            "image/png": "[encoded data removed]",
            "text/plain": [
              "<Figure size 432x288 with 1 Axes>"
            ]
          },
          "metadata": {
            "tags": [],
            "needs_background": "light"
          }
        }
      ]
    },
    {
      "cell_type": "markdown",
      "metadata": {
        "id": "tW8LNMAG4rNb",
        "colab_type": "text"
      },
      "source": [
        "You can see the distribution of a column by calling `.hist()` on you.\n",
        "\n",
        "The distribution of something is a way of describing the spread of different values."
      ]
    },
    {
      "cell_type": "code",
      "metadata": {
        "id": "cY3lApZb4rNc",
        "colab_type": "code",
        "outputId": "2ff6ff7c-e664-4bcb-cbc3-e8964edbf7af",
        "colab": {
          "base_uri": "https://localhost:8080/",
          "height": 282
        }
      },
      "source": [
        "car_sales[\"Odometer (KM)\"].hist()"
      ],
      "execution_count": 186,
      "outputs": [
        {
          "output_type": "execute_result",
          "data": {
            "text/plain": [
              "<matplotlib.axes._subplots.AxesSubplot at 0x7f4170e8e748>"
            ]
          },
          "metadata": {
            "tags": []
          },
          "execution_count": 186
        },
        {
          "output_type": "display_data",
          "data": {
            "image/png": "[encoded data removed]",
            "text/plain": [
              "<Figure size 432x288 with 1 Axes>"
            ]
          },
          "metadata": {
            "tags": [],
            "needs_background": "light"
          }
        }
      ]
    },
    {
      "cell_type": "markdown",
      "metadata": {
        "id": "dRcscDx34rNe",
        "colab_type": "text"
      },
      "source": [
        "In this case, the majority of the **distribution** (spread) of the `\"Odometer\"` column is more towards the left of the graph. And there are two values which are more to the right. These two values to the right could be considered **outliers** (not part of the majority).\n",
        "\n",
        "Now what if we wanted to plot our `\"Price\"` column?\n",
        "\n",
        "Let's try."
      ]
    },
    {
      "cell_type": "code",
      "metadata": {
        "id": "rPho4JDE_W9O",
        "colab_type": "code",
        "colab": {
          "base_uri": "https://localhost:8080/",
          "height": 359
        },
        "outputId": "4bf3fe9b-bcf1-4a59-ad24-d1fef6467345"
      },
      "source": [
        "car_sales"
      ],
      "execution_count": 187,
      "outputs": [
        {
          "output_type": "execute_result",
          "data": {
            "text/html": [
              "<div>\n",
              "<style scoped>\n",
              "    .dataframe tbody tr th:only-of-type {\n",
              "        vertical-align: middle;\n",
              "    }\n",
              "\n",
              "    .dataframe tbody tr th {\n",
              "        vertical-align: top;\n",
              "    }\n",
              "\n",
              "    .dataframe thead th {\n",
              "        text-align: right;\n",
              "    }\n",
              "</style>\n",
              "<table border=\"1\" class=\"dataframe\">\n",
              "  <thead>\n",
              "    <tr style=\"text-align: right;\">\n",
              "      <th></th>\n",
              "      <th>Make</th>\n",
              "      <th>Colour</th>\n",
              "      <th>Odometer (KM)</th>\n",
              "      <th>Doors</th>\n",
              "      <th>Price</th>\n",
              "    </tr>\n",
              "  </thead>\n",
              "  <tbody>\n",
              "    <tr>\n",
              "      <th>0</th>\n",
              "      <td>Toyota</td>\n",
              "      <td>White</td>\n",
              "      <td>150043</td>\n",
              "      <td>4</td>\n",
              "      <td>$4,000.00</td>\n",
              "    </tr>\n",
              "    <tr>\n",
              "      <th>1</th>\n",
              "      <td>Honda</td>\n",
              "      <td>Red</td>\n",
              "      <td>87899</td>\n",
              "      <td>4</td>\n",
              "      <td>$5,000.00</td>\n",
              "    </tr>\n",
              "    <tr>\n",
              "      <th>2</th>\n",
              "      <td>Toyota</td>\n",
              "      <td>Blue</td>\n",
              "      <td>32549</td>\n",
              "      <td>3</td>\n",
              "      <td>$7,000.00</td>\n",
              "    </tr>\n",
              "    <tr>\n",
              "      <th>3</th>\n",
              "      <td>BMW</td>\n",
              "      <td>Black</td>\n",
              "      <td>11179</td>\n",
              "      <td>5</td>\n",
              "      <td>$22,000.00</td>\n",
              "    </tr>\n",
              "    <tr>\n",
              "      <th>4</th>\n",
              "      <td>Nissan</td>\n",
              "      <td>White</td>\n",
              "      <td>213095</td>\n",
              "      <td>4</td>\n",
              "      <td>$3,500.00</td>\n",
              "    </tr>\n",
              "    <tr>\n",
              "      <th>5</th>\n",
              "      <td>Toyota</td>\n",
              "      <td>Green</td>\n",
              "      <td>99213</td>\n",
              "      <td>4</td>\n",
              "      <td>$4,500.00</td>\n",
              "    </tr>\n",
              "    <tr>\n",
              "      <th>6</th>\n",
              "      <td>Honda</td>\n",
              "      <td>Blue</td>\n",
              "      <td>45698</td>\n",
              "      <td>4</td>\n",
              "      <td>$7,500.00</td>\n",
              "    </tr>\n",
              "    <tr>\n",
              "      <th>7</th>\n",
              "      <td>Honda</td>\n",
              "      <td>Blue</td>\n",
              "      <td>54738</td>\n",
              "      <td>4</td>\n",
              "      <td>$7,000.00</td>\n",
              "    </tr>\n",
              "    <tr>\n",
              "      <th>8</th>\n",
              "      <td>Toyota</td>\n",
              "      <td>White</td>\n",
              "      <td>60000</td>\n",
              "      <td>4</td>\n",
              "      <td>$6,250.00</td>\n",
              "    </tr>\n",
              "    <tr>\n",
              "      <th>9</th>\n",
              "      <td>Nissan</td>\n",
              "      <td>White</td>\n",
              "      <td>31600</td>\n",
              "      <td>4</td>\n",
              "      <td>$9,700.00</td>\n",
              "    </tr>\n",
              "  </tbody>\n",
              "</table>\n",
              "</div>"
            ],
            "text/plain": [
              "     Make Colour  Odometer (KM)  Doors       Price\n",
              "0  Toyota  White         150043      4   $4,000.00\n",
              "1   Honda    Red          87899      4   $5,000.00\n",
              "2  Toyota   Blue          32549      3   $7,000.00\n",
              "3     BMW  Black          11179      5  $22,000.00\n",
              "4  Nissan  White         213095      4   $3,500.00\n",
              "5  Toyota  Green          99213      4   $4,500.00\n",
              "6   Honda   Blue          45698      4   $7,500.00\n",
              "7   Honda   Blue          54738      4   $7,000.00\n",
              "8  Toyota  White          60000      4   $6,250.00\n",
              "9  Nissan  White          31600      4   $9,700.00"
            ]
          },
          "metadata": {
            "tags": []
          },
          "execution_count": 187
        }
      ]
    },
    {
      "cell_type": "code",
      "metadata": {
        "id": "NXtlEhKV4rNf",
        "colab_type": "code",
        "outputId": "0db7f0a6-d77e-4983-9236-39fe92935647",
        "colab": {
          "base_uri": "https://localhost:8080/",
          "height": 307
        }
      },
      "source": [
        "car_sales[\"Price\"].plot()"
      ],
      "execution_count": 134,
      "outputs": [
        {
          "output_type": "error",
          "ename": "TypeError",
          "evalue": "ignored",
          "traceback": [
            "\u001b[0;31m---------------------------------------------------------------------------\u001b[0m",
            "\u001b[0;31mTypeError\u001b[0m                                 Traceback (most recent call last)",
            "\u001b[0;32m<ipython-input-134-83bf2f29b5a6>\u001b[0m in \u001b[0;36m<module>\u001b[0;34m()\u001b[0m\n\u001b[0;32m----> 1\u001b[0;31m \u001b[0mcar_sales\u001b[0m\u001b[0;34m[\u001b[0m\u001b[0;34m\"Price\"\u001b[0m\u001b[0;34m]\u001b[0m\u001b[0;34m.\u001b[0m\u001b[0mplot\u001b[0m\u001b[0;34m(\u001b[0m\u001b[0;34m)\u001b[0m\u001b[0;34m\u001b[0m\u001b[0;34m\u001b[0m\u001b[0m\n\u001b[0m",
            "\u001b[0;32m/usr/local/lib/python3.6/dist-packages/pandas/plotting/_core.py\u001b[0m in \u001b[0;36m__call__\u001b[0;34m(self, *args, **kwargs)\u001b[0m\n\u001b[1;32m    845\u001b[0m                     \u001b[0mdata\u001b[0m\u001b[0;34m.\u001b[0m\u001b[0mcolumns\u001b[0m \u001b[0;34m=\u001b[0m \u001b[0mlabel_name\u001b[0m\u001b[0;34m\u001b[0m\u001b[0;34m\u001b[0m\u001b[0m\n\u001b[1;32m    846\u001b[0m \u001b[0;34m\u001b[0m\u001b[0m\n\u001b[0;32m--> 847\u001b[0;31m         \u001b[0;32mreturn\u001b[0m \u001b[0mplot_backend\u001b[0m\u001b[0;34m.\u001b[0m\u001b[0mplot\u001b[0m\u001b[0;34m(\u001b[0m\u001b[0mdata\u001b[0m\u001b[0;34m,\u001b[0m \u001b[0mkind\u001b[0m\u001b[0;34m=\u001b[0m\u001b[0mkind\u001b[0m\u001b[0;34m,\u001b[0m \u001b[0;34m**\u001b[0m\u001b[0mkwargs\u001b[0m\u001b[0;34m)\u001b[0m\u001b[0;34m\u001b[0m\u001b[0;34m\u001b[0m\u001b[0m\n\u001b[0m\u001b[1;32m    848\u001b[0m \u001b[0;34m\u001b[0m\u001b[0m\n\u001b[1;32m    849\u001b[0m     \u001b[0m__call__\u001b[0m\u001b[0;34m.\u001b[0m\u001b[0m__doc__\u001b[0m \u001b[0;34m=\u001b[0m \u001b[0m__doc__\u001b[0m\u001b[0;34m\u001b[0m\u001b[0;34m\u001b[0m\u001b[0m\n",
            "\u001b[0;32m/usr/local/lib/python3.6/dist-packages/pandas/plotting/_matplotlib/__init__.py\u001b[0m in \u001b[0;36mplot\u001b[0;34m(data, kind, **kwargs)\u001b[0m\n\u001b[1;32m     59\u001b[0m             \u001b[0mkwargs\u001b[0m\u001b[0;34m[\u001b[0m\u001b[0;34m\"ax\"\u001b[0m\u001b[0;34m]\u001b[0m \u001b[0;34m=\u001b[0m \u001b[0mgetattr\u001b[0m\u001b[0;34m(\u001b[0m\u001b[0max\u001b[0m\u001b[0;34m,\u001b[0m \u001b[0;34m\"left_ax\"\u001b[0m\u001b[0;34m,\u001b[0m \u001b[0max\u001b[0m\u001b[0;34m)\u001b[0m\u001b[0;34m\u001b[0m\u001b[0;34m\u001b[0m\u001b[0m\n\u001b[1;32m     60\u001b[0m     \u001b[0mplot_obj\u001b[0m \u001b[0;34m=\u001b[0m \u001b[0mPLOT_CLASSES\u001b[0m\u001b[0;34m[\u001b[0m\u001b[0mkind\u001b[0m\u001b[0;34m]\u001b[0m\u001b[0;34m(\u001b[0m\u001b[0mdata\u001b[0m\u001b[0;34m,\u001b[0m \u001b[0;34m**\u001b[0m\u001b[0mkwargs\u001b[0m\u001b[0;34m)\u001b[0m\u001b[0;34m\u001b[0m\u001b[0;34m\u001b[0m\u001b[0m\n\u001b[0;32m---> 61\u001b[0;31m     \u001b[0mplot_obj\u001b[0m\u001b[0;34m.\u001b[0m\u001b[0mgenerate\u001b[0m\u001b[0;34m(\u001b[0m\u001b[0;34m)\u001b[0m\u001b[0;34m\u001b[0m\u001b[0;34m\u001b[0m\u001b[0m\n\u001b[0m\u001b[1;32m     62\u001b[0m     \u001b[0mplot_obj\u001b[0m\u001b[0;34m.\u001b[0m\u001b[0mdraw\u001b[0m\u001b[0;34m(\u001b[0m\u001b[0;34m)\u001b[0m\u001b[0;34m\u001b[0m\u001b[0;34m\u001b[0m\u001b[0m\n\u001b[1;32m     63\u001b[0m     \u001b[0;32mreturn\u001b[0m \u001b[0mplot_obj\u001b[0m\u001b[0;34m.\u001b[0m\u001b[0mresult\u001b[0m\u001b[0;34m\u001b[0m\u001b[0;34m\u001b[0m\u001b[0m\n",
            "\u001b[0;32m/usr/local/lib/python3.6/dist-packages/pandas/plotting/_matplotlib/core.py\u001b[0m in \u001b[0;36mgenerate\u001b[0;34m(self)\u001b[0m\n\u001b[1;32m    259\u001b[0m     \u001b[0;32mdef\u001b[0m \u001b[0mgenerate\u001b[0m\u001b[0;34m(\u001b[0m\u001b[0mself\u001b[0m\u001b[0;34m)\u001b[0m\u001b[0;34m:\u001b[0m\u001b[0;34m\u001b[0m\u001b[0;34m\u001b[0m\u001b[0m\n\u001b[1;32m    260\u001b[0m         \u001b[0mself\u001b[0m\u001b[0;34m.\u001b[0m\u001b[0m_args_adjust\u001b[0m\u001b[0;34m(\u001b[0m\u001b[0;34m)\u001b[0m\u001b[0;34m\u001b[0m\u001b[0;34m\u001b[0m\u001b[0m\n\u001b[0;32m--> 261\u001b[0;31m         \u001b[0mself\u001b[0m\u001b[0;34m.\u001b[0m\u001b[0m_compute_plot_data\u001b[0m\u001b[0;34m(\u001b[0m\u001b[0;34m)\u001b[0m\u001b[0;34m\u001b[0m\u001b[0;34m\u001b[0m\u001b[0m\n\u001b[0m\u001b[1;32m    262\u001b[0m         \u001b[0mself\u001b[0m\u001b[0;34m.\u001b[0m\u001b[0m_setup_subplots\u001b[0m\u001b[0;34m(\u001b[0m\u001b[0;34m)\u001b[0m\u001b[0;34m\u001b[0m\u001b[0;34m\u001b[0m\u001b[0m\n\u001b[1;32m    263\u001b[0m         \u001b[0mself\u001b[0m\u001b[0;34m.\u001b[0m\u001b[0m_make_plot\u001b[0m\u001b[0;34m(\u001b[0m\u001b[0;34m)\u001b[0m\u001b[0;34m\u001b[0m\u001b[0;34m\u001b[0m\u001b[0m\n",
            "\u001b[0;32m/usr/local/lib/python3.6/dist-packages/pandas/plotting/_matplotlib/core.py\u001b[0m in \u001b[0;36m_compute_plot_data\u001b[0;34m(self)\u001b[0m\n\u001b[1;32m    408\u001b[0m         \u001b[0;31m# no non-numeric frames or series allowed\u001b[0m\u001b[0;34m\u001b[0m\u001b[0;34m\u001b[0m\u001b[0;34m\u001b[0m\u001b[0m\n\u001b[1;32m    409\u001b[0m         \u001b[0;32mif\u001b[0m \u001b[0mis_empty\u001b[0m\u001b[0;34m:\u001b[0m\u001b[0;34m\u001b[0m\u001b[0;34m\u001b[0m\u001b[0m\n\u001b[0;32m--> 410\u001b[0;31m             \u001b[0;32mraise\u001b[0m \u001b[0mTypeError\u001b[0m\u001b[0;34m(\u001b[0m\u001b[0;34m\"no numeric data to plot\"\u001b[0m\u001b[0;34m)\u001b[0m\u001b[0;34m\u001b[0m\u001b[0;34m\u001b[0m\u001b[0m\n\u001b[0m\u001b[1;32m    411\u001b[0m \u001b[0;34m\u001b[0m\u001b[0m\n\u001b[1;32m    412\u001b[0m         \u001b[0;31m# GH25587: cast ExtensionArray of pandas (IntegerArray, etc.) to\u001b[0m\u001b[0;34m\u001b[0m\u001b[0;34m\u001b[0m\u001b[0;34m\u001b[0m\u001b[0m\n",
            "\u001b[0;31mTypeError\u001b[0m: no numeric data to plot"
          ]
        }
      ]
    },
    {
      "cell_type": "markdown",
      "metadata": {
        "id": "j3ulsFkN4rNi",
        "colab_type": "text"
      },
      "source": [
        "Trying to run it leaves us with an error. This is because the `\"Price\"` column of `car_sales` isn't in numeric form. We can tell this because of the `TypeError: no numeric data to plot` at the bottom of the cell.\n",
        "\n",
        "We can check this with `.info()`."
      ]
    },
    {
      "cell_type": "code",
      "metadata": {
        "id": "y1oqxIDX4rNi",
        "colab_type": "code",
        "outputId": "54979be6-d441-4173-c89f-6b384c5ad14e",
        "colab": {
          "base_uri": "https://localhost:8080/",
          "height": 221
        }
      },
      "source": [
        "car_sales.info()"
      ],
      "execution_count": 188,
      "outputs": [
        {
          "output_type": "stream",
          "text": [
            "<class 'pandas.core.frame.DataFrame'>\n",
            "RangeIndex: 10 entries, 0 to 9\n",
            "Data columns (total 5 columns):\n",
            " #   Column         Non-Null Count  Dtype \n",
            "---  ------         --------------  ----- \n",
            " 0   Make           10 non-null     object\n",
            " 1   Colour         10 non-null     object\n",
            " 2   Odometer (KM)  10 non-null     int64 \n",
            " 3   Doors          10 non-null     int64 \n",
            " 4   Price          10 non-null     object\n",
            "dtypes: int64(2), object(3)\n",
            "memory usage: 528.0+ bytes\n"
          ],
          "name": "stdout"
        }
      ]
    },
    {
      "cell_type": "markdown",
      "metadata": {
        "id": "jxULEthq4rNl",
        "colab_type": "text"
      },
      "source": [
        "So what can we do?\n",
        "\n",
        "We need to convert the `\"Price\"` column to a numeric type.\n",
        "\n",
        "How?\n",
        "\n",
        "We could try a few different things on our own. But let's practice researching.\n",
        "\n",
        "\n",
        "\n",
        "**1.** Open up a search engine and type in something like \"how to convert a pandas column price to integer\".\n",
        "\n",
        "In the first result, I found this [Stack Overflow question and answer](https://stackoverflow.com/questions/44469313/price-column-object-to-int-in-pandas) . Where someone has had the same problem as us and someone else has provided an answer.\n",
        "\n",
        "**Note:** Sometimes the answer you're looking for won't be in the first result, or the 2nd or the 3rd. You may have to combine a few different solutions.\n",
        "\n",
        "**2.** In practice, you'd read through this and see if it relates to your problem. \n",
        "\n",
        "**3.** If it does, you can adjust the code from what's given in the Stack Overflow answer(s) to your own problem.\n",
        "\n",
        "<img src=\"https://github.com/ras783/zero-to-mastery-ml/blob/master/images/pandas-steps-in-stack-overflow-process.png?raw=1\" alt=\"steps in researching a problem you have using Google and Stack Overflow\" width=\"1000\"/>\n",
        "\n",
        "What's important in the beginning is not to remember every single detail off by heart but to know where to look. Remember, if in doubt, write code, run it, see what happens.\n",
        "\n",
        "Let's copy the answer code here and see how it relates to our problem.\n",
        "\n",
        "Answer code: ```dataframe['amount'] = dataframe['amount'].str.replace('[\\$\\,\\.]', '').astype(int)```\n",
        "\n",
        "There's a lot going on here but what we can do is change the parts which aren't in our problem and keep the rest the same.\n",
        "\n",
        "Our `DataFrame` is called `car_sales` not `dataframe`.\n",
        "\n",
        "```car_sales['amount'] = car_sales['amount'].str.replace('[\\$\\,\\.]', '').astype(int)```\n",
        "\n",
        "And our `'amount'` column is called `\"Price\"`.\n",
        "\n",
        "```car_sales[\"Price\"] = car_sales[\"Price\"].str.replace('[\\$\\,\\.]', '').astype(int)```\n",
        "\n",
        "That looks better. What the code on the right of `car_sales[\"Price\"]` is saying is \"remove the $ sign and comma and change the type of the cell to int\".\n",
        "\n",
        "Let's see what happens."
      ]
    },
    {
      "cell_type": "code",
      "metadata": {
        "id": "oXO4i10m4rNm",
        "colab_type": "code",
        "colab": {}
      },
      "source": [
        "# Change Price column to integers\n",
        "car_sales[\"Price\"] = car_sales[\"Price\"].str.replace('[\\$\\,\\.]', '').astype(int)"
      ],
      "execution_count": 0,
      "outputs": []
    },
    {
      "cell_type": "code",
      "metadata": {
        "id": "7CLDDFl34rNp",
        "colab_type": "code",
        "outputId": "731e1fd4-61b2-4508-973a-0186a129de8c",
        "colab": {
          "base_uri": "https://localhost:8080/",
          "height": 359
        }
      },
      "source": [
        "car_sales"
      ],
      "execution_count": 190,
      "outputs": [
        {
          "output_type": "execute_result",
          "data": {
            "text/html": [
              "<div>\n",
              "<style scoped>\n",
              "    .dataframe tbody tr th:only-of-type {\n",
              "        vertical-align: middle;\n",
              "    }\n",
              "\n",
              "    .dataframe tbody tr th {\n",
              "        vertical-align: top;\n",
              "    }\n",
              "\n",
              "    .dataframe thead th {\n",
              "        text-align: right;\n",
              "    }\n",
              "</style>\n",
              "<table border=\"1\" class=\"dataframe\">\n",
              "  <thead>\n",
              "    <tr style=\"text-align: right;\">\n",
              "      <th></th>\n",
              "      <th>Make</th>\n",
              "      <th>Colour</th>\n",
              "      <th>Odometer (KM)</th>\n",
              "      <th>Doors</th>\n",
              "      <th>Price</th>\n",
              "    </tr>\n",
              "  </thead>\n",
              "  <tbody>\n",
              "    <tr>\n",
              "      <th>0</th>\n",
              "      <td>Toyota</td>\n",
              "      <td>White</td>\n",
              "      <td>150043</td>\n",
              "      <td>4</td>\n",
              "      <td>400000</td>\n",
              "    </tr>\n",
              "    <tr>\n",
              "      <th>1</th>\n",
              "      <td>Honda</td>\n",
              "      <td>Red</td>\n",
              "      <td>87899</td>\n",
              "      <td>4</td>\n",
              "      <td>500000</td>\n",
              "    </tr>\n",
              "    <tr>\n",
              "      <th>2</th>\n",
              "      <td>Toyota</td>\n",
              "      <td>Blue</td>\n",
              "      <td>32549</td>\n",
              "      <td>3</td>\n",
              "      <td>700000</td>\n",
              "    </tr>\n",
              "    <tr>\n",
              "      <th>3</th>\n",
              "      <td>BMW</td>\n",
              "      <td>Black</td>\n",
              "      <td>11179</td>\n",
              "      <td>5</td>\n",
              "      <td>2200000</td>\n",
              "    </tr>\n",
              "    <tr>\n",
              "      <th>4</th>\n",
              "      <td>Nissan</td>\n",
              "      <td>White</td>\n",
              "      <td>213095</td>\n",
              "      <td>4</td>\n",
              "      <td>350000</td>\n",
              "    </tr>\n",
              "    <tr>\n",
              "      <th>5</th>\n",
              "      <td>Toyota</td>\n",
              "      <td>Green</td>\n",
              "      <td>99213</td>\n",
              "      <td>4</td>\n",
              "      <td>450000</td>\n",
              "    </tr>\n",
              "    <tr>\n",
              "      <th>6</th>\n",
              "      <td>Honda</td>\n",
              "      <td>Blue</td>\n",
              "      <td>45698</td>\n",
              "      <td>4</td>\n",
              "      <td>750000</td>\n",
              "    </tr>\n",
              "    <tr>\n",
              "      <th>7</th>\n",
              "      <td>Honda</td>\n",
              "      <td>Blue</td>\n",
              "      <td>54738</td>\n",
              "      <td>4</td>\n",
              "      <td>700000</td>\n",
              "    </tr>\n",
              "    <tr>\n",
              "      <th>8</th>\n",
              "      <td>Toyota</td>\n",
              "      <td>White</td>\n",
              "      <td>60000</td>\n",
              "      <td>4</td>\n",
              "      <td>625000</td>\n",
              "    </tr>\n",
              "    <tr>\n",
              "      <th>9</th>\n",
              "      <td>Nissan</td>\n",
              "      <td>White</td>\n",
              "      <td>31600</td>\n",
              "      <td>4</td>\n",
              "      <td>970000</td>\n",
              "    </tr>\n",
              "  </tbody>\n",
              "</table>\n",
              "</div>"
            ],
            "text/plain": [
              "     Make Colour  Odometer (KM)  Doors    Price\n",
              "0  Toyota  White         150043      4   400000\n",
              "1   Honda    Red          87899      4   500000\n",
              "2  Toyota   Blue          32549      3   700000\n",
              "3     BMW  Black          11179      5  2200000\n",
              "4  Nissan  White         213095      4   350000\n",
              "5  Toyota  Green          99213      4   450000\n",
              "6   Honda   Blue          45698      4   750000\n",
              "7   Honda   Blue          54738      4   700000\n",
              "8  Toyota  White          60000      4   625000\n",
              "9  Nissan  White          31600      4   970000"
            ]
          },
          "metadata": {
            "tags": []
          },
          "execution_count": 190
        }
      ]
    },
    {
      "cell_type": "markdown",
      "metadata": {
        "id": "uMp1JRFL4rNs",
        "colab_type": "text"
      },
      "source": [
        "Beautiful! Now let's try to plot it agian."
      ]
    },
    {
      "cell_type": "code",
      "metadata": {
        "id": "voT2nRqV4rNs",
        "colab_type": "code",
        "outputId": "2ff85753-32a9-4794-d069-29f5428a2b96",
        "colab": {
          "base_uri": "https://localhost:8080/",
          "height": 293
        }
      },
      "source": [
        "car_sales[\"Price\"].plot()"
      ],
      "execution_count": 191,
      "outputs": [
        {
          "output_type": "execute_result",
          "data": {
            "text/plain": [
              "<matplotlib.axes._subplots.AxesSubplot at 0x7f4170e0eba8>"
            ]
          },
          "metadata": {
            "tags": []
          },
          "execution_count": 191
        },
        {
          "output_type": "display_data",
          "data": {
            "image/png": "[encoded data removed]",
            "text/plain": [
              "<Figure size 432x288 with 1 Axes>"
            ]
          },
          "metadata": {
            "tags": [],
            "needs_background": "light"
          }
        }
      ]
    },
    {
      "cell_type": "markdown",
      "metadata": {
        "id": "F9DLmcC54rNw",
        "colab_type": "text"
      },
      "source": [
        "This is one of the many ways you can manipulate data using pandas. \n",
        "\n",
        "When you see a number of different functions in a row, it's referred to as **chaining**. This means you add together a series of functions all to do one overall task.\n",
        "\n",
        "Let's see a few more ways of manipulating data."
      ]
    },
    {
      "cell_type": "markdown",
      "metadata": {
        "id": "dHoE2bBO4rNx",
        "colab_type": "text"
      },
      "source": [
        "## 6. Manipulating data\n",
        "\n",
        "You've seen an example of one way to manipulate data but pandas has many more. How many more? Put it this way, if you can imagine it, chances are, pandas can do it.\n",
        "\n",
        "Let's start with string methods. Because pandas is based on Python, however you can manipulate strings in Python, you can do the same in pandas.\n",
        "\n",
        "You can access the string value of a column using `.str`. Knowing this, how do you think you'd set a column to lowercase?"
      ]
    },
    {
      "cell_type": "code",
      "metadata": {
        "id": "1I0oKRov4rNy",
        "colab_type": "code",
        "outputId": "aea14e4f-e9b1-40d0-e654-478e363e8da8",
        "colab": {
          "base_uri": "https://localhost:8080/",
          "height": 204
        }
      },
      "source": [
        "# Lower the Make column\n",
        "car_sales[\"Make\"].str.lower()"
      ],
      "execution_count": 192,
      "outputs": [
        {
          "output_type": "execute_result",
          "data": {
            "text/plain": [
              "0    toyota\n",
              "1     honda\n",
              "2    toyota\n",
              "3       bmw\n",
              "4    nissan\n",
              "5    toyota\n",
              "6     honda\n",
              "7     honda\n",
              "8    toyota\n",
              "9    nissan\n",
              "Name: Make, dtype: object"
            ]
          },
          "metadata": {
            "tags": []
          },
          "execution_count": 192
        }
      ]
    },
    {
      "cell_type": "markdown",
      "metadata": {
        "id": "A6N3nOqO4rN0",
        "colab_type": "text"
      },
      "source": [
        "Notice how it doesn't change the values of the original `car_sales` `DataFrame` unless we set it equal to."
      ]
    },
    {
      "cell_type": "code",
      "metadata": {
        "id": "P1ewr0QG4rN1",
        "colab_type": "code",
        "outputId": "c406ded9-e4a4-4fc7-cc06-4ef6fbe5b4b6",
        "colab": {
          "base_uri": "https://localhost:8080/",
          "height": 204
        }
      },
      "source": [
        "# View top 5 rows, Make column not lowered\n",
        "car_sales.head()"
      ],
      "execution_count": 193,
      "outputs": [
        {
          "output_type": "execute_result",
          "data": {
            "text/html": [
              "<div>\n",
              "<style scoped>\n",
              "    .dataframe tbody tr th:only-of-type {\n",
              "        vertical-align: middle;\n",
              "    }\n",
              "\n",
              "    .dataframe tbody tr th {\n",
              "        vertical-align: top;\n",
              "    }\n",
              "\n",
              "    .dataframe thead th {\n",
              "        text-align: right;\n",
              "    }\n",
              "</style>\n",
              "<table border=\"1\" class=\"dataframe\">\n",
              "  <thead>\n",
              "    <tr style=\"text-align: right;\">\n",
              "      <th></th>\n",
              "      <th>Make</th>\n",
              "      <th>Colour</th>\n",
              "      <th>Odometer (KM)</th>\n",
              "      <th>Doors</th>\n",
              "      <th>Price</th>\n",
              "    </tr>\n",
              "  </thead>\n",
              "  <tbody>\n",
              "    <tr>\n",
              "      <th>0</th>\n",
              "      <td>Toyota</td>\n",
              "      <td>White</td>\n",
              "      <td>150043</td>\n",
              "      <td>4</td>\n",
              "      <td>400000</td>\n",
              "    </tr>\n",
              "    <tr>\n",
              "      <th>1</th>\n",
              "      <td>Honda</td>\n",
              "      <td>Red</td>\n",
              "      <td>87899</td>\n",
              "      <td>4</td>\n",
              "      <td>500000</td>\n",
              "    </tr>\n",
              "    <tr>\n",
              "      <th>2</th>\n",
              "      <td>Toyota</td>\n",
              "      <td>Blue</td>\n",
              "      <td>32549</td>\n",
              "      <td>3</td>\n",
              "      <td>700000</td>\n",
              "    </tr>\n",
              "    <tr>\n",
              "      <th>3</th>\n",
              "      <td>BMW</td>\n",
              "      <td>Black</td>\n",
              "      <td>11179</td>\n",
              "      <td>5</td>\n",
              "      <td>2200000</td>\n",
              "    </tr>\n",
              "    <tr>\n",
              "      <th>4</th>\n",
              "      <td>Nissan</td>\n",
              "      <td>White</td>\n",
              "      <td>213095</td>\n",
              "      <td>4</td>\n",
              "      <td>350000</td>\n",
              "    </tr>\n",
              "  </tbody>\n",
              "</table>\n",
              "</div>"
            ],
            "text/plain": [
              "     Make Colour  Odometer (KM)  Doors    Price\n",
              "0  Toyota  White         150043      4   400000\n",
              "1   Honda    Red          87899      4   500000\n",
              "2  Toyota   Blue          32549      3   700000\n",
              "3     BMW  Black          11179      5  2200000\n",
              "4  Nissan  White         213095      4   350000"
            ]
          },
          "metadata": {
            "tags": []
          },
          "execution_count": 193
        }
      ]
    },
    {
      "cell_type": "code",
      "metadata": {
        "id": "qJn41EXQ4rN4",
        "colab_type": "code",
        "outputId": "364b3a78-0474-400e-f795-86f693d48f91",
        "colab": {
          "base_uri": "https://localhost:8080/",
          "height": 204
        }
      },
      "source": [
        "# Set Make column to be lowered\n",
        "car_sales[\"Make\"] = car_sales[\"Make\"].str.lower()\n",
        "car_sales.head()"
      ],
      "execution_count": 194,
      "outputs": [
        {
          "output_type": "execute_result",
          "data": {
            "text/html": [
              "<div>\n",
              "<style scoped>\n",
              "    .dataframe tbody tr th:only-of-type {\n",
              "        vertical-align: middle;\n",
              "    }\n",
              "\n",
              "    .dataframe tbody tr th {\n",
              "        vertical-align: top;\n",
              "    }\n",
              "\n",
              "    .dataframe thead th {\n",
              "        text-align: right;\n",
              "    }\n",
              "</style>\n",
              "<table border=\"1\" class=\"dataframe\">\n",
              "  <thead>\n",
              "    <tr style=\"text-align: right;\">\n",
              "      <th></th>\n",
              "      <th>Make</th>\n",
              "      <th>Colour</th>\n",
              "      <th>Odometer (KM)</th>\n",
              "      <th>Doors</th>\n",
              "      <th>Price</th>\n",
              "    </tr>\n",
              "  </thead>\n",
              "  <tbody>\n",
              "    <tr>\n",
              "      <th>0</th>\n",
              "      <td>toyota</td>\n",
              "      <td>White</td>\n",
              "      <td>150043</td>\n",
              "      <td>4</td>\n",
              "      <td>400000</td>\n",
              "    </tr>\n",
              "    <tr>\n",
              "      <th>1</th>\n",
              "      <td>honda</td>\n",
              "      <td>Red</td>\n",
              "      <td>87899</td>\n",
              "      <td>4</td>\n",
              "      <td>500000</td>\n",
              "    </tr>\n",
              "    <tr>\n",
              "      <th>2</th>\n",
              "      <td>toyota</td>\n",
              "      <td>Blue</td>\n",
              "      <td>32549</td>\n",
              "      <td>3</td>\n",
              "      <td>700000</td>\n",
              "    </tr>\n",
              "    <tr>\n",
              "      <th>3</th>\n",
              "      <td>bmw</td>\n",
              "      <td>Black</td>\n",
              "      <td>11179</td>\n",
              "      <td>5</td>\n",
              "      <td>2200000</td>\n",
              "    </tr>\n",
              "    <tr>\n",
              "      <th>4</th>\n",
              "      <td>nissan</td>\n",
              "      <td>White</td>\n",
              "      <td>213095</td>\n",
              "      <td>4</td>\n",
              "      <td>350000</td>\n",
              "    </tr>\n",
              "  </tbody>\n",
              "</table>\n",
              "</div>"
            ],
            "text/plain": [
              "     Make Colour  Odometer (KM)  Doors    Price\n",
              "0  toyota  White         150043      4   400000\n",
              "1   honda    Red          87899      4   500000\n",
              "2  toyota   Blue          32549      3   700000\n",
              "3     bmw  Black          11179      5  2200000\n",
              "4  nissan  White         213095      4   350000"
            ]
          },
          "metadata": {
            "tags": []
          },
          "execution_count": 194
        }
      ]
    },
    {
      "cell_type": "markdown",
      "metadata": {
        "id": "rrD_eNiQ4rN7",
        "colab_type": "text"
      },
      "source": [
        "Reassigning the column changes it in the original `DataFrame`. This trend occurs throughout all kinds of data manipulation with pandas.\n",
        "\n",
        "Some functions have a parameter called `inplace` which means a `DataFrame` is updated in place without having to reassign it.\n",
        "\n",
        "Let's see what it looks like in combination with `.fillna()`, a function which fills missing data. But the thing is, our table isn't missing any data.\n",
        "\n",
        "In practice, it's likely you'll work with datasets which aren't complete. What this means is you'll have to decide whether how to fill the missing data or remove the rows which have data missing.\n",
        "\n",
        "Let's check out what a version of our `car_sales` `DataFrame` might look like with missing values."
      ]
    },
    {
      "cell_type": "code",
      "metadata": {
        "id": "tXOehl5-4rN8",
        "colab_type": "code",
        "outputId": "d051d5a6-490a-4e6d-a76e-fa54288529d8",
        "colab": {
          "base_uri": "https://localhost:8080/",
          "height": 359
        }
      },
      "source": [
        "# Import car sales data with missing values\n",
        "car_sales_missing = pd.read_csv(\"data/car-sales-missing-data.csv\")\n",
        "car_sales_missing"
      ],
      "execution_count": 196,
      "outputs": [
        {
          "output_type": "execute_result",
          "data": {
            "text/html": [
              "<div>\n",
              "<style scoped>\n",
              "    .dataframe tbody tr th:only-of-type {\n",
              "        vertical-align: middle;\n",
              "    }\n",
              "\n",
              "    .dataframe tbody tr th {\n",
              "        vertical-align: top;\n",
              "    }\n",
              "\n",
              "    .dataframe thead th {\n",
              "        text-align: right;\n",
              "    }\n",
              "</style>\n",
              "<table border=\"1\" class=\"dataframe\">\n",
              "  <thead>\n",
              "    <tr style=\"text-align: right;\">\n",
              "      <th></th>\n",
              "      <th>Make</th>\n",
              "      <th>Colour</th>\n",
              "      <th>Odometer</th>\n",
              "      <th>Doors</th>\n",
              "      <th>Price</th>\n",
              "    </tr>\n",
              "  </thead>\n",
              "  <tbody>\n",
              "    <tr>\n",
              "      <th>0</th>\n",
              "      <td>Toyota</td>\n",
              "      <td>White</td>\n",
              "      <td>150043.0</td>\n",
              "      <td>4.0</td>\n",
              "      <td>$4,000</td>\n",
              "    </tr>\n",
              "    <tr>\n",
              "      <th>1</th>\n",
              "      <td>Honda</td>\n",
              "      <td>Red</td>\n",
              "      <td>87899.0</td>\n",
              "      <td>4.0</td>\n",
              "      <td>$5,000</td>\n",
              "    </tr>\n",
              "    <tr>\n",
              "      <th>2</th>\n",
              "      <td>Toyota</td>\n",
              "      <td>Blue</td>\n",
              "      <td>NaN</td>\n",
              "      <td>3.0</td>\n",
              "      <td>$7,000</td>\n",
              "    </tr>\n",
              "    <tr>\n",
              "      <th>3</th>\n",
              "      <td>BMW</td>\n",
              "      <td>Black</td>\n",
              "      <td>11179.0</td>\n",
              "      <td>5.0</td>\n",
              "      <td>$22,000</td>\n",
              "    </tr>\n",
              "    <tr>\n",
              "      <th>4</th>\n",
              "      <td>Nissan</td>\n",
              "      <td>White</td>\n",
              "      <td>213095.0</td>\n",
              "      <td>4.0</td>\n",
              "      <td>$3,500</td>\n",
              "    </tr>\n",
              "    <tr>\n",
              "      <th>5</th>\n",
              "      <td>Toyota</td>\n",
              "      <td>Green</td>\n",
              "      <td>NaN</td>\n",
              "      <td>4.0</td>\n",
              "      <td>$4,500</td>\n",
              "    </tr>\n",
              "    <tr>\n",
              "      <th>6</th>\n",
              "      <td>Honda</td>\n",
              "      <td>NaN</td>\n",
              "      <td>NaN</td>\n",
              "      <td>4.0</td>\n",
              "      <td>$7,500</td>\n",
              "    </tr>\n",
              "    <tr>\n",
              "      <th>7</th>\n",
              "      <td>Honda</td>\n",
              "      <td>Blue</td>\n",
              "      <td>NaN</td>\n",
              "      <td>4.0</td>\n",
              "      <td>NaN</td>\n",
              "    </tr>\n",
              "    <tr>\n",
              "      <th>8</th>\n",
              "      <td>Toyota</td>\n",
              "      <td>White</td>\n",
              "      <td>60000.0</td>\n",
              "      <td>NaN</td>\n",
              "      <td>NaN</td>\n",
              "    </tr>\n",
              "    <tr>\n",
              "      <th>9</th>\n",
              "      <td>NaN</td>\n",
              "      <td>White</td>\n",
              "      <td>31600.0</td>\n",
              "      <td>4.0</td>\n",
              "      <td>$9,700</td>\n",
              "    </tr>\n",
              "  </tbody>\n",
              "</table>\n",
              "</div>"
            ],
            "text/plain": [
              "     Make Colour  Odometer  Doors    Price\n",
              "0  Toyota  White  150043.0    4.0   $4,000\n",
              "1   Honda    Red   87899.0    4.0   $5,000\n",
              "2  Toyota   Blue       NaN    3.0   $7,000\n",
              "3     BMW  Black   11179.0    5.0  $22,000\n",
              "4  Nissan  White  213095.0    4.0   $3,500\n",
              "5  Toyota  Green       NaN    4.0   $4,500\n",
              "6   Honda    NaN       NaN    4.0   $7,500\n",
              "7   Honda   Blue       NaN    4.0      NaN\n",
              "8  Toyota  White   60000.0    NaN      NaN\n",
              "9     NaN  White   31600.0    4.0   $9,700"
            ]
          },
          "metadata": {
            "tags": []
          },
          "execution_count": 196
        }
      ]
    },
    {
      "cell_type": "markdown",
      "metadata": {
        "id": "W9sDA4UN4rN-",
        "colab_type": "text"
      },
      "source": [
        "Missing values are shown by `NaN` in pandas. This can be considered the equivalent of `None` in Python.\n",
        "\n",
        "Let's use the `.fillna()` function to fill the `Odometer` column with the average of the other values in the same column.\n",
        "\n",
        "We'll do it with and without `inplace`."
      ]
    },
    {
      "cell_type": "code",
      "metadata": {
        "id": "drJ_Soem4rN_",
        "colab_type": "code",
        "outputId": "adaa63b0-3fe6-40ed-8137-8240f9c7e84d",
        "colab": {}
      },
      "source": [
        "# Fill Odometer column missing values with mean\n",
        "car_sales_missening[\"Odometer\"].fillna(car_sales_missing[\"Odometer\"].mean(), \n",
        "                                     inplace=False) # inplace is set to False by default "
      ],
      "execution_count": 0,
      "outputs": [
        {
          "output_type": "execute_result",
          "data": {
            "text/plain": [
              "0    150043.000000\n",
              "1     87899.000000\n",
              "2     92302.666667\n",
              "3     11179.000000\n",
              "4    213095.000000\n",
              "5     92302.666667\n",
              "6     92302.666667\n",
              "7     92302.666667\n",
              "8     60000.000000\n",
              "9     31600.000000\n",
              "Name: Odometer, dtype: float64"
            ]
          },
          "metadata": {
            "tags": []
          },
          "execution_count": 143
        }
      ]
    },
    {
      "cell_type": "markdown",
      "metadata": {
        "id": "8Fcs6IfP4rOB",
        "colab_type": "text"
      },
      "source": [
        "Now let's check the original `car_sales_missing` `DataFrame`."
      ]
    },
    {
      "cell_type": "code",
      "metadata": {
        "id": "V-J34dt_4rOF",
        "colab_type": "code",
        "outputId": "44e5c8c5-30cd-4317-8263-e6396a40973f",
        "colab": {}
      },
      "source": [
        "car_sales_missing"
      ],
      "execution_count": 0,
      "outputs": [
        {
          "output_type": "execute_result",
          "data": {
            "text/html": [
              "<div>\n",
              "<style scoped>\n",
              "    .dataframe tbody tr th:only-of-type {\n",
              "        vertical-align: middle;\n",
              "    }\n",
              "\n",
              "    .dataframe tbody tr th {\n",
              "        vertical-align: top;\n",
              "    }\n",
              "\n",
              "    .dataframe thead th {\n",
              "        text-align: right;\n",
              "    }\n",
              "</style>\n",
              "<table border=\"1\" class=\"dataframe\">\n",
              "  <thead>\n",
              "    <tr style=\"text-align: right;\">\n",
              "      <th></th>\n",
              "      <th>Make</th>\n",
              "      <th>Colour</th>\n",
              "      <th>Odometer</th>\n",
              "      <th>Doors</th>\n",
              "      <th>Price</th>\n",
              "    </tr>\n",
              "  </thead>\n",
              "  <tbody>\n",
              "    <tr>\n",
              "      <td>0</td>\n",
              "      <td>Toyota</td>\n",
              "      <td>White</td>\n",
              "      <td>150043.0</td>\n",
              "      <td>4.0</td>\n",
              "      <td>$4,000</td>\n",
              "    </tr>\n",
              "    <tr>\n",
              "      <td>1</td>\n",
              "      <td>Honda</td>\n",
              "      <td>Red</td>\n",
              "      <td>87899.0</td>\n",
              "      <td>4.0</td>\n",
              "      <td>$5,000</td>\n",
              "    </tr>\n",
              "    <tr>\n",
              "      <td>2</td>\n",
              "      <td>Toyota</td>\n",
              "      <td>Blue</td>\n",
              "      <td>NaN</td>\n",
              "      <td>3.0</td>\n",
              "      <td>$7,000</td>\n",
              "    </tr>\n",
              "    <tr>\n",
              "      <td>3</td>\n",
              "      <td>BMW</td>\n",
              "      <td>Black</td>\n",
              "      <td>11179.0</td>\n",
              "      <td>5.0</td>\n",
              "      <td>$22,000</td>\n",
              "    </tr>\n",
              "    <tr>\n",
              "      <td>4</td>\n",
              "      <td>Nissan</td>\n",
              "      <td>White</td>\n",
              "      <td>213095.0</td>\n",
              "      <td>4.0</td>\n",
              "      <td>$3,500</td>\n",
              "    </tr>\n",
              "    <tr>\n",
              "      <td>5</td>\n",
              "      <td>Toyota</td>\n",
              "      <td>Green</td>\n",
              "      <td>NaN</td>\n",
              "      <td>4.0</td>\n",
              "      <td>$4,500</td>\n",
              "    </tr>\n",
              "    <tr>\n",
              "      <td>6</td>\n",
              "      <td>Honda</td>\n",
              "      <td>NaN</td>\n",
              "      <td>NaN</td>\n",
              "      <td>4.0</td>\n",
              "      <td>$7,500</td>\n",
              "    </tr>\n",
              "    <tr>\n",
              "      <td>7</td>\n",
              "      <td>Honda</td>\n",
              "      <td>Blue</td>\n",
              "      <td>NaN</td>\n",
              "      <td>4.0</td>\n",
              "      <td>NaN</td>\n",
              "    </tr>\n",
              "    <tr>\n",
              "      <td>8</td>\n",
              "      <td>Toyota</td>\n",
              "      <td>White</td>\n",
              "      <td>60000.0</td>\n",
              "      <td>NaN</td>\n",
              "      <td>NaN</td>\n",
              "    </tr>\n",
              "    <tr>\n",
              "      <td>9</td>\n",
              "      <td>NaN</td>\n",
              "      <td>White</td>\n",
              "      <td>31600.0</td>\n",
              "      <td>4.0</td>\n",
              "      <td>$9,700</td>\n",
              "    </tr>\n",
              "  </tbody>\n",
              "</table>\n",
              "</div>"
            ],
            "text/plain": [
              "     Make Colour  Odometer  Doors    Price\n",
              "0  Toyota  White  150043.0    4.0   $4,000\n",
              "1   Honda    Red   87899.0    4.0   $5,000\n",
              "2  Toyota   Blue       NaN    3.0   $7,000\n",
              "3     BMW  Black   11179.0    5.0  $22,000\n",
              "4  Nissan  White  213095.0    4.0   $3,500\n",
              "5  Toyota  Green       NaN    4.0   $4,500\n",
              "6   Honda    NaN       NaN    4.0   $7,500\n",
              "7   Honda   Blue       NaN    4.0      NaN\n",
              "8  Toyota  White   60000.0    NaN      NaN\n",
              "9     NaN  White   31600.0    4.0   $9,700"
            ]
          },
          "metadata": {
            "tags": []
          },
          "execution_count": 144
        }
      ]
    },
    {
      "cell_type": "markdown",
      "metadata": {
        "id": "nx_6bPAk4rOJ",
        "colab_type": "text"
      },
      "source": [
        "Because `inplace` is set to `False` (default), there's still missing values in the `\"Odometer\"` column. Let's try setting `inplace` to `True`."
      ]
    },
    {
      "cell_type": "code",
      "metadata": {
        "id": "dvk_ynZW4rOJ",
        "colab_type": "code",
        "colab": {}
      },
      "source": [
        "# Fill the Odometer missing values to the mean with inplace=True\n",
        "car_sales_missing[\"Odometer\"].fillna(car_sales_missing[\"Odometer\"].mean(),\n",
        "                                     inplace=True)"
      ],
      "execution_count": 0,
      "outputs": []
    },
    {
      "cell_type": "markdown",
      "metadata": {
        "id": "YYhqhtuj4rOM",
        "colab_type": "text"
      },
      "source": [
        "Now let's check the `car_sales_missing` `DataFrame` again."
      ]
    },
    {
      "cell_type": "code",
      "metadata": {
        "id": "aKVoeoXI4rOM",
        "colab_type": "code",
        "outputId": "f8960d45-9dd4-48df-c346-45deb0cc9c93",
        "colab": {}
      },
      "source": [
        "car_sales_missing"
      ],
      "execution_count": 0,
      "outputs": [
        {
          "output_type": "execute_result",
          "data": {
            "text/html": [
              "<div>\n",
              "<style scoped>\n",
              "    .dataframe tbody tr th:only-of-type {\n",
              "        vertical-align: middle;\n",
              "    }\n",
              "\n",
              "    .dataframe tbody tr th {\n",
              "        vertical-align: top;\n",
              "    }\n",
              "\n",
              "    .dataframe thead th {\n",
              "        text-align: right;\n",
              "    }\n",
              "</style>\n",
              "<table border=\"1\" class=\"dataframe\">\n",
              "  <thead>\n",
              "    <tr style=\"text-align: right;\">\n",
              "      <th></th>\n",
              "      <th>Make</th>\n",
              "      <th>Colour</th>\n",
              "      <th>Odometer</th>\n",
              "      <th>Doors</th>\n",
              "      <th>Price</th>\n",
              "    </tr>\n",
              "  </thead>\n",
              "  <tbody>\n",
              "    <tr>\n",
              "      <td>0</td>\n",
              "      <td>Toyota</td>\n",
              "      <td>White</td>\n",
              "      <td>150043.000000</td>\n",
              "      <td>4.0</td>\n",
              "      <td>$4,000</td>\n",
              "    </tr>\n",
              "    <tr>\n",
              "      <td>1</td>\n",
              "      <td>Honda</td>\n",
              "      <td>Red</td>\n",
              "      <td>87899.000000</td>\n",
              "      <td>4.0</td>\n",
              "      <td>$5,000</td>\n",
              "    </tr>\n",
              "    <tr>\n",
              "      <td>2</td>\n",
              "      <td>Toyota</td>\n",
              "      <td>Blue</td>\n",
              "      <td>92302.666667</td>\n",
              "      <td>3.0</td>\n",
              "      <td>$7,000</td>\n",
              "    </tr>\n",
              "    <tr>\n",
              "      <td>3</td>\n",
              "      <td>BMW</td>\n",
              "      <td>Black</td>\n",
              "      <td>11179.000000</td>\n",
              "      <td>5.0</td>\n",
              "      <td>$22,000</td>\n",
              "    </tr>\n",
              "    <tr>\n",
              "      <td>4</td>\n",
              "      <td>Nissan</td>\n",
              "      <td>White</td>\n",
              "      <td>213095.000000</td>\n",
              "      <td>4.0</td>\n",
              "      <td>$3,500</td>\n",
              "    </tr>\n",
              "    <tr>\n",
              "      <td>5</td>\n",
              "      <td>Toyota</td>\n",
              "      <td>Green</td>\n",
              "      <td>92302.666667</td>\n",
              "      <td>4.0</td>\n",
              "      <td>$4,500</td>\n",
              "    </tr>\n",
              "    <tr>\n",
              "      <td>6</td>\n",
              "      <td>Honda</td>\n",
              "      <td>NaN</td>\n",
              "      <td>92302.666667</td>\n",
              "      <td>4.0</td>\n",
              "      <td>$7,500</td>\n",
              "    </tr>\n",
              "    <tr>\n",
              "      <td>7</td>\n",
              "      <td>Honda</td>\n",
              "      <td>Blue</td>\n",
              "      <td>92302.666667</td>\n",
              "      <td>4.0</td>\n",
              "      <td>NaN</td>\n",
              "    </tr>\n",
              "    <tr>\n",
              "      <td>8</td>\n",
              "      <td>Toyota</td>\n",
              "      <td>White</td>\n",
              "      <td>60000.000000</td>\n",
              "      <td>NaN</td>\n",
              "      <td>NaN</td>\n",
              "    </tr>\n",
              "    <tr>\n",
              "      <td>9</td>\n",
              "      <td>NaN</td>\n",
              "      <td>White</td>\n",
              "      <td>31600.000000</td>\n",
              "      <td>4.0</td>\n",
              "      <td>$9,700</td>\n",
              "    </tr>\n",
              "  </tbody>\n",
              "</table>\n",
              "</div>"
            ],
            "text/plain": [
              "     Make Colour       Odometer  Doors    Price\n",
              "0  Toyota  White  150043.000000    4.0   $4,000\n",
              "1   Honda    Red   87899.000000    4.0   $5,000\n",
              "2  Toyota   Blue   92302.666667    3.0   $7,000\n",
              "3     BMW  Black   11179.000000    5.0  $22,000\n",
              "4  Nissan  White  213095.000000    4.0   $3,500\n",
              "5  Toyota  Green   92302.666667    4.0   $4,500\n",
              "6   Honda    NaN   92302.666667    4.0   $7,500\n",
              "7   Honda   Blue   92302.666667    4.0      NaN\n",
              "8  Toyota  White   60000.000000    NaN      NaN\n",
              "9     NaN  White   31600.000000    4.0   $9,700"
            ]
          },
          "metadata": {
            "tags": []
          },
          "execution_count": 146
        }
      ]
    },
    {
      "cell_type": "markdown",
      "metadata": {
        "id": "0QFGpBtX4rOS",
        "colab_type": "text"
      },
      "source": [
        "The missing values in the `Odometer` column have been filled with the mean value of the same column.\n",
        "\n",
        "In practice, you might not want to fill a column's missing values with the mean, but this example was to show the difference between `inplace=False` (default) and `inplace=True`.\n",
        "\n",
        "Whichever you choose to use will depend on how you structure your code. All you have to remember is `inplace=False` returns a copy of the `DataFrame` you're working with. This is helpful if you want to make a duplicate of your current `DataFrame` and save it to another variable.\n",
        "\n",
        "We've filled some values but there's still missing values in `car_sales_missing`. Let's say you wanted to remove any rows which had missing data and only work with rows which had complete coverage.\n",
        "\n",
        "You can do this using `.dropna()`."
      ]
    },
    {
      "cell_type": "code",
      "metadata": {
        "id": "TYNHsHaE4rOS",
        "colab_type": "code",
        "outputId": "afc90ad9-fe3f-4d6e-fa97-6c7d3a0e1b82",
        "colab": {}
      },
      "source": [
        "# Remove missing data\n",
        "car_sales_missing.dropna()"
      ],
      "execution_count": 0,
      "outputs": [
        {
          "output_type": "execute_result",
          "data": {
            "text/html": [
              "<div>\n",
              "<style scoped>\n",
              "    .dataframe tbody tr th:only-of-type {\n",
              "        vertical-align: middle;\n",
              "    }\n",
              "\n",
              "    .dataframe tbody tr th {\n",
              "        vertical-align: top;\n",
              "    }\n",
              "\n",
              "    .dataframe thead th {\n",
              "        text-align: right;\n",
              "    }\n",
              "</style>\n",
              "<table border=\"1\" class=\"dataframe\">\n",
              "  <thead>\n",
              "    <tr style=\"text-align: right;\">\n",
              "      <th></th>\n",
              "      <th>Make</th>\n",
              "      <th>Colour</th>\n",
              "      <th>Odometer</th>\n",
              "      <th>Doors</th>\n",
              "      <th>Price</th>\n",
              "    </tr>\n",
              "  </thead>\n",
              "  <tbody>\n",
              "    <tr>\n",
              "      <td>0</td>\n",
              "      <td>Toyota</td>\n",
              "      <td>White</td>\n",
              "      <td>150043.000000</td>\n",
              "      <td>4.0</td>\n",
              "      <td>$4,000</td>\n",
              "    </tr>\n",
              "    <tr>\n",
              "      <td>1</td>\n",
              "      <td>Honda</td>\n",
              "      <td>Red</td>\n",
              "      <td>87899.000000</td>\n",
              "      <td>4.0</td>\n",
              "      <td>$5,000</td>\n",
              "    </tr>\n",
              "    <tr>\n",
              "      <td>2</td>\n",
              "      <td>Toyota</td>\n",
              "      <td>Blue</td>\n",
              "      <td>92302.666667</td>\n",
              "      <td>3.0</td>\n",
              "      <td>$7,000</td>\n",
              "    </tr>\n",
              "    <tr>\n",
              "      <td>3</td>\n",
              "      <td>BMW</td>\n",
              "      <td>Black</td>\n",
              "      <td>11179.000000</td>\n",
              "      <td>5.0</td>\n",
              "      <td>$22,000</td>\n",
              "    </tr>\n",
              "    <tr>\n",
              "      <td>4</td>\n",
              "      <td>Nissan</td>\n",
              "      <td>White</td>\n",
              "      <td>213095.000000</td>\n",
              "      <td>4.0</td>\n",
              "      <td>$3,500</td>\n",
              "    </tr>\n",
              "    <tr>\n",
              "      <td>5</td>\n",
              "      <td>Toyota</td>\n",
              "      <td>Green</td>\n",
              "      <td>92302.666667</td>\n",
              "      <td>4.0</td>\n",
              "      <td>$4,500</td>\n",
              "    </tr>\n",
              "  </tbody>\n",
              "</table>\n",
              "</div>"
            ],
            "text/plain": [
              "     Make Colour       Odometer  Doors    Price\n",
              "0  Toyota  White  150043.000000    4.0   $4,000\n",
              "1   Honda    Red   87899.000000    4.0   $5,000\n",
              "2  Toyota   Blue   92302.666667    3.0   $7,000\n",
              "3     BMW  Black   11179.000000    5.0  $22,000\n",
              "4  Nissan  White  213095.000000    4.0   $3,500\n",
              "5  Toyota  Green   92302.666667    4.0   $4,500"
            ]
          },
          "metadata": {
            "tags": []
          },
          "execution_count": 147
        }
      ]
    },
    {
      "cell_type": "markdown",
      "metadata": {
        "id": "n7uTYto54rOV",
        "colab_type": "text"
      },
      "source": [
        "It appears the rows with missing values have been removed, now let's check to make sure."
      ]
    },
    {
      "cell_type": "code",
      "metadata": {
        "id": "uQ4vyv5R4rOW",
        "colab_type": "code",
        "outputId": "07e8d17d-a4e1-4965-c705-8e0c8f3222de",
        "colab": {}
      },
      "source": [
        "car_sales_missing"
      ],
      "execution_count": 0,
      "outputs": [
        {
          "output_type": "execute_result",
          "data": {
            "text/html": [
              "<div>\n",
              "<style scoped>\n",
              "    .dataframe tbody tr th:only-of-type {\n",
              "        vertical-align: middle;\n",
              "    }\n",
              "\n",
              "    .dataframe tbody tr th {\n",
              "        vertical-align: top;\n",
              "    }\n",
              "\n",
              "    .dataframe thead th {\n",
              "        text-align: right;\n",
              "    }\n",
              "</style>\n",
              "<table border=\"1\" class=\"dataframe\">\n",
              "  <thead>\n",
              "    <tr style=\"text-align: right;\">\n",
              "      <th></th>\n",
              "      <th>Make</th>\n",
              "      <th>Colour</th>\n",
              "      <th>Odometer</th>\n",
              "      <th>Doors</th>\n",
              "      <th>Price</th>\n",
              "    </tr>\n",
              "  </thead>\n",
              "  <tbody>\n",
              "    <tr>\n",
              "      <td>0</td>\n",
              "      <td>Toyota</td>\n",
              "      <td>White</td>\n",
              "      <td>150043.000000</td>\n",
              "      <td>4.0</td>\n",
              "      <td>$4,000</td>\n",
              "    </tr>\n",
              "    <tr>\n",
              "      <td>1</td>\n",
              "      <td>Honda</td>\n",
              "      <td>Red</td>\n",
              "      <td>87899.000000</td>\n",
              "      <td>4.0</td>\n",
              "      <td>$5,000</td>\n",
              "    </tr>\n",
              "    <tr>\n",
              "      <td>2</td>\n",
              "      <td>Toyota</td>\n",
              "      <td>Blue</td>\n",
              "      <td>92302.666667</td>\n",
              "      <td>3.0</td>\n",
              "      <td>$7,000</td>\n",
              "    </tr>\n",
              "    <tr>\n",
              "      <td>3</td>\n",
              "      <td>BMW</td>\n",
              "      <td>Black</td>\n",
              "      <td>11179.000000</td>\n",
              "      <td>5.0</td>\n",
              "      <td>$22,000</td>\n",
              "    </tr>\n",
              "    <tr>\n",
              "      <td>4</td>\n",
              "      <td>Nissan</td>\n",
              "      <td>White</td>\n",
              "      <td>213095.000000</td>\n",
              "      <td>4.0</td>\n",
              "      <td>$3,500</td>\n",
              "    </tr>\n",
              "    <tr>\n",
              "      <td>5</td>\n",
              "      <td>Toyota</td>\n",
              "      <td>Green</td>\n",
              "      <td>92302.666667</td>\n",
              "      <td>4.0</td>\n",
              "      <td>$4,500</td>\n",
              "    </tr>\n",
              "    <tr>\n",
              "      <td>6</td>\n",
              "      <td>Honda</td>\n",
              "      <td>NaN</td>\n",
              "      <td>92302.666667</td>\n",
              "      <td>4.0</td>\n",
              "      <td>$7,500</td>\n",
              "    </tr>\n",
              "    <tr>\n",
              "      <td>7</td>\n",
              "      <td>Honda</td>\n",
              "      <td>Blue</td>\n",
              "      <td>92302.666667</td>\n",
              "      <td>4.0</td>\n",
              "      <td>NaN</td>\n",
              "    </tr>\n",
              "    <tr>\n",
              "      <td>8</td>\n",
              "      <td>Toyota</td>\n",
              "      <td>White</td>\n",
              "      <td>60000.000000</td>\n",
              "      <td>NaN</td>\n",
              "      <td>NaN</td>\n",
              "    </tr>\n",
              "    <tr>\n",
              "      <td>9</td>\n",
              "      <td>NaN</td>\n",
              "      <td>White</td>\n",
              "      <td>31600.000000</td>\n",
              "      <td>4.0</td>\n",
              "      <td>$9,700</td>\n",
              "    </tr>\n",
              "  </tbody>\n",
              "</table>\n",
              "</div>"
            ],
            "text/plain": [
              "     Make Colour       Odometer  Doors    Price\n",
              "0  Toyota  White  150043.000000    4.0   $4,000\n",
              "1   Honda    Red   87899.000000    4.0   $5,000\n",
              "2  Toyota   Blue   92302.666667    3.0   $7,000\n",
              "3     BMW  Black   11179.000000    5.0  $22,000\n",
              "4  Nissan  White  213095.000000    4.0   $3,500\n",
              "5  Toyota  Green   92302.666667    4.0   $4,500\n",
              "6   Honda    NaN   92302.666667    4.0   $7,500\n",
              "7   Honda   Blue   92302.666667    4.0      NaN\n",
              "8  Toyota  White   60000.000000    NaN      NaN\n",
              "9     NaN  White   31600.000000    4.0   $9,700"
            ]
          },
          "metadata": {
            "tags": []
          },
          "execution_count": 148
        }
      ]
    },
    {
      "cell_type": "markdown",
      "metadata": {
        "id": "hLggKxOS4rOZ",
        "colab_type": "text"
      },
      "source": [
        "Hmm, they're still there, can you guess why?\n",
        "\n",
        "It's because `.dropna()` has `inplace=False` as default. We can either set `inplace=True` or reassign the `car_sales_missing` `DataFrame`."
      ]
    },
    {
      "cell_type": "code",
      "metadata": {
        "id": "ohU_l9sS4rOZ",
        "colab_type": "code",
        "colab": {}
      },
      "source": [
        "# The following two lines do the same thing\n",
        "car_sales_missing.dropna(inplace=True) # Operation happens inplace without reassignment\n",
        "car_sales_missing = car_sales_missing.dropna() # car_sales_missing gets reassigned to same DataFrame but with dropped values  "
      ],
      "execution_count": 0,
      "outputs": []
    },
    {
      "cell_type": "markdown",
      "metadata": {
        "id": "jiYeEuPE4rOe",
        "colab_type": "text"
      },
      "source": [
        "Now if check again, the rows with missing values are gone and the index numbers have been updated."
      ]
    },
    {
      "cell_type": "code",
      "metadata": {
        "id": "ykIY_BW24rOe",
        "colab_type": "code",
        "outputId": "026d82f0-1f07-4a36-892a-d5cf3c7fa938",
        "colab": {}
      },
      "source": [
        "car_sales_missing"
      ],
      "execution_count": 0,
      "outputs": [
        {
          "output_type": "execute_result",
          "data": {
            "text/html": [
              "<div>\n",
              "<style scoped>\n",
              "    .dataframe tbody tr th:only-of-type {\n",
              "        vertical-align: middle;\n",
              "    }\n",
              "\n",
              "    .dataframe tbody tr th {\n",
              "        vertical-align: top;\n",
              "    }\n",
              "\n",
              "    .dataframe thead th {\n",
              "        text-align: right;\n",
              "    }\n",
              "</style>\n",
              "<table border=\"1\" class=\"dataframe\">\n",
              "  <thead>\n",
              "    <tr style=\"text-align: right;\">\n",
              "      <th></th>\n",
              "      <th>Make</th>\n",
              "      <th>Colour</th>\n",
              "      <th>Odometer</th>\n",
              "      <th>Doors</th>\n",
              "      <th>Price</th>\n",
              "    </tr>\n",
              "  </thead>\n",
              "  <tbody>\n",
              "    <tr>\n",
              "      <td>0</td>\n",
              "      <td>Toyota</td>\n",
              "      <td>White</td>\n",
              "      <td>150043.000000</td>\n",
              "      <td>4.0</td>\n",
              "      <td>$4,000</td>\n",
              "    </tr>\n",
              "    <tr>\n",
              "      <td>1</td>\n",
              "      <td>Honda</td>\n",
              "      <td>Red</td>\n",
              "      <td>87899.000000</td>\n",
              "      <td>4.0</td>\n",
              "      <td>$5,000</td>\n",
              "    </tr>\n",
              "    <tr>\n",
              "      <td>2</td>\n",
              "      <td>Toyota</td>\n",
              "      <td>Blue</td>\n",
              "      <td>92302.666667</td>\n",
              "      <td>3.0</td>\n",
              "      <td>$7,000</td>\n",
              "    </tr>\n",
              "    <tr>\n",
              "      <td>3</td>\n",
              "      <td>BMW</td>\n",
              "      <td>Black</td>\n",
              "      <td>11179.000000</td>\n",
              "      <td>5.0</td>\n",
              "      <td>$22,000</td>\n",
              "    </tr>\n",
              "    <tr>\n",
              "      <td>4</td>\n",
              "      <td>Nissan</td>\n",
              "      <td>White</td>\n",
              "      <td>213095.000000</td>\n",
              "      <td>4.0</td>\n",
              "      <td>$3,500</td>\n",
              "    </tr>\n",
              "    <tr>\n",
              "      <td>5</td>\n",
              "      <td>Toyota</td>\n",
              "      <td>Green</td>\n",
              "      <td>92302.666667</td>\n",
              "      <td>4.0</td>\n",
              "      <td>$4,500</td>\n",
              "    </tr>\n",
              "  </tbody>\n",
              "</table>\n",
              "</div>"
            ],
            "text/plain": [
              "     Make Colour       Odometer  Doors    Price\n",
              "0  Toyota  White  150043.000000    4.0   $4,000\n",
              "1   Honda    Red   87899.000000    4.0   $5,000\n",
              "2  Toyota   Blue   92302.666667    3.0   $7,000\n",
              "3     BMW  Black   11179.000000    5.0  $22,000\n",
              "4  Nissan  White  213095.000000    4.0   $3,500\n",
              "5  Toyota  Green   92302.666667    4.0   $4,500"
            ]
          },
          "metadata": {
            "tags": []
          },
          "execution_count": 150
        }
      ]
    },
    {
      "cell_type": "markdown",
      "metadata": {
        "id": "U9cS4U6y4rOh",
        "colab_type": "text"
      },
      "source": [
        "Instead of removing or filling data, what if you wanted to create it?\n",
        "\n",
        "For example, creating a column called `Seats` for number of seats.\n",
        "\n",
        "pandas allows for simple extra column creation on `DataFrame`'s. Three common ways are adding a `Series`, Python list or by using existing columns."
      ]
    },
    {
      "cell_type": "code",
      "metadata": {
        "id": "JxPzpEc04rOi",
        "colab_type": "code",
        "outputId": "61c9ddaf-ef96-467f-c187-e14f8deb8b88",
        "colab": {}
      },
      "source": [
        "# Create a column from a pandas Series\n",
        "seats_column = pd.Series([5, 5, 5, 5, 5, 5, 5, 5, 5, 5])\n",
        "car_sales[\"Seats\"] = seats_column\n",
        "car_sales"
      ],
      "execution_count": 0,
      "outputs": [
        {
          "output_type": "execute_result",
          "data": {
            "text/html": [
              "<div>\n",
              "<style scoped>\n",
              "    .dataframe tbody tr th:only-of-type {\n",
              "        vertical-align: middle;\n",
              "    }\n",
              "\n",
              "    .dataframe tbody tr th {\n",
              "        vertical-align: top;\n",
              "    }\n",
              "\n",
              "    .dataframe thead th {\n",
              "        text-align: right;\n",
              "    }\n",
              "</style>\n",
              "<table border=\"1\" class=\"dataframe\">\n",
              "  <thead>\n",
              "    <tr style=\"text-align: right;\">\n",
              "      <th></th>\n",
              "      <th>Make</th>\n",
              "      <th>Colour</th>\n",
              "      <th>Odometer</th>\n",
              "      <th>Doors</th>\n",
              "      <th>Price</th>\n",
              "      <th>Seats</th>\n",
              "    </tr>\n",
              "  </thead>\n",
              "  <tbody>\n",
              "    <tr>\n",
              "      <td>0</td>\n",
              "      <td>toyota</td>\n",
              "      <td>White</td>\n",
              "      <td>150043</td>\n",
              "      <td>4</td>\n",
              "      <td>4000</td>\n",
              "      <td>5</td>\n",
              "    </tr>\n",
              "    <tr>\n",
              "      <td>1</td>\n",
              "      <td>honda</td>\n",
              "      <td>Red</td>\n",
              "      <td>87899</td>\n",
              "      <td>4</td>\n",
              "      <td>5000</td>\n",
              "      <td>5</td>\n",
              "    </tr>\n",
              "    <tr>\n",
              "      <td>2</td>\n",
              "      <td>toyota</td>\n",
              "      <td>Blue</td>\n",
              "      <td>32549</td>\n",
              "      <td>3</td>\n",
              "      <td>7000</td>\n",
              "      <td>5</td>\n",
              "    </tr>\n",
              "    <tr>\n",
              "      <td>3</td>\n",
              "      <td>bmw</td>\n",
              "      <td>Black</td>\n",
              "      <td>11179</td>\n",
              "      <td>5</td>\n",
              "      <td>22000</td>\n",
              "      <td>5</td>\n",
              "    </tr>\n",
              "    <tr>\n",
              "      <td>4</td>\n",
              "      <td>nissan</td>\n",
              "      <td>White</td>\n",
              "      <td>213095</td>\n",
              "      <td>4</td>\n",
              "      <td>3500</td>\n",
              "      <td>5</td>\n",
              "    </tr>\n",
              "    <tr>\n",
              "      <td>5</td>\n",
              "      <td>toyota</td>\n",
              "      <td>Green</td>\n",
              "      <td>99213</td>\n",
              "      <td>4</td>\n",
              "      <td>4500</td>\n",
              "      <td>5</td>\n",
              "    </tr>\n",
              "    <tr>\n",
              "      <td>6</td>\n",
              "      <td>honda</td>\n",
              "      <td>Blue</td>\n",
              "      <td>45698</td>\n",
              "      <td>4</td>\n",
              "      <td>7500</td>\n",
              "      <td>5</td>\n",
              "    </tr>\n",
              "    <tr>\n",
              "      <td>7</td>\n",
              "      <td>honda</td>\n",
              "      <td>Blue</td>\n",
              "      <td>54738</td>\n",
              "      <td>4</td>\n",
              "      <td>7000</td>\n",
              "      <td>5</td>\n",
              "    </tr>\n",
              "    <tr>\n",
              "      <td>8</td>\n",
              "      <td>toyota</td>\n",
              "      <td>White</td>\n",
              "      <td>60000</td>\n",
              "      <td>4</td>\n",
              "      <td>6250</td>\n",
              "      <td>5</td>\n",
              "    </tr>\n",
              "    <tr>\n",
              "      <td>9</td>\n",
              "      <td>nissan</td>\n",
              "      <td>White</td>\n",
              "      <td>31600</td>\n",
              "      <td>4</td>\n",
              "      <td>9700</td>\n",
              "      <td>5</td>\n",
              "    </tr>\n",
              "  </tbody>\n",
              "</table>\n",
              "</div>"
            ],
            "text/plain": [
              "     Make Colour  Odometer  Doors  Price  Seats\n",
              "0  toyota  White    150043      4   4000      5\n",
              "1   honda    Red     87899      4   5000      5\n",
              "2  toyota   Blue     32549      3   7000      5\n",
              "3     bmw  Black     11179      5  22000      5\n",
              "4  nissan  White    213095      4   3500      5\n",
              "5  toyota  Green     99213      4   4500      5\n",
              "6   honda   Blue     45698      4   7500      5\n",
              "7   honda   Blue     54738      4   7000      5\n",
              "8  toyota  White     60000      4   6250      5\n",
              "9  nissan  White     31600      4   9700      5"
            ]
          },
          "metadata": {
            "tags": []
          },
          "execution_count": 156
        }
      ]
    },
    {
      "cell_type": "markdown",
      "metadata": {
        "id": "4vhvUzRV4rOl",
        "colab_type": "text"
      },
      "source": [
        "Creating a column is similar to selecting a column, you pass the target `DataFrame` along with a new column name in brackets."
      ]
    },
    {
      "cell_type": "code",
      "metadata": {
        "id": "phmzDFH14rOm",
        "colab_type": "code",
        "outputId": "a4515bcd-c4ce-4f11-a27b-3c1c5ee23f28",
        "colab": {}
      },
      "source": [
        "# Create a column from a Python list\n",
        "engine_sizes = [1.3, 2.0, 3.0, 4.2, 1.6, 1, 2.0, 2.3, 2.0, 3.0]\n",
        "car_sales[\"Engine Size\"] = engine_sizes\n",
        "car_sales"
      ],
      "execution_count": 0,
      "outputs": [
        {
          "output_type": "execute_result",
          "data": {
            "text/html": [
              "<div>\n",
              "<style scoped>\n",
              "    .dataframe tbody tr th:only-of-type {\n",
              "        vertical-align: middle;\n",
              "    }\n",
              "\n",
              "    .dataframe tbody tr th {\n",
              "        vertical-align: top;\n",
              "    }\n",
              "\n",
              "    .dataframe thead th {\n",
              "        text-align: right;\n",
              "    }\n",
              "</style>\n",
              "<table border=\"1\" class=\"dataframe\">\n",
              "  <thead>\n",
              "    <tr style=\"text-align: right;\">\n",
              "      <th></th>\n",
              "      <th>Make</th>\n",
              "      <th>Colour</th>\n",
              "      <th>Odometer</th>\n",
              "      <th>Doors</th>\n",
              "      <th>Price</th>\n",
              "      <th>Seats</th>\n",
              "      <th>Engine Size</th>\n",
              "    </tr>\n",
              "  </thead>\n",
              "  <tbody>\n",
              "    <tr>\n",
              "      <td>0</td>\n",
              "      <td>toyota</td>\n",
              "      <td>White</td>\n",
              "      <td>150043</td>\n",
              "      <td>4</td>\n",
              "      <td>4000</td>\n",
              "      <td>5</td>\n",
              "      <td>1.3</td>\n",
              "    </tr>\n",
              "    <tr>\n",
              "      <td>1</td>\n",
              "      <td>honda</td>\n",
              "      <td>Red</td>\n",
              "      <td>87899</td>\n",
              "      <td>4</td>\n",
              "      <td>5000</td>\n",
              "      <td>5</td>\n",
              "      <td>2.0</td>\n",
              "    </tr>\n",
              "    <tr>\n",
              "      <td>2</td>\n",
              "      <td>toyota</td>\n",
              "      <td>Blue</td>\n",
              "      <td>32549</td>\n",
              "      <td>3</td>\n",
              "      <td>7000</td>\n",
              "      <td>5</td>\n",
              "      <td>3.0</td>\n",
              "    </tr>\n",
              "    <tr>\n",
              "      <td>3</td>\n",
              "      <td>bmw</td>\n",
              "      <td>Black</td>\n",
              "      <td>11179</td>\n",
              "      <td>5</td>\n",
              "      <td>22000</td>\n",
              "      <td>5</td>\n",
              "      <td>4.2</td>\n",
              "    </tr>\n",
              "    <tr>\n",
              "      <td>4</td>\n",
              "      <td>nissan</td>\n",
              "      <td>White</td>\n",
              "      <td>213095</td>\n",
              "      <td>4</td>\n",
              "      <td>3500</td>\n",
              "      <td>5</td>\n",
              "      <td>1.6</td>\n",
              "    </tr>\n",
              "    <tr>\n",
              "      <td>5</td>\n",
              "      <td>toyota</td>\n",
              "      <td>Green</td>\n",
              "      <td>99213</td>\n",
              "      <td>4</td>\n",
              "      <td>4500</td>\n",
              "      <td>5</td>\n",
              "      <td>1.0</td>\n",
              "    </tr>\n",
              "    <tr>\n",
              "      <td>6</td>\n",
              "      <td>honda</td>\n",
              "      <td>Blue</td>\n",
              "      <td>45698</td>\n",
              "      <td>4</td>\n",
              "      <td>7500</td>\n",
              "      <td>5</td>\n",
              "      <td>2.0</td>\n",
              "    </tr>\n",
              "    <tr>\n",
              "      <td>7</td>\n",
              "      <td>honda</td>\n",
              "      <td>Blue</td>\n",
              "      <td>54738</td>\n",
              "      <td>4</td>\n",
              "      <td>7000</td>\n",
              "      <td>5</td>\n",
              "      <td>2.3</td>\n",
              "    </tr>\n",
              "    <tr>\n",
              "      <td>8</td>\n",
              "      <td>toyota</td>\n",
              "      <td>White</td>\n",
              "      <td>60000</td>\n",
              "      <td>4</td>\n",
              "      <td>6250</td>\n",
              "      <td>5</td>\n",
              "      <td>2.0</td>\n",
              "    </tr>\n",
              "    <tr>\n",
              "      <td>9</td>\n",
              "      <td>nissan</td>\n",
              "      <td>White</td>\n",
              "      <td>31600</td>\n",
              "      <td>4</td>\n",
              "      <td>9700</td>\n",
              "      <td>5</td>\n",
              "      <td>3.0</td>\n",
              "    </tr>\n",
              "  </tbody>\n",
              "</table>\n",
              "</div>"
            ],
            "text/plain": [
              "     Make Colour  Odometer  Doors  Price  Seats  Engine Size\n",
              "0  toyota  White    150043      4   4000      5          1.3\n",
              "1   honda    Red     87899      4   5000      5          2.0\n",
              "2  toyota   Blue     32549      3   7000      5          3.0\n",
              "3     bmw  Black     11179      5  22000      5          4.2\n",
              "4  nissan  White    213095      4   3500      5          1.6\n",
              "5  toyota  Green     99213      4   4500      5          1.0\n",
              "6   honda   Blue     45698      4   7500      5          2.0\n",
              "7   honda   Blue     54738      4   7000      5          2.3\n",
              "8  toyota  White     60000      4   6250      5          2.0\n",
              "9  nissan  White     31600      4   9700      5          3.0"
            ]
          },
          "metadata": {
            "tags": []
          },
          "execution_count": 158
        }
      ]
    },
    {
      "cell_type": "markdown",
      "metadata": {
        "id": "oCwOKPJz4rOp",
        "colab_type": "text"
      },
      "source": [
        "You can also make a column by directly combining the values of other columns. Such as, price per kilometre on the Odometer."
      ]
    },
    {
      "cell_type": "code",
      "metadata": {
        "id": "JkSzXJvD4rOp",
        "colab_type": "code",
        "outputId": "d7ecf545-0e9d-4a1a-c09b-ef81c1b788a0",
        "colab": {}
      },
      "source": [
        "# Column from other columns\n",
        "car_sales[\"Price per KM\"] = car_sales[\"Price\"] / car_sales[\"Odometer\"]\n",
        "car_sales"
      ],
      "execution_count": 0,
      "outputs": [
        {
          "output_type": "execute_result",
          "data": {
            "text/html": [
              "<div>\n",
              "<style scoped>\n",
              "    .dataframe tbody tr th:only-of-type {\n",
              "        vertical-align: middle;\n",
              "    }\n",
              "\n",
              "    .dataframe tbody tr th {\n",
              "        vertical-align: top;\n",
              "    }\n",
              "\n",
              "    .dataframe thead th {\n",
              "        text-align: right;\n",
              "    }\n",
              "</style>\n",
              "<table border=\"1\" class=\"dataframe\">\n",
              "  <thead>\n",
              "    <tr style=\"text-align: right;\">\n",
              "      <th></th>\n",
              "      <th>Make</th>\n",
              "      <th>Colour</th>\n",
              "      <th>Odometer</th>\n",
              "      <th>Doors</th>\n",
              "      <th>Price</th>\n",
              "      <th>Seats</th>\n",
              "      <th>Engine Size</th>\n",
              "      <th>Number of wheels</th>\n",
              "      <th>Price per KM</th>\n",
              "    </tr>\n",
              "  </thead>\n",
              "  <tbody>\n",
              "    <tr>\n",
              "      <td>0</td>\n",
              "      <td>toyota</td>\n",
              "      <td>White</td>\n",
              "      <td>150043</td>\n",
              "      <td>4</td>\n",
              "      <td>4000</td>\n",
              "      <td>5</td>\n",
              "      <td>1.3</td>\n",
              "      <td>4</td>\n",
              "      <td>0.026659</td>\n",
              "    </tr>\n",
              "    <tr>\n",
              "      <td>1</td>\n",
              "      <td>honda</td>\n",
              "      <td>Red</td>\n",
              "      <td>87899</td>\n",
              "      <td>4</td>\n",
              "      <td>5000</td>\n",
              "      <td>5</td>\n",
              "      <td>2.0</td>\n",
              "      <td>4</td>\n",
              "      <td>0.056883</td>\n",
              "    </tr>\n",
              "    <tr>\n",
              "      <td>2</td>\n",
              "      <td>toyota</td>\n",
              "      <td>Blue</td>\n",
              "      <td>32549</td>\n",
              "      <td>3</td>\n",
              "      <td>7000</td>\n",
              "      <td>5</td>\n",
              "      <td>3.0</td>\n",
              "      <td>4</td>\n",
              "      <td>0.215060</td>\n",
              "    </tr>\n",
              "    <tr>\n",
              "      <td>3</td>\n",
              "      <td>bmw</td>\n",
              "      <td>Black</td>\n",
              "      <td>11179</td>\n",
              "      <td>5</td>\n",
              "      <td>22000</td>\n",
              "      <td>5</td>\n",
              "      <td>4.2</td>\n",
              "      <td>4</td>\n",
              "      <td>1.967976</td>\n",
              "    </tr>\n",
              "    <tr>\n",
              "      <td>4</td>\n",
              "      <td>nissan</td>\n",
              "      <td>White</td>\n",
              "      <td>213095</td>\n",
              "      <td>4</td>\n",
              "      <td>3500</td>\n",
              "      <td>5</td>\n",
              "      <td>1.6</td>\n",
              "      <td>4</td>\n",
              "      <td>0.016425</td>\n",
              "    </tr>\n",
              "    <tr>\n",
              "      <td>5</td>\n",
              "      <td>toyota</td>\n",
              "      <td>Green</td>\n",
              "      <td>99213</td>\n",
              "      <td>4</td>\n",
              "      <td>4500</td>\n",
              "      <td>5</td>\n",
              "      <td>1.0</td>\n",
              "      <td>4</td>\n",
              "      <td>0.045357</td>\n",
              "    </tr>\n",
              "    <tr>\n",
              "      <td>6</td>\n",
              "      <td>honda</td>\n",
              "      <td>Blue</td>\n",
              "      <td>45698</td>\n",
              "      <td>4</td>\n",
              "      <td>7500</td>\n",
              "      <td>5</td>\n",
              "      <td>2.0</td>\n",
              "      <td>4</td>\n",
              "      <td>0.164121</td>\n",
              "    </tr>\n",
              "    <tr>\n",
              "      <td>7</td>\n",
              "      <td>honda</td>\n",
              "      <td>Blue</td>\n",
              "      <td>54738</td>\n",
              "      <td>4</td>\n",
              "      <td>7000</td>\n",
              "      <td>5</td>\n",
              "      <td>2.3</td>\n",
              "      <td>4</td>\n",
              "      <td>0.127882</td>\n",
              "    </tr>\n",
              "    <tr>\n",
              "      <td>8</td>\n",
              "      <td>toyota</td>\n",
              "      <td>White</td>\n",
              "      <td>60000</td>\n",
              "      <td>4</td>\n",
              "      <td>6250</td>\n",
              "      <td>5</td>\n",
              "      <td>2.0</td>\n",
              "      <td>4</td>\n",
              "      <td>0.104167</td>\n",
              "    </tr>\n",
              "    <tr>\n",
              "      <td>9</td>\n",
              "      <td>nissan</td>\n",
              "      <td>White</td>\n",
              "      <td>31600</td>\n",
              "      <td>4</td>\n",
              "      <td>9700</td>\n",
              "      <td>5</td>\n",
              "      <td>3.0</td>\n",
              "      <td>4</td>\n",
              "      <td>0.306962</td>\n",
              "    </tr>\n",
              "  </tbody>\n",
              "</table>\n",
              "</div>"
            ],
            "text/plain": [
              "     Make Colour  Odometer  Doors  Price  Seats  Engine Size  \\\n",
              "0  toyota  White    150043      4   4000      5          1.3   \n",
              "1   honda    Red     87899      4   5000      5          2.0   \n",
              "2  toyota   Blue     32549      3   7000      5          3.0   \n",
              "3     bmw  Black     11179      5  22000      5          4.2   \n",
              "4  nissan  White    213095      4   3500      5          1.6   \n",
              "5  toyota  Green     99213      4   4500      5          1.0   \n",
              "6   honda   Blue     45698      4   7500      5          2.0   \n",
              "7   honda   Blue     54738      4   7000      5          2.3   \n",
              "8  toyota  White     60000      4   6250      5          2.0   \n",
              "9  nissan  White     31600      4   9700      5          3.0   \n",
              "\n",
              "   Number of wheels  Price per KM  \n",
              "0                 4      0.026659  \n",
              "1                 4      0.056883  \n",
              "2                 4      0.215060  \n",
              "3                 4      1.967976  \n",
              "4                 4      0.016425  \n",
              "5                 4      0.045357  \n",
              "6                 4      0.164121  \n",
              "7                 4      0.127882  \n",
              "8                 4      0.104167  \n",
              "9                 4      0.306962  "
            ]
          },
          "metadata": {
            "tags": []
          },
          "execution_count": 164
        }
      ]
    },
    {
      "cell_type": "markdown",
      "metadata": {
        "id": "hSyhjnw74rOt",
        "colab_type": "text"
      },
      "source": [
        "Now can you think why this might not be a great column to add?\n",
        "\n",
        "It could be confusing when a car with less kilometers on the odometer looks to cost more per kilometre than one with more. When buying a car, usually less kilometres on the odometer is better.\n",
        "\n",
        "This kind of column creation is called **feature engineering**. If `Make`, `Colour`, `Doors` are features of the data, creating `Price per KM` could be another. But in this case, not a very good one.\n",
        "\n",
        "As for column creation, you can also create a new column setting all values to a one standard value."
      ]
    },
    {
      "cell_type": "code",
      "metadata": {
        "id": "PA3PgFvr4rOt",
        "colab_type": "code",
        "outputId": "8b3a1383-d6f4-4af5-e49a-58c55b1f8d42",
        "colab": {}
      },
      "source": [
        "# Column to all 1 value (number of wheels)\n",
        "car_sales[\"Number of wheels\"] = 4\n",
        "car_sales"
      ],
      "execution_count": 0,
      "outputs": [
        {
          "output_type": "execute_result",
          "data": {
            "text/html": [
              "<div>\n",
              "<style scoped>\n",
              "    .dataframe tbody tr th:only-of-type {\n",
              "        vertical-align: middle;\n",
              "    }\n",
              "\n",
              "    .dataframe tbody tr th {\n",
              "        vertical-align: top;\n",
              "    }\n",
              "\n",
              "    .dataframe thead th {\n",
              "        text-align: right;\n",
              "    }\n",
              "</style>\n",
              "<table border=\"1\" class=\"dataframe\">\n",
              "  <thead>\n",
              "    <tr style=\"text-align: right;\">\n",
              "      <th></th>\n",
              "      <th>Make</th>\n",
              "      <th>Colour</th>\n",
              "      <th>Odometer</th>\n",
              "      <th>Doors</th>\n",
              "      <th>Price</th>\n",
              "      <th>Seats</th>\n",
              "      <th>Engine Size</th>\n",
              "      <th>Number of wheels</th>\n",
              "      <th>Price per KM</th>\n",
              "    </tr>\n",
              "  </thead>\n",
              "  <tbody>\n",
              "    <tr>\n",
              "      <td>0</td>\n",
              "      <td>toyota</td>\n",
              "      <td>White</td>\n",
              "      <td>150043</td>\n",
              "      <td>4</td>\n",
              "      <td>4000</td>\n",
              "      <td>5</td>\n",
              "      <td>1.3</td>\n",
              "      <td>4</td>\n",
              "      <td>0.026659</td>\n",
              "    </tr>\n",
              "    <tr>\n",
              "      <td>1</td>\n",
              "      <td>honda</td>\n",
              "      <td>Red</td>\n",
              "      <td>87899</td>\n",
              "      <td>4</td>\n",
              "      <td>5000</td>\n",
              "      <td>5</td>\n",
              "      <td>2.0</td>\n",
              "      <td>4</td>\n",
              "      <td>0.056883</td>\n",
              "    </tr>\n",
              "    <tr>\n",
              "      <td>2</td>\n",
              "      <td>toyota</td>\n",
              "      <td>Blue</td>\n",
              "      <td>32549</td>\n",
              "      <td>3</td>\n",
              "      <td>7000</td>\n",
              "      <td>5</td>\n",
              "      <td>3.0</td>\n",
              "      <td>4</td>\n",
              "      <td>0.215060</td>\n",
              "    </tr>\n",
              "    <tr>\n",
              "      <td>3</td>\n",
              "      <td>bmw</td>\n",
              "      <td>Black</td>\n",
              "      <td>11179</td>\n",
              "      <td>5</td>\n",
              "      <td>22000</td>\n",
              "      <td>5</td>\n",
              "      <td>4.2</td>\n",
              "      <td>4</td>\n",
              "      <td>1.967976</td>\n",
              "    </tr>\n",
              "    <tr>\n",
              "      <td>4</td>\n",
              "      <td>nissan</td>\n",
              "      <td>White</td>\n",
              "      <td>213095</td>\n",
              "      <td>4</td>\n",
              "      <td>3500</td>\n",
              "      <td>5</td>\n",
              "      <td>1.6</td>\n",
              "      <td>4</td>\n",
              "      <td>0.016425</td>\n",
              "    </tr>\n",
              "    <tr>\n",
              "      <td>5</td>\n",
              "      <td>toyota</td>\n",
              "      <td>Green</td>\n",
              "      <td>99213</td>\n",
              "      <td>4</td>\n",
              "      <td>4500</td>\n",
              "      <td>5</td>\n",
              "      <td>1.0</td>\n",
              "      <td>4</td>\n",
              "      <td>0.045357</td>\n",
              "    </tr>\n",
              "    <tr>\n",
              "      <td>6</td>\n",
              "      <td>honda</td>\n",
              "      <td>Blue</td>\n",
              "      <td>45698</td>\n",
              "      <td>4</td>\n",
              "      <td>7500</td>\n",
              "      <td>5</td>\n",
              "      <td>2.0</td>\n",
              "      <td>4</td>\n",
              "      <td>0.164121</td>\n",
              "    </tr>\n",
              "    <tr>\n",
              "      <td>7</td>\n",
              "      <td>honda</td>\n",
              "      <td>Blue</td>\n",
              "      <td>54738</td>\n",
              "      <td>4</td>\n",
              "      <td>7000</td>\n",
              "      <td>5</td>\n",
              "      <td>2.3</td>\n",
              "      <td>4</td>\n",
              "      <td>0.127882</td>\n",
              "    </tr>\n",
              "    <tr>\n",
              "      <td>8</td>\n",
              "      <td>toyota</td>\n",
              "      <td>White</td>\n",
              "      <td>60000</td>\n",
              "      <td>4</td>\n",
              "      <td>6250</td>\n",
              "      <td>5</td>\n",
              "      <td>2.0</td>\n",
              "      <td>4</td>\n",
              "      <td>0.104167</td>\n",
              "    </tr>\n",
              "    <tr>\n",
              "      <td>9</td>\n",
              "      <td>nissan</td>\n",
              "      <td>White</td>\n",
              "      <td>31600</td>\n",
              "      <td>4</td>\n",
              "      <td>9700</td>\n",
              "      <td>5</td>\n",
              "      <td>3.0</td>\n",
              "      <td>4</td>\n",
              "      <td>0.306962</td>\n",
              "    </tr>\n",
              "  </tbody>\n",
              "</table>\n",
              "</div>"
            ],
            "text/plain": [
              "     Make Colour  Odometer  Doors  Price  Seats  Engine Size  \\\n",
              "0  toyota  White    150043      4   4000      5          1.3   \n",
              "1   honda    Red     87899      4   5000      5          2.0   \n",
              "2  toyota   Blue     32549      3   7000      5          3.0   \n",
              "3     bmw  Black     11179      5  22000      5          4.2   \n",
              "4  nissan  White    213095      4   3500      5          1.6   \n",
              "5  toyota  Green     99213      4   4500      5          1.0   \n",
              "6   honda   Blue     45698      4   7500      5          2.0   \n",
              "7   honda   Blue     54738      4   7000      5          2.3   \n",
              "8  toyota  White     60000      4   6250      5          2.0   \n",
              "9  nissan  White     31600      4   9700      5          3.0   \n",
              "\n",
              "   Number of wheels  Price per KM  \n",
              "0                 4      0.026659  \n",
              "1                 4      0.056883  \n",
              "2                 4      0.215060  \n",
              "3                 4      1.967976  \n",
              "4                 4      0.016425  \n",
              "5                 4      0.045357  \n",
              "6                 4      0.164121  \n",
              "7                 4      0.127882  \n",
              "8                 4      0.104167  \n",
              "9                 4      0.306962  "
            ]
          },
          "metadata": {
            "tags": []
          },
          "execution_count": 165
        }
      ]
    },
    {
      "cell_type": "code",
      "metadata": {
        "id": "AkXVTYkW4rOx",
        "colab_type": "code",
        "outputId": "c1cedc0c-e81a-4582-fbf3-c99ff229b113",
        "colab": {}
      },
      "source": [
        "car_sales[\"Passed road safety\"] = True\n",
        "car_sales"
      ],
      "execution_count": 0,
      "outputs": [
        {
          "output_type": "execute_result",
          "data": {
            "text/html": [
              "<div>\n",
              "<style scoped>\n",
              "    .dataframe tbody tr th:only-of-type {\n",
              "        vertical-align: middle;\n",
              "    }\n",
              "\n",
              "    .dataframe tbody tr th {\n",
              "        vertical-align: top;\n",
              "    }\n",
              "\n",
              "    .dataframe thead th {\n",
              "        text-align: right;\n",
              "    }\n",
              "</style>\n",
              "<table border=\"1\" class=\"dataframe\">\n",
              "  <thead>\n",
              "    <tr style=\"text-align: right;\">\n",
              "      <th></th>\n",
              "      <th>Make</th>\n",
              "      <th>Colour</th>\n",
              "      <th>Odometer</th>\n",
              "      <th>Doors</th>\n",
              "      <th>Price</th>\n",
              "      <th>Seats</th>\n",
              "      <th>Engine Size</th>\n",
              "      <th>Number of wheels</th>\n",
              "      <th>Passed road safety</th>\n",
              "    </tr>\n",
              "  </thead>\n",
              "  <tbody>\n",
              "    <tr>\n",
              "      <td>0</td>\n",
              "      <td>toyota</td>\n",
              "      <td>White</td>\n",
              "      <td>93776.875</td>\n",
              "      <td>4</td>\n",
              "      <td>4000</td>\n",
              "      <td>5</td>\n",
              "      <td>1.3</td>\n",
              "      <td>4</td>\n",
              "      <td>True</td>\n",
              "    </tr>\n",
              "    <tr>\n",
              "      <td>1</td>\n",
              "      <td>honda</td>\n",
              "      <td>Red</td>\n",
              "      <td>54936.875</td>\n",
              "      <td>4</td>\n",
              "      <td>5000</td>\n",
              "      <td>5</td>\n",
              "      <td>2.0</td>\n",
              "      <td>4</td>\n",
              "      <td>True</td>\n",
              "    </tr>\n",
              "    <tr>\n",
              "      <td>2</td>\n",
              "      <td>toyota</td>\n",
              "      <td>Blue</td>\n",
              "      <td>20343.125</td>\n",
              "      <td>3</td>\n",
              "      <td>7000</td>\n",
              "      <td>5</td>\n",
              "      <td>3.0</td>\n",
              "      <td>4</td>\n",
              "      <td>True</td>\n",
              "    </tr>\n",
              "    <tr>\n",
              "      <td>3</td>\n",
              "      <td>bmw</td>\n",
              "      <td>Black</td>\n",
              "      <td>6986.875</td>\n",
              "      <td>5</td>\n",
              "      <td>22000</td>\n",
              "      <td>5</td>\n",
              "      <td>4.2</td>\n",
              "      <td>4</td>\n",
              "      <td>True</td>\n",
              "    </tr>\n",
              "    <tr>\n",
              "      <td>4</td>\n",
              "      <td>nissan</td>\n",
              "      <td>White</td>\n",
              "      <td>133184.375</td>\n",
              "      <td>4</td>\n",
              "      <td>3500</td>\n",
              "      <td>5</td>\n",
              "      <td>1.6</td>\n",
              "      <td>4</td>\n",
              "      <td>True</td>\n",
              "    </tr>\n",
              "    <tr>\n",
              "      <td>5</td>\n",
              "      <td>toyota</td>\n",
              "      <td>Green</td>\n",
              "      <td>62008.125</td>\n",
              "      <td>4</td>\n",
              "      <td>4500</td>\n",
              "      <td>5</td>\n",
              "      <td>1.0</td>\n",
              "      <td>4</td>\n",
              "      <td>True</td>\n",
              "    </tr>\n",
              "    <tr>\n",
              "      <td>6</td>\n",
              "      <td>honda</td>\n",
              "      <td>Blue</td>\n",
              "      <td>28561.250</td>\n",
              "      <td>4</td>\n",
              "      <td>7500</td>\n",
              "      <td>5</td>\n",
              "      <td>2.0</td>\n",
              "      <td>4</td>\n",
              "      <td>True</td>\n",
              "    </tr>\n",
              "    <tr>\n",
              "      <td>7</td>\n",
              "      <td>honda</td>\n",
              "      <td>Blue</td>\n",
              "      <td>34211.250</td>\n",
              "      <td>4</td>\n",
              "      <td>7000</td>\n",
              "      <td>5</td>\n",
              "      <td>2.3</td>\n",
              "      <td>4</td>\n",
              "      <td>True</td>\n",
              "    </tr>\n",
              "    <tr>\n",
              "      <td>8</td>\n",
              "      <td>toyota</td>\n",
              "      <td>White</td>\n",
              "      <td>37500.000</td>\n",
              "      <td>4</td>\n",
              "      <td>6250</td>\n",
              "      <td>5</td>\n",
              "      <td>2.0</td>\n",
              "      <td>4</td>\n",
              "      <td>True</td>\n",
              "    </tr>\n",
              "    <tr>\n",
              "      <td>9</td>\n",
              "      <td>nissan</td>\n",
              "      <td>White</td>\n",
              "      <td>19750.000</td>\n",
              "      <td>4</td>\n",
              "      <td>9700</td>\n",
              "      <td>5</td>\n",
              "      <td>3.0</td>\n",
              "      <td>4</td>\n",
              "      <td>True</td>\n",
              "    </tr>\n",
              "  </tbody>\n",
              "</table>\n",
              "</div>"
            ],
            "text/plain": [
              "     Make Colour    Odometer  Doors  Price  Seats  Engine Size  \\\n",
              "0  toyota  White   93776.875      4   4000      5          1.3   \n",
              "1   honda    Red   54936.875      4   5000      5          2.0   \n",
              "2  toyota   Blue   20343.125      3   7000      5          3.0   \n",
              "3     bmw  Black    6986.875      5  22000      5          4.2   \n",
              "4  nissan  White  133184.375      4   3500      5          1.6   \n",
              "5  toyota  Green   62008.125      4   4500      5          1.0   \n",
              "6   honda   Blue   28561.250      4   7500      5          2.0   \n",
              "7   honda   Blue   34211.250      4   7000      5          2.3   \n",
              "8  toyota  White   37500.000      4   6250      5          2.0   \n",
              "9  nissan  White   19750.000      4   9700      5          3.0   \n",
              "\n",
              "   Number of wheels  Passed road safety  \n",
              "0                 4                True  \n",
              "1                 4                True  \n",
              "2                 4                True  \n",
              "3                 4                True  \n",
              "4                 4                True  \n",
              "5                 4                True  \n",
              "6                 4                True  \n",
              "7                 4                True  \n",
              "8                 4                True  \n",
              "9                 4                True  "
            ]
          },
          "metadata": {
            "tags": []
          },
          "execution_count": 179
        }
      ]
    },
    {
      "cell_type": "markdown",
      "metadata": {
        "id": "FJ3FUEEi4rO2",
        "colab_type": "text"
      },
      "source": [
        "Now you've created some columns, you decide to show your colleague what you've done. When they ask about the `Price per KM` column, you tell them you're not really sure why it's there.\n",
        "\n",
        "You decide you better remove it to prevent confusion.\n",
        "\n",
        "You can remove a column using `.drop('COLUMN_NAME', axis=1)`."
      ]
    },
    {
      "cell_type": "code",
      "metadata": {
        "id": "e8_62Czn4rO3",
        "colab_type": "code",
        "outputId": "d7c8dc79-28f2-4eb5-beb6-4e10eb5b7a1b",
        "colab": {}
      },
      "source": [
        "# Drop the Price per KM column\n",
        "car_sales = car_sales.drop(\"Price per KM\", axis=1)\n",
        "car_sales"
      ],
      "execution_count": 0,
      "outputs": [
        {
          "output_type": "execute_result",
          "data": {
            "text/html": [
              "<div>\n",
              "<style scoped>\n",
              "    .dataframe tbody tr th:only-of-type {\n",
              "        vertical-align: middle;\n",
              "    }\n",
              "\n",
              "    .dataframe tbody tr th {\n",
              "        vertical-align: top;\n",
              "    }\n",
              "\n",
              "    .dataframe thead th {\n",
              "        text-align: right;\n",
              "    }\n",
              "</style>\n",
              "<table border=\"1\" class=\"dataframe\">\n",
              "  <thead>\n",
              "    <tr style=\"text-align: right;\">\n",
              "      <th></th>\n",
              "      <th>Make</th>\n",
              "      <th>Colour</th>\n",
              "      <th>Odometer</th>\n",
              "      <th>Doors</th>\n",
              "      <th>Price</th>\n",
              "      <th>Seats</th>\n",
              "      <th>Engine Size</th>\n",
              "      <th>Number of wheels</th>\n",
              "    </tr>\n",
              "  </thead>\n",
              "  <tbody>\n",
              "    <tr>\n",
              "      <td>0</td>\n",
              "      <td>toyota</td>\n",
              "      <td>White</td>\n",
              "      <td>150043</td>\n",
              "      <td>4</td>\n",
              "      <td>4000</td>\n",
              "      <td>5</td>\n",
              "      <td>1.3</td>\n",
              "      <td>4</td>\n",
              "    </tr>\n",
              "    <tr>\n",
              "      <td>1</td>\n",
              "      <td>honda</td>\n",
              "      <td>Red</td>\n",
              "      <td>87899</td>\n",
              "      <td>4</td>\n",
              "      <td>5000</td>\n",
              "      <td>5</td>\n",
              "      <td>2.0</td>\n",
              "      <td>4</td>\n",
              "    </tr>\n",
              "    <tr>\n",
              "      <td>2</td>\n",
              "      <td>toyota</td>\n",
              "      <td>Blue</td>\n",
              "      <td>32549</td>\n",
              "      <td>3</td>\n",
              "      <td>7000</td>\n",
              "      <td>5</td>\n",
              "      <td>3.0</td>\n",
              "      <td>4</td>\n",
              "    </tr>\n",
              "    <tr>\n",
              "      <td>3</td>\n",
              "      <td>bmw</td>\n",
              "      <td>Black</td>\n",
              "      <td>11179</td>\n",
              "      <td>5</td>\n",
              "      <td>22000</td>\n",
              "      <td>5</td>\n",
              "      <td>4.2</td>\n",
              "      <td>4</td>\n",
              "    </tr>\n",
              "    <tr>\n",
              "      <td>4</td>\n",
              "      <td>nissan</td>\n",
              "      <td>White</td>\n",
              "      <td>213095</td>\n",
              "      <td>4</td>\n",
              "      <td>3500</td>\n",
              "      <td>5</td>\n",
              "      <td>1.6</td>\n",
              "      <td>4</td>\n",
              "    </tr>\n",
              "    <tr>\n",
              "      <td>5</td>\n",
              "      <td>toyota</td>\n",
              "      <td>Green</td>\n",
              "      <td>99213</td>\n",
              "      <td>4</td>\n",
              "      <td>4500</td>\n",
              "      <td>5</td>\n",
              "      <td>1.0</td>\n",
              "      <td>4</td>\n",
              "    </tr>\n",
              "    <tr>\n",
              "      <td>6</td>\n",
              "      <td>honda</td>\n",
              "      <td>Blue</td>\n",
              "      <td>45698</td>\n",
              "      <td>4</td>\n",
              "      <td>7500</td>\n",
              "      <td>5</td>\n",
              "      <td>2.0</td>\n",
              "      <td>4</td>\n",
              "    </tr>\n",
              "    <tr>\n",
              "      <td>7</td>\n",
              "      <td>honda</td>\n",
              "      <td>Blue</td>\n",
              "      <td>54738</td>\n",
              "      <td>4</td>\n",
              "      <td>7000</td>\n",
              "      <td>5</td>\n",
              "      <td>2.3</td>\n",
              "      <td>4</td>\n",
              "    </tr>\n",
              "    <tr>\n",
              "      <td>8</td>\n",
              "      <td>toyota</td>\n",
              "      <td>White</td>\n",
              "      <td>60000</td>\n",
              "      <td>4</td>\n",
              "      <td>6250</td>\n",
              "      <td>5</td>\n",
              "      <td>2.0</td>\n",
              "      <td>4</td>\n",
              "    </tr>\n",
              "    <tr>\n",
              "      <td>9</td>\n",
              "      <td>nissan</td>\n",
              "      <td>White</td>\n",
              "      <td>31600</td>\n",
              "      <td>4</td>\n",
              "      <td>9700</td>\n",
              "      <td>5</td>\n",
              "      <td>3.0</td>\n",
              "      <td>4</td>\n",
              "    </tr>\n",
              "  </tbody>\n",
              "</table>\n",
              "</div>"
            ],
            "text/plain": [
              "     Make Colour  Odometer  Doors  Price  Seats  Engine Size  Number of wheels\n",
              "0  toyota  White    150043      4   4000      5          1.3                 4\n",
              "1   honda    Red     87899      4   5000      5          2.0                 4\n",
              "2  toyota   Blue     32549      3   7000      5          3.0                 4\n",
              "3     bmw  Black     11179      5  22000      5          4.2                 4\n",
              "4  nissan  White    213095      4   3500      5          1.6                 4\n",
              "5  toyota  Green     99213      4   4500      5          1.0                 4\n",
              "6   honda   Blue     45698      4   7500      5          2.0                 4\n",
              "7   honda   Blue     54738      4   7000      5          2.3                 4\n",
              "8  toyota  White     60000      4   6250      5          2.0                 4\n",
              "9  nissan  White     31600      4   9700      5          3.0                 4"
            ]
          },
          "metadata": {
            "tags": []
          },
          "execution_count": 166
        }
      ]
    },
    {
      "cell_type": "markdown",
      "metadata": {
        "id": "Ty5p2PAE4rO6",
        "colab_type": "text"
      },
      "source": [
        "Why `axis=1`? Because that's the axis columns live on. Rows live on `axis=0`.\n",
        "\n",
        "Let's say you wanted to shuffle the order of your `DataFrame` so you could split it into train, validation and test sets. And even though the order of your samples was random, you wanted to make sure.\n",
        "\n",
        "To do so you could use `.sample(frac=1)`. \n",
        "\n",
        "`.sample()` randomly samples different rows from a `DataFrame`. The `frac` parameter dictates the fraction, where 1 = 100% of rows, 0.5 = 50% of rows, 0.01 = 1% of rows."
      ]
    },
    {
      "cell_type": "code",
      "metadata": {
        "id": "TYq1UckW4rO7",
        "colab_type": "code",
        "outputId": "79b1e2f0-7738-41d3-cf07-c22c8acd97d5",
        "colab": {}
      },
      "source": [
        "# Sample car_sales\n",
        "car_sales_sampled = car_sales.sample(frac=1)\n",
        "car_sales_sampled"
      ],
      "execution_count": 0,
      "outputs": [
        {
          "output_type": "execute_result",
          "data": {
            "text/html": [
              "<div>\n",
              "<style scoped>\n",
              "    .dataframe tbody tr th:only-of-type {\n",
              "        vertical-align: middle;\n",
              "    }\n",
              "\n",
              "    .dataframe tbody tr th {\n",
              "        vertical-align: top;\n",
              "    }\n",
              "\n",
              "    .dataframe thead th {\n",
              "        text-align: right;\n",
              "    }\n",
              "</style>\n",
              "<table border=\"1\" class=\"dataframe\">\n",
              "  <thead>\n",
              "    <tr style=\"text-align: right;\">\n",
              "      <th></th>\n",
              "      <th>Make</th>\n",
              "      <th>Colour</th>\n",
              "      <th>Odometer</th>\n",
              "      <th>Doors</th>\n",
              "      <th>Price</th>\n",
              "      <th>Seats</th>\n",
              "      <th>Engine Size</th>\n",
              "      <th>Number of wheels</th>\n",
              "    </tr>\n",
              "  </thead>\n",
              "  <tbody>\n",
              "    <tr>\n",
              "      <td>4</td>\n",
              "      <td>nissan</td>\n",
              "      <td>White</td>\n",
              "      <td>213095</td>\n",
              "      <td>4</td>\n",
              "      <td>3500</td>\n",
              "      <td>5</td>\n",
              "      <td>1.6</td>\n",
              "      <td>4</td>\n",
              "    </tr>\n",
              "    <tr>\n",
              "      <td>9</td>\n",
              "      <td>nissan</td>\n",
              "      <td>White</td>\n",
              "      <td>31600</td>\n",
              "      <td>4</td>\n",
              "      <td>9700</td>\n",
              "      <td>5</td>\n",
              "      <td>3.0</td>\n",
              "      <td>4</td>\n",
              "    </tr>\n",
              "    <tr>\n",
              "      <td>8</td>\n",
              "      <td>toyota</td>\n",
              "      <td>White</td>\n",
              "      <td>60000</td>\n",
              "      <td>4</td>\n",
              "      <td>6250</td>\n",
              "      <td>5</td>\n",
              "      <td>2.0</td>\n",
              "      <td>4</td>\n",
              "    </tr>\n",
              "    <tr>\n",
              "      <td>5</td>\n",
              "      <td>toyota</td>\n",
              "      <td>Green</td>\n",
              "      <td>99213</td>\n",
              "      <td>4</td>\n",
              "      <td>4500</td>\n",
              "      <td>5</td>\n",
              "      <td>1.0</td>\n",
              "      <td>4</td>\n",
              "    </tr>\n",
              "    <tr>\n",
              "      <td>2</td>\n",
              "      <td>toyota</td>\n",
              "      <td>Blue</td>\n",
              "      <td>32549</td>\n",
              "      <td>3</td>\n",
              "      <td>7000</td>\n",
              "      <td>5</td>\n",
              "      <td>3.0</td>\n",
              "      <td>4</td>\n",
              "    </tr>\n",
              "    <tr>\n",
              "      <td>6</td>\n",
              "      <td>honda</td>\n",
              "      <td>Blue</td>\n",
              "      <td>45698</td>\n",
              "      <td>4</td>\n",
              "      <td>7500</td>\n",
              "      <td>5</td>\n",
              "      <td>2.0</td>\n",
              "      <td>4</td>\n",
              "    </tr>\n",
              "    <tr>\n",
              "      <td>7</td>\n",
              "      <td>honda</td>\n",
              "      <td>Blue</td>\n",
              "      <td>54738</td>\n",
              "      <td>4</td>\n",
              "      <td>7000</td>\n",
              "      <td>5</td>\n",
              "      <td>2.3</td>\n",
              "      <td>4</td>\n",
              "    </tr>\n",
              "    <tr>\n",
              "      <td>3</td>\n",
              "      <td>bmw</td>\n",
              "      <td>Black</td>\n",
              "      <td>11179</td>\n",
              "      <td>5</td>\n",
              "      <td>22000</td>\n",
              "      <td>5</td>\n",
              "      <td>4.2</td>\n",
              "      <td>4</td>\n",
              "    </tr>\n",
              "    <tr>\n",
              "      <td>1</td>\n",
              "      <td>honda</td>\n",
              "      <td>Red</td>\n",
              "      <td>87899</td>\n",
              "      <td>4</td>\n",
              "      <td>5000</td>\n",
              "      <td>5</td>\n",
              "      <td>2.0</td>\n",
              "      <td>4</td>\n",
              "    </tr>\n",
              "    <tr>\n",
              "      <td>0</td>\n",
              "      <td>toyota</td>\n",
              "      <td>White</td>\n",
              "      <td>150043</td>\n",
              "      <td>4</td>\n",
              "      <td>4000</td>\n",
              "      <td>5</td>\n",
              "      <td>1.3</td>\n",
              "      <td>4</td>\n",
              "    </tr>\n",
              "  </tbody>\n",
              "</table>\n",
              "</div>"
            ],
            "text/plain": [
              "     Make Colour  Odometer  Doors  Price  Seats  Engine Size  Number of wheels\n",
              "4  nissan  White    213095      4   3500      5          1.6                 4\n",
              "9  nissan  White     31600      4   9700      5          3.0                 4\n",
              "8  toyota  White     60000      4   6250      5          2.0                 4\n",
              "5  toyota  Green     99213      4   4500      5          1.0                 4\n",
              "2  toyota   Blue     32549      3   7000      5          3.0                 4\n",
              "6   honda   Blue     45698      4   7500      5          2.0                 4\n",
              "7   honda   Blue     54738      4   7000      5          2.3                 4\n",
              "3     bmw  Black     11179      5  22000      5          4.2                 4\n",
              "1   honda    Red     87899      4   5000      5          2.0                 4\n",
              "0  toyota  White    150043      4   4000      5          1.3                 4"
            ]
          },
          "metadata": {
            "tags": []
          },
          "execution_count": 167
        }
      ]
    },
    {
      "cell_type": "markdown",
      "metadata": {
        "id": "8kqDGi4F4rO9",
        "colab_type": "text"
      },
      "source": [
        "Notice how the rows remain intact but their order is mixed (check the indexes).\n",
        "\n",
        "`.sample(frac=X)` is also helpful when you're working with a large `DataFrame`. Say you had 2,000,000 rows.\n",
        "\n",
        "Running tests, analysis and machine learning algorithms on 2,000,000 rows could take a long time. And since being a data scientist or machine learning engineer is about reducing the time between experiments, you might begin with a sample of rows first.\n",
        "\n",
        "For example, you could use `40k_rows = 2_mil_rows.sample(frac=0.05)` to work on 40,000 rows from a `DataFrame` called `2_mil_rows` containing 2,000,000 rows.\n",
        "\n",
        "What if you wanted to get the indexes back in order?\n",
        "\n",
        "You could do so using `.reset_index()`."
      ]
    },
    {
      "cell_type": "code",
      "metadata": {
        "id": "kMfNfnjK4rO-",
        "colab_type": "code",
        "outputId": "78e83867-c8a0-4995-b01d-96786e1fe3f5",
        "colab": {}
      },
      "source": [
        "# Reset the indexes of car_sales_sampled\n",
        "car_sales_sampled.reset_index()"
      ],
      "execution_count": 0,
      "outputs": [
        {
          "output_type": "execute_result",
          "data": {
            "text/html": [
              "<div>\n",
              "<style scoped>\n",
              "    .dataframe tbody tr th:only-of-type {\n",
              "        vertical-align: middle;\n",
              "    }\n",
              "\n",
              "    .dataframe tbody tr th {\n",
              "        vertical-align: top;\n",
              "    }\n",
              "\n",
              "    .dataframe thead th {\n",
              "        text-align: right;\n",
              "    }\n",
              "</style>\n",
              "<table border=\"1\" class=\"dataframe\">\n",
              "  <thead>\n",
              "    <tr style=\"text-align: right;\">\n",
              "      <th></th>\n",
              "      <th>index</th>\n",
              "      <th>Make</th>\n",
              "      <th>Colour</th>\n",
              "      <th>Odometer</th>\n",
              "      <th>Doors</th>\n",
              "      <th>Price</th>\n",
              "      <th>Seats</th>\n",
              "      <th>Engine Size</th>\n",
              "      <th>Number of wheels</th>\n",
              "    </tr>\n",
              "  </thead>\n",
              "  <tbody>\n",
              "    <tr>\n",
              "      <td>0</td>\n",
              "      <td>4</td>\n",
              "      <td>nissan</td>\n",
              "      <td>White</td>\n",
              "      <td>213095</td>\n",
              "      <td>4</td>\n",
              "      <td>3500</td>\n",
              "      <td>5</td>\n",
              "      <td>1.6</td>\n",
              "      <td>4</td>\n",
              "    </tr>\n",
              "    <tr>\n",
              "      <td>1</td>\n",
              "      <td>9</td>\n",
              "      <td>nissan</td>\n",
              "      <td>White</td>\n",
              "      <td>31600</td>\n",
              "      <td>4</td>\n",
              "      <td>9700</td>\n",
              "      <td>5</td>\n",
              "      <td>3.0</td>\n",
              "      <td>4</td>\n",
              "    </tr>\n",
              "    <tr>\n",
              "      <td>2</td>\n",
              "      <td>8</td>\n",
              "      <td>toyota</td>\n",
              "      <td>White</td>\n",
              "      <td>60000</td>\n",
              "      <td>4</td>\n",
              "      <td>6250</td>\n",
              "      <td>5</td>\n",
              "      <td>2.0</td>\n",
              "      <td>4</td>\n",
              "    </tr>\n",
              "    <tr>\n",
              "      <td>3</td>\n",
              "      <td>5</td>\n",
              "      <td>toyota</td>\n",
              "      <td>Green</td>\n",
              "      <td>99213</td>\n",
              "      <td>4</td>\n",
              "      <td>4500</td>\n",
              "      <td>5</td>\n",
              "      <td>1.0</td>\n",
              "      <td>4</td>\n",
              "    </tr>\n",
              "    <tr>\n",
              "      <td>4</td>\n",
              "      <td>2</td>\n",
              "      <td>toyota</td>\n",
              "      <td>Blue</td>\n",
              "      <td>32549</td>\n",
              "      <td>3</td>\n",
              "      <td>7000</td>\n",
              "      <td>5</td>\n",
              "      <td>3.0</td>\n",
              "      <td>4</td>\n",
              "    </tr>\n",
              "    <tr>\n",
              "      <td>5</td>\n",
              "      <td>6</td>\n",
              "      <td>honda</td>\n",
              "      <td>Blue</td>\n",
              "      <td>45698</td>\n",
              "      <td>4</td>\n",
              "      <td>7500</td>\n",
              "      <td>5</td>\n",
              "      <td>2.0</td>\n",
              "      <td>4</td>\n",
              "    </tr>\n",
              "    <tr>\n",
              "      <td>6</td>\n",
              "      <td>7</td>\n",
              "      <td>honda</td>\n",
              "      <td>Blue</td>\n",
              "      <td>54738</td>\n",
              "      <td>4</td>\n",
              "      <td>7000</td>\n",
              "      <td>5</td>\n",
              "      <td>2.3</td>\n",
              "      <td>4</td>\n",
              "    </tr>\n",
              "    <tr>\n",
              "      <td>7</td>\n",
              "      <td>3</td>\n",
              "      <td>bmw</td>\n",
              "      <td>Black</td>\n",
              "      <td>11179</td>\n",
              "      <td>5</td>\n",
              "      <td>22000</td>\n",
              "      <td>5</td>\n",
              "      <td>4.2</td>\n",
              "      <td>4</td>\n",
              "    </tr>\n",
              "    <tr>\n",
              "      <td>8</td>\n",
              "      <td>1</td>\n",
              "      <td>honda</td>\n",
              "      <td>Red</td>\n",
              "      <td>87899</td>\n",
              "      <td>4</td>\n",
              "      <td>5000</td>\n",
              "      <td>5</td>\n",
              "      <td>2.0</td>\n",
              "      <td>4</td>\n",
              "    </tr>\n",
              "    <tr>\n",
              "      <td>9</td>\n",
              "      <td>0</td>\n",
              "      <td>toyota</td>\n",
              "      <td>White</td>\n",
              "      <td>150043</td>\n",
              "      <td>4</td>\n",
              "      <td>4000</td>\n",
              "      <td>5</td>\n",
              "      <td>1.3</td>\n",
              "      <td>4</td>\n",
              "    </tr>\n",
              "  </tbody>\n",
              "</table>\n",
              "</div>"
            ],
            "text/plain": [
              "   index    Make Colour  Odometer  Doors  Price  Seats  Engine Size  \\\n",
              "0      4  nissan  White    213095      4   3500      5          1.6   \n",
              "1      9  nissan  White     31600      4   9700      5          3.0   \n",
              "2      8  toyota  White     60000      4   6250      5          2.0   \n",
              "3      5  toyota  Green     99213      4   4500      5          1.0   \n",
              "4      2  toyota   Blue     32549      3   7000      5          3.0   \n",
              "5      6   honda   Blue     45698      4   7500      5          2.0   \n",
              "6      7   honda   Blue     54738      4   7000      5          2.3   \n",
              "7      3     bmw  Black     11179      5  22000      5          4.2   \n",
              "8      1   honda    Red     87899      4   5000      5          2.0   \n",
              "9      0  toyota  White    150043      4   4000      5          1.3   \n",
              "\n",
              "   Number of wheels  \n",
              "0                 4  \n",
              "1                 4  \n",
              "2                 4  \n",
              "3                 4  \n",
              "4                 4  \n",
              "5                 4  \n",
              "6                 4  \n",
              "7                 4  \n",
              "8                 4  \n",
              "9                 4  "
            ]
          },
          "metadata": {
            "tags": []
          },
          "execution_count": 168
        }
      ]
    },
    {
      "cell_type": "markdown",
      "metadata": {
        "id": "7i2WBGPG4rPB",
        "colab_type": "text"
      },
      "source": [
        "Calling `.reset_index()` on a `DataFrame` resets the index numbers to their defaults. It also creates a new `Index` column by default which contains the previous index values.\n",
        "\n",
        "Finally, what if you wanted to apply a function to a column. Such as, converting the `Odometer` column from kilometers to miles.\n",
        "\n",
        "You can do so using the `.apply()` function and passing it a lambda function. We know there's about 1.6 kilometers in a mile, so if you divide the value in the `Odometer` column by 1.6, it should convert it to miles."
      ]
    },
    {
      "cell_type": "code",
      "metadata": {
        "id": "TjZjHrgC4rPC",
        "colab_type": "code",
        "outputId": "04095672-cd56-4fef-a789-5b435db76d4e",
        "colab": {}
      },
      "source": [
        "# Change the Odometer values from kilometres to miles\n",
        "car_sales[\"Odometer\"].apply(lambda x: x / 1.6)"
      ],
      "execution_count": 0,
      "outputs": [
        {
          "output_type": "execute_result",
          "data": {
            "text/plain": [
              "0     93776.875\n",
              "1     54936.875\n",
              "2     20343.125\n",
              "3      6986.875\n",
              "4    133184.375\n",
              "5     62008.125\n",
              "6     28561.250\n",
              "7     34211.250\n",
              "8     37500.000\n",
              "9     19750.000\n",
              "Name: Odometer, dtype: float64"
            ]
          },
          "metadata": {
            "tags": []
          },
          "execution_count": 171
        }
      ]
    },
    {
      "cell_type": "markdown",
      "metadata": {
        "id": "LovUoQpK4rPE",
        "colab_type": "text"
      },
      "source": [
        "Now let's check our `car_sales` `DataFrame`."
      ]
    },
    {
      "cell_type": "code",
      "metadata": {
        "id": "8roq5bmL4rPF",
        "colab_type": "code",
        "outputId": "61bc744b-60cc-4dba-b164-0025de8aea5b",
        "colab": {}
      },
      "source": [
        "car_sales"
      ],
      "execution_count": 0,
      "outputs": [
        {
          "output_type": "execute_result",
          "data": {
            "text/html": [
              "<div>\n",
              "<style scoped>\n",
              "    .dataframe tbody tr th:only-of-type {\n",
              "        vertical-align: middle;\n",
              "    }\n",
              "\n",
              "    .dataframe tbody tr th {\n",
              "        vertical-align: top;\n",
              "    }\n",
              "\n",
              "    .dataframe thead th {\n",
              "        text-align: right;\n",
              "    }\n",
              "</style>\n",
              "<table border=\"1\" class=\"dataframe\">\n",
              "  <thead>\n",
              "    <tr style=\"text-align: right;\">\n",
              "      <th></th>\n",
              "      <th>Make</th>\n",
              "      <th>Colour</th>\n",
              "      <th>Odometer</th>\n",
              "      <th>Doors</th>\n",
              "      <th>Price</th>\n",
              "      <th>Seats</th>\n",
              "      <th>Engine Size</th>\n",
              "      <th>Number of wheels</th>\n",
              "    </tr>\n",
              "  </thead>\n",
              "  <tbody>\n",
              "    <tr>\n",
              "      <td>0</td>\n",
              "      <td>toyota</td>\n",
              "      <td>White</td>\n",
              "      <td>150043</td>\n",
              "      <td>4</td>\n",
              "      <td>4000</td>\n",
              "      <td>5</td>\n",
              "      <td>1.3</td>\n",
              "      <td>4</td>\n",
              "    </tr>\n",
              "    <tr>\n",
              "      <td>1</td>\n",
              "      <td>honda</td>\n",
              "      <td>Red</td>\n",
              "      <td>87899</td>\n",
              "      <td>4</td>\n",
              "      <td>5000</td>\n",
              "      <td>5</td>\n",
              "      <td>2.0</td>\n",
              "      <td>4</td>\n",
              "    </tr>\n",
              "    <tr>\n",
              "      <td>2</td>\n",
              "      <td>toyota</td>\n",
              "      <td>Blue</td>\n",
              "      <td>32549</td>\n",
              "      <td>3</td>\n",
              "      <td>7000</td>\n",
              "      <td>5</td>\n",
              "      <td>3.0</td>\n",
              "      <td>4</td>\n",
              "    </tr>\n",
              "    <tr>\n",
              "      <td>3</td>\n",
              "      <td>bmw</td>\n",
              "      <td>Black</td>\n",
              "      <td>11179</td>\n",
              "      <td>5</td>\n",
              "      <td>22000</td>\n",
              "      <td>5</td>\n",
              "      <td>4.2</td>\n",
              "      <td>4</td>\n",
              "    </tr>\n",
              "    <tr>\n",
              "      <td>4</td>\n",
              "      <td>nissan</td>\n",
              "      <td>White</td>\n",
              "      <td>213095</td>\n",
              "      <td>4</td>\n",
              "      <td>3500</td>\n",
              "      <td>5</td>\n",
              "      <td>1.6</td>\n",
              "      <td>4</td>\n",
              "    </tr>\n",
              "    <tr>\n",
              "      <td>5</td>\n",
              "      <td>toyota</td>\n",
              "      <td>Green</td>\n",
              "      <td>99213</td>\n",
              "      <td>4</td>\n",
              "      <td>4500</td>\n",
              "      <td>5</td>\n",
              "      <td>1.0</td>\n",
              "      <td>4</td>\n",
              "    </tr>\n",
              "    <tr>\n",
              "      <td>6</td>\n",
              "      <td>honda</td>\n",
              "      <td>Blue</td>\n",
              "      <td>45698</td>\n",
              "      <td>4</td>\n",
              "      <td>7500</td>\n",
              "      <td>5</td>\n",
              "      <td>2.0</td>\n",
              "      <td>4</td>\n",
              "    </tr>\n",
              "    <tr>\n",
              "      <td>7</td>\n",
              "      <td>honda</td>\n",
              "      <td>Blue</td>\n",
              "      <td>54738</td>\n",
              "      <td>4</td>\n",
              "      <td>7000</td>\n",
              "      <td>5</td>\n",
              "      <td>2.3</td>\n",
              "      <td>4</td>\n",
              "    </tr>\n",
              "    <tr>\n",
              "      <td>8</td>\n",
              "      <td>toyota</td>\n",
              "      <td>White</td>\n",
              "      <td>60000</td>\n",
              "      <td>4</td>\n",
              "      <td>6250</td>\n",
              "      <td>5</td>\n",
              "      <td>2.0</td>\n",
              "      <td>4</td>\n",
              "    </tr>\n",
              "    <tr>\n",
              "      <td>9</td>\n",
              "      <td>nissan</td>\n",
              "      <td>White</td>\n",
              "      <td>31600</td>\n",
              "      <td>4</td>\n",
              "      <td>9700</td>\n",
              "      <td>5</td>\n",
              "      <td>3.0</td>\n",
              "      <td>4</td>\n",
              "    </tr>\n",
              "  </tbody>\n",
              "</table>\n",
              "</div>"
            ],
            "text/plain": [
              "     Make Colour  Odometer  Doors  Price  Seats  Engine Size  Number of wheels\n",
              "0  toyota  White    150043      4   4000      5          1.3                 4\n",
              "1   honda    Red     87899      4   5000      5          2.0                 4\n",
              "2  toyota   Blue     32549      3   7000      5          3.0                 4\n",
              "3     bmw  Black     11179      5  22000      5          4.2                 4\n",
              "4  nissan  White    213095      4   3500      5          1.6                 4\n",
              "5  toyota  Green     99213      4   4500      5          1.0                 4\n",
              "6   honda   Blue     45698      4   7500      5          2.0                 4\n",
              "7   honda   Blue     54738      4   7000      5          2.3                 4\n",
              "8  toyota  White     60000      4   6250      5          2.0                 4\n",
              "9  nissan  White     31600      4   9700      5          3.0                 4"
            ]
          },
          "metadata": {
            "tags": []
          },
          "execution_count": 172
        }
      ]
    },
    {
      "cell_type": "markdown",
      "metadata": {
        "id": "AoFJHgvY4rPH",
        "colab_type": "text"
      },
      "source": [
        "The `Odometer` column didn't change. Can you guess why?\n",
        "\n",
        "We didn't reassign it."
      ]
    },
    {
      "cell_type": "code",
      "metadata": {
        "id": "qrmivdkV4rPI",
        "colab_type": "code",
        "outputId": "8383c10b-0cd9-48a8-8454-dfbac71adaf4",
        "colab": {}
      },
      "source": [
        "# Reassign the Odometer column to be miles instead of kilometers\n",
        "car_sales[\"Odometer\"] = car_sales[\"Odometer\"].apply(lambda x: x / 1.6)\n",
        "car_sales"
      ],
      "execution_count": 0,
      "outputs": [
        {
          "output_type": "execute_result",
          "data": {
            "text/html": [
              "<div>\n",
              "<style scoped>\n",
              "    .dataframe tbody tr th:only-of-type {\n",
              "        vertical-align: middle;\n",
              "    }\n",
              "\n",
              "    .dataframe tbody tr th {\n",
              "        vertical-align: top;\n",
              "    }\n",
              "\n",
              "    .dataframe thead th {\n",
              "        text-align: right;\n",
              "    }\n",
              "</style>\n",
              "<table border=\"1\" class=\"dataframe\">\n",
              "  <thead>\n",
              "    <tr style=\"text-align: right;\">\n",
              "      <th></th>\n",
              "      <th>Make</th>\n",
              "      <th>Colour</th>\n",
              "      <th>Odometer</th>\n",
              "      <th>Doors</th>\n",
              "      <th>Price</th>\n",
              "      <th>Seats</th>\n",
              "      <th>Engine Size</th>\n",
              "      <th>Number of wheels</th>\n",
              "    </tr>\n",
              "  </thead>\n",
              "  <tbody>\n",
              "    <tr>\n",
              "      <td>0</td>\n",
              "      <td>toyota</td>\n",
              "      <td>White</td>\n",
              "      <td>93776.875</td>\n",
              "      <td>4</td>\n",
              "      <td>4000</td>\n",
              "      <td>5</td>\n",
              "      <td>1.3</td>\n",
              "      <td>4</td>\n",
              "    </tr>\n",
              "    <tr>\n",
              "      <td>1</td>\n",
              "      <td>honda</td>\n",
              "      <td>Red</td>\n",
              "      <td>54936.875</td>\n",
              "      <td>4</td>\n",
              "      <td>5000</td>\n",
              "      <td>5</td>\n",
              "      <td>2.0</td>\n",
              "      <td>4</td>\n",
              "    </tr>\n",
              "    <tr>\n",
              "      <td>2</td>\n",
              "      <td>toyota</td>\n",
              "      <td>Blue</td>\n",
              "      <td>20343.125</td>\n",
              "      <td>3</td>\n",
              "      <td>7000</td>\n",
              "      <td>5</td>\n",
              "      <td>3.0</td>\n",
              "      <td>4</td>\n",
              "    </tr>\n",
              "    <tr>\n",
              "      <td>3</td>\n",
              "      <td>bmw</td>\n",
              "      <td>Black</td>\n",
              "      <td>6986.875</td>\n",
              "      <td>5</td>\n",
              "      <td>22000</td>\n",
              "      <td>5</td>\n",
              "      <td>4.2</td>\n",
              "      <td>4</td>\n",
              "    </tr>\n",
              "    <tr>\n",
              "      <td>4</td>\n",
              "      <td>nissan</td>\n",
              "      <td>White</td>\n",
              "      <td>133184.375</td>\n",
              "      <td>4</td>\n",
              "      <td>3500</td>\n",
              "      <td>5</td>\n",
              "      <td>1.6</td>\n",
              "      <td>4</td>\n",
              "    </tr>\n",
              "    <tr>\n",
              "      <td>5</td>\n",
              "      <td>toyota</td>\n",
              "      <td>Green</td>\n",
              "      <td>62008.125</td>\n",
              "      <td>4</td>\n",
              "      <td>4500</td>\n",
              "      <td>5</td>\n",
              "      <td>1.0</td>\n",
              "      <td>4</td>\n",
              "    </tr>\n",
              "    <tr>\n",
              "      <td>6</td>\n",
              "      <td>honda</td>\n",
              "      <td>Blue</td>\n",
              "      <td>28561.250</td>\n",
              "      <td>4</td>\n",
              "      <td>7500</td>\n",
              "      <td>5</td>\n",
              "      <td>2.0</td>\n",
              "      <td>4</td>\n",
              "    </tr>\n",
              "    <tr>\n",
              "      <td>7</td>\n",
              "      <td>honda</td>\n",
              "      <td>Blue</td>\n",
              "      <td>34211.250</td>\n",
              "      <td>4</td>\n",
              "      <td>7000</td>\n",
              "      <td>5</td>\n",
              "      <td>2.3</td>\n",
              "      <td>4</td>\n",
              "    </tr>\n",
              "    <tr>\n",
              "      <td>8</td>\n",
              "      <td>toyota</td>\n",
              "      <td>White</td>\n",
              "      <td>37500.000</td>\n",
              "      <td>4</td>\n",
              "      <td>6250</td>\n",
              "      <td>5</td>\n",
              "      <td>2.0</td>\n",
              "      <td>4</td>\n",
              "    </tr>\n",
              "    <tr>\n",
              "      <td>9</td>\n",
              "      <td>nissan</td>\n",
              "      <td>White</td>\n",
              "      <td>19750.000</td>\n",
              "      <td>4</td>\n",
              "      <td>9700</td>\n",
              "      <td>5</td>\n",
              "      <td>3.0</td>\n",
              "      <td>4</td>\n",
              "    </tr>\n",
              "  </tbody>\n",
              "</table>\n",
              "</div>"
            ],
            "text/plain": [
              "     Make Colour    Odometer  Doors  Price  Seats  Engine Size  \\\n",
              "0  toyota  White   93776.875      4   4000      5          1.3   \n",
              "1   honda    Red   54936.875      4   5000      5          2.0   \n",
              "2  toyota   Blue   20343.125      3   7000      5          3.0   \n",
              "3     bmw  Black    6986.875      5  22000      5          4.2   \n",
              "4  nissan  White  133184.375      4   3500      5          1.6   \n",
              "5  toyota  Green   62008.125      4   4500      5          1.0   \n",
              "6   honda   Blue   28561.250      4   7500      5          2.0   \n",
              "7   honda   Blue   34211.250      4   7000      5          2.3   \n",
              "8  toyota  White   37500.000      4   6250      5          2.0   \n",
              "9  nissan  White   19750.000      4   9700      5          3.0   \n",
              "\n",
              "   Number of wheels  \n",
              "0                 4  \n",
              "1                 4  \n",
              "2                 4  \n",
              "3                 4  \n",
              "4                 4  \n",
              "5                 4  \n",
              "6                 4  \n",
              "7                 4  \n",
              "8                 4  \n",
              "9                 4  "
            ]
          },
          "metadata": {
            "tags": []
          },
          "execution_count": 174
        }
      ]
    },
    {
      "cell_type": "markdown",
      "metadata": {
        "id": "tuQx_Lou4rPK",
        "colab_type": "text"
      },
      "source": [
        "If you've never seen a lambda function they can be tricky. What the line above is saying is \"take the value in the `Odometer (KM)` column (`x`) and set it to be itself divided by 1.6\"."
      ]
    },
    {
      "cell_type": "markdown",
      "metadata": {
        "id": "CVsUFxgr4rPK",
        "colab_type": "text"
      },
      "source": [
        "## Summary\n",
        "\n",
        "* TK - list of all the functions we went through and their links to the documentaiton? Could add more links to each function as I go through.\n",
        "* TK - list all of the key terms throughout the notebook\n",
        "* TK - what wasn't covered but what you'll probably want to look at"
      ]
    }
  ]
}