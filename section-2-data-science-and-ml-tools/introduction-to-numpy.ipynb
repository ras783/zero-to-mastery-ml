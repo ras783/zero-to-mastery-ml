{
  "nbformat": 4,
  "nbformat_minor": 0,
  "metadata": {
    "kernelspec": {
      "display_name": "Python 3",
      "language": "python",
      "name": "python3"
    },
    "language_info": {
      "codemirror_mode": {
        "name": "ipython",
        "version": 3
      },
      "file_extension": ".py",
      "mimetype": "text/x-python",
      "name": "python",
      "nbconvert_exporter": "python",
      "pygments_lexer": "ipython3",
      "version": "3.6.9"
    },
    "colab": {
      "name": "introduction-to-numpy.ipynb",
      "provenance": [],
      "include_colab_link": true
    }
  },
  "cells": [
    {
      "cell_type": "markdown",
      "metadata": {
        "id": "view-in-github",
        "colab_type": "text"
      },
      "source": [
        "<a href=\"https://colab.research.google.com/github/ras783/zero-to-mastery-ml/blob/master/section-2-data-science-and-ml-tools/introduction-to-numpy.ipynb\" target=\"_parent\"><img src=\"https://colab.research.google.com/assets/colab-badge.svg\" alt=\"Open In Colab\"/></a>"
      ]
    },
    {
      "cell_type": "markdown",
      "metadata": {
        "id": "geRpDnbGNsdg",
        "colab_type": "text"
      },
      "source": [
        "# A Quick Introduction to Numerical Data Manipulation with Python and NumPy\n",
        "\n",
        "\n",
        "## What is NumPy?\n",
        "\n",
        "[NumPy](https://docs.scipy.org/doc/numpy/index.html) stands for numerical Python. It's the backbone of all kinds of scientific and numerical computing in Python.\n",
        "\n",
        "And since machine learning is all about turning data into numbers and then figuring out the patterns, NumPy often comes into play.\n",
        "\n",
        "<img src=\"https://github.com/ras783/zero-to-mastery-ml/blob/master/images/numpy-6-step-ml-framework-tools-numpy-highlight.png?raw=1\" alt=\"a 6 step machine learning framework along will tools you can use for each step\" width=\"700\"/>\n",
        "\n",
        "## Why NumPy?\n",
        "\n",
        "You can do numerical calculations using pure Python. In the beginning, you might think Python is fast but once your data gets large, you'll start to notice slow downs.\n",
        "\n",
        "One of the main reasons you use NumPy is because it's fast. Behind the scenes, the code has been optimized to run using C. Which is another programming language, which can do things much faster than Python.\n",
        "\n",
        "The benefit of this being behind the scenes is you don't need to know any C to take advantage of it. You can write your numerical computations in Python using NumPy and get the added speed benefits.\n",
        "\n",
        "If your curious as to what causes this speed benefit, it's a process called vectorization. [Vectorization](https://en.wikipedia.org/wiki/Vectorization) aims to do calculations by avoiding loops as loops can create potential bottlenecks.\n",
        "\n",
        "NumPy achieves vectorization through a process called [broadcasting](https://docs.scipy.org/doc/numpy/user/basics.broadcasting.html#module-numpy.doc.broadcasting).\n",
        "\n",
        "\n",
        "## What does this notebook cover?\n",
        "\n",
        "The NumPy library is very capable. However, learning everything off by heart isn't necessary. Instead, this notebook focuses on the main concepts of NumPy and the `ndarray` datatype.\n",
        "\n",
        "You can think of the `ndarray` datatype as a very flexible array of numbers.\n",
        "\n",
        "More specifically, we'll look at:\n",
        "* NumPy datatypes & attributes\n",
        "* Creating arrays\n",
        "* Viewing arrays & matrices (indexing)\n",
        "* Manipulating & comparing arrays\n",
        "* Sorting arrays\n",
        "* Use cases (examples of turning things into numbers)\n",
        "\n",
        "After going through it, you'll have the base knolwedge of NumPy you need to keep moving forward.\n",
        "\n",
        "## Where can I get help?\n",
        "If you get stuck or think of something you'd like to do which this notebook doesn't cover, don't fear!\n",
        "\n",
        "The recommended steps you take are:\n",
        "1. **Try it** - Since NumPy is very friendly, your first step should be to use what you know and try figure out the answer to your own question (getting it wrong is part of the process). If in doubt, run your code.\n",
        "2. **Search for it** - If trying it on your own doesn't work, since someone else has probably tried to do something similar, try searching for your problem. You'll likely end up in 1 of 2 places:\n",
        "    * [NumPy documentation](https://docs.scipy.org/doc/numpy/index.html) - the ground truth for everything NumPy, this resource covers all of the NumPy functionality.\n",
        "    * [Stack Overflow](https://stackoverflow.com/) - this is the developers Q&A hub, it's full of questions and answers of different problems across a wide range of software development topics and chances are, there's one related to your problem.\n",
        "    \n",
        "An example of searching for a NumPy function might be:\n",
        "\n",
        "> \"how to find unique elements in a numpy array\"\n",
        "\n",
        "Searching this on Google leads to the NumPy documentation for the `np.uniquie()` function: https://docs.scipy.org/doc/numpy/reference/generated/numpy.unique.html\n",
        "\n",
        "The next steps here are to read through the documentation, check the examples and see if they line up to the problem you're trying to solve. If they do, **rewrite the code** to suit your needs, run it, and see what the outcomes are.\n",
        "\n",
        "3. **Ask for help** - If you've been through the above 2 steps and you're still stuck, you might want to ask your question on [Stack Overflow](https://www.stackoverflow.com). Be as specific as possible and provide details on what you've tried.\n",
        "\n",
        "Remember, you don't have to learn all of the functions off by heart to begin with. \n",
        "\n",
        "What's most important is continually asking yourself, \"what am I trying to do with the data?\".\n",
        "\n",
        "Start by answering that question and then practicing finding the code which does it.\n",
        "\n",
        "Let's get started."
      ]
    },
    {
      "cell_type": "markdown",
      "metadata": {
        "id": "vpQrIxSqNsdl",
        "colab_type": "text"
      },
      "source": [
        "## 0. Importing NumPy\n",
        "\n",
        "To get started using NumPy, the first step is to import it. \n",
        "\n",
        "The most common way (and method you should use) is to import NumPy as the abbreviation `np`.\n",
        "\n",
        "If you see the letters `np` used anywhere in machine learning or data science, it's probably referring to the NumPy library."
      ]
    },
    {
      "cell_type": "code",
      "metadata": {
        "id": "IdXyKQ0iNsdn",
        "colab_type": "code",
        "colab": {}
      },
      "source": [
        "import numpy as np"
      ],
      "execution_count": 0,
      "outputs": []
    },
    {
      "cell_type": "markdown",
      "metadata": {
        "id": "1PIPRkG-Nsdy",
        "colab_type": "text"
      },
      "source": [
        "## 1. DataTypes and attributes\n",
        "\n",
        "**NOTE:** Important to remember the main type in NumPy is `ndarray`, even seemingly different kinds of arrays are still `ndarray`'s. This means an operation you do on one array, will work on another."
      ]
    },
    {
      "cell_type": "code",
      "metadata": {
        "id": "w2sePsEeNsd0",
        "colab_type": "code",
        "colab": {}
      },
      "source": [
        "# 1-dimensonal array, also referred to as a vector\n",
        "a1 = np.array([1, 2, 3])\n",
        "\n",
        "# 2-dimensional array, also referred to as matrix\n",
        "a2 = np.array([[1, 2.0, 3.3],\n",
        "               [4, 5, 6.5]])\n",
        "\n",
        "# 3-dimensional array, also referred to as a matrix\n",
        "a3 = np.array([[[1, 2, 3],\n",
        "                [4, 5, 6],\n",
        "                [7, 8, 9]],\n",
        "                [[10, 11, 12],\n",
        "                 [13, 14, 15],\n",
        "                 [16, 17, 18]]])"
      ],
      "execution_count": 0,
      "outputs": []
    },
    {
      "cell_type": "code",
      "metadata": {
        "id": "2fjDVQfnNseG",
        "colab_type": "code",
        "colab": {},
        "outputId": "721d55c5-d49d-49fb-9e86-6270e27a684b"
      },
      "source": [
        "a1.shape, a1.ndim, a1.dtype, a1.size, type(a1)"
      ],
      "execution_count": 0,
      "outputs": [
        {
          "output_type": "execute_result",
          "data": {
            "text/plain": [
              "((3,), 1, dtype('int64'), 3, numpy.ndarray)"
            ]
          },
          "metadata": {
            "tags": []
          },
          "execution_count": 3
        }
      ]
    },
    {
      "cell_type": "code",
      "metadata": {
        "id": "fK9f2bJjNsek",
        "colab_type": "code",
        "colab": {},
        "outputId": "f308b6fa-0ea8-4a4f-de99-50c9107167b0"
      },
      "source": [
        "a2.shape, a2.ndim, a2.dtype, a2.size, type(a2)"
      ],
      "execution_count": 0,
      "outputs": [
        {
          "output_type": "execute_result",
          "data": {
            "text/plain": [
              "((2, 3), 2, dtype('float64'), 6, numpy.ndarray)"
            ]
          },
          "metadata": {
            "tags": []
          },
          "execution_count": 4
        }
      ]
    },
    {
      "cell_type": "code",
      "metadata": {
        "id": "aqlx8lfZNsez",
        "colab_type": "code",
        "colab": {},
        "outputId": "a6b57e23-68af-47b0-d432-4ce1448e6c14"
      },
      "source": [
        "a3.shape, a3.ndim, a3.dtype, a3.size, type(a3)"
      ],
      "execution_count": 0,
      "outputs": [
        {
          "output_type": "execute_result",
          "data": {
            "text/plain": [
              "((2, 3, 3), 3, dtype('int64'), 18, numpy.ndarray)"
            ]
          },
          "metadata": {
            "tags": []
          },
          "execution_count": 5
        }
      ]
    },
    {
      "cell_type": "code",
      "metadata": {
        "id": "5hfYd_HCNse7",
        "colab_type": "code",
        "colab": {},
        "outputId": "0bdb0e78-25d3-4d22-fc30-88eb4cb46bae"
      },
      "source": [
        "a1"
      ],
      "execution_count": 0,
      "outputs": [
        {
          "output_type": "execute_result",
          "data": {
            "text/plain": [
              "array([1, 2, 3])"
            ]
          },
          "metadata": {
            "tags": []
          },
          "execution_count": 6
        }
      ]
    },
    {
      "cell_type": "code",
      "metadata": {
        "id": "RTaRIWobNsfG",
        "colab_type": "code",
        "colab": {},
        "outputId": "9b24b27f-fddf-48fd-e4e9-3d73cfecbc13"
      },
      "source": [
        "a2"
      ],
      "execution_count": 0,
      "outputs": [
        {
          "output_type": "execute_result",
          "data": {
            "text/plain": [
              "array([[1. , 2. , 3.3],\n",
              "       [4. , 5. , 6.5]])"
            ]
          },
          "metadata": {
            "tags": []
          },
          "execution_count": 7
        }
      ]
    },
    {
      "cell_type": "code",
      "metadata": {
        "id": "GnMYqPe1NsfQ",
        "colab_type": "code",
        "colab": {},
        "outputId": "c1db3891-1b5b-4eb9-eb0d-54fa80567e58"
      },
      "source": [
        "a3"
      ],
      "execution_count": 0,
      "outputs": [
        {
          "output_type": "execute_result",
          "data": {
            "text/plain": [
              "array([[[ 1,  2,  3],\n",
              "        [ 4,  5,  6],\n",
              "        [ 7,  8,  9]],\n",
              "\n",
              "       [[10, 11, 12],\n",
              "        [13, 14, 15],\n",
              "        [16, 17, 18]]])"
            ]
          },
          "metadata": {
            "tags": []
          },
          "execution_count": 8
        }
      ]
    },
    {
      "cell_type": "markdown",
      "metadata": {
        "id": "PTwAawKfNsfY",
        "colab_type": "text"
      },
      "source": [
        "### Anatomy of an array\n",
        "\n",
        "<img src=\"https://github.com/ras783/zero-to-mastery-ml/blob/master/images/numpy-anatomy-of-a-numpy-array.png?raw=1\" alt=\"details of a numpy array\"/>\n",
        "\n",
        "Key terms:\n",
        "* **Array** - A list of numbers, can be multi-dimensional.\n",
        "* **Scalar** - A single number (e.g. `7`).\n",
        "* **Vector** - A list of numbers with 1-dimesion (e.g. `np.array([1, 2, 3])`).\n",
        "* **Matrix** - A (usually) multi-deminsional list of numbers (e.g. `np.array([[1, 2, 3], [4, 5, 6]])`)."
      ]
    },
    {
      "cell_type": "markdown",
      "metadata": {
        "id": "RslqM32wNsfa",
        "colab_type": "text"
      },
      "source": [
        "### pandas DataFrame out of NumPy arrays\n",
        "\n",
        "This is to examplify how NumPy is the backbone of many other libraries."
      ]
    },
    {
      "cell_type": "code",
      "metadata": {
        "id": "VyfF9vuANsfb",
        "colab_type": "code",
        "colab": {},
        "outputId": "2139debd-754d-4b2a-c978-6f76f3c1783b"
      },
      "source": [
        "import pandas as pd\n",
        "df = pd.DataFrame(np.random.randint(10, size=(5, 3)), \n",
        "                                    columns=['a', 'b', 'c'])\n",
        "df"
      ],
      "execution_count": 0,
      "outputs": [
        {
          "output_type": "execute_result",
          "data": {
            "text/html": [
              "<div>\n",
              "<style scoped>\n",
              "    .dataframe tbody tr th:only-of-type {\n",
              "        vertical-align: middle;\n",
              "    }\n",
              "\n",
              "    .dataframe tbody tr th {\n",
              "        vertical-align: top;\n",
              "    }\n",
              "\n",
              "    .dataframe thead th {\n",
              "        text-align: right;\n",
              "    }\n",
              "</style>\n",
              "<table border=\"1\" class=\"dataframe\">\n",
              "  <thead>\n",
              "    <tr style=\"text-align: right;\">\n",
              "      <th></th>\n",
              "      <th>a</th>\n",
              "      <th>b</th>\n",
              "      <th>c</th>\n",
              "    </tr>\n",
              "  </thead>\n",
              "  <tbody>\n",
              "    <tr>\n",
              "      <th>0</th>\n",
              "      <td>5</td>\n",
              "      <td>5</td>\n",
              "      <td>8</td>\n",
              "    </tr>\n",
              "    <tr>\n",
              "      <th>1</th>\n",
              "      <td>3</td>\n",
              "      <td>6</td>\n",
              "      <td>0</td>\n",
              "    </tr>\n",
              "    <tr>\n",
              "      <th>2</th>\n",
              "      <td>5</td>\n",
              "      <td>1</td>\n",
              "      <td>4</td>\n",
              "    </tr>\n",
              "    <tr>\n",
              "      <th>3</th>\n",
              "      <td>8</td>\n",
              "      <td>9</td>\n",
              "      <td>5</td>\n",
              "    </tr>\n",
              "    <tr>\n",
              "      <th>4</th>\n",
              "      <td>1</td>\n",
              "      <td>4</td>\n",
              "      <td>9</td>\n",
              "    </tr>\n",
              "  </tbody>\n",
              "</table>\n",
              "</div>"
            ],
            "text/plain": [
              "   a  b  c\n",
              "0  5  5  8\n",
              "1  3  6  0\n",
              "2  5  1  4\n",
              "3  8  9  5\n",
              "4  1  4  9"
            ]
          },
          "metadata": {
            "tags": []
          },
          "execution_count": 9
        }
      ]
    },
    {
      "cell_type": "code",
      "metadata": {
        "id": "Z2_W0XRCNsfj",
        "colab_type": "code",
        "colab": {},
        "outputId": "3f558681-09f2-4801-83c5-c57e756843b0"
      },
      "source": [
        "a2"
      ],
      "execution_count": 0,
      "outputs": [
        {
          "output_type": "execute_result",
          "data": {
            "text/plain": [
              "array([[1. , 2. , 3.3],\n",
              "       [4. , 5. , 6.5]])"
            ]
          },
          "metadata": {
            "tags": []
          },
          "execution_count": 10
        }
      ]
    },
    {
      "cell_type": "code",
      "metadata": {
        "id": "j9LNoP7gNsfr",
        "colab_type": "code",
        "colab": {},
        "outputId": "db671840-0dca-4f0a-8540-e2af3d777e06"
      },
      "source": [
        "df2 = pd.DataFrame(a2)\n",
        "df2"
      ],
      "execution_count": 0,
      "outputs": [
        {
          "output_type": "execute_result",
          "data": {
            "text/html": [
              "<div>\n",
              "<style scoped>\n",
              "    .dataframe tbody tr th:only-of-type {\n",
              "        vertical-align: middle;\n",
              "    }\n",
              "\n",
              "    .dataframe tbody tr th {\n",
              "        vertical-align: top;\n",
              "    }\n",
              "\n",
              "    .dataframe thead th {\n",
              "        text-align: right;\n",
              "    }\n",
              "</style>\n",
              "<table border=\"1\" class=\"dataframe\">\n",
              "  <thead>\n",
              "    <tr style=\"text-align: right;\">\n",
              "      <th></th>\n",
              "      <th>0</th>\n",
              "      <th>1</th>\n",
              "      <th>2</th>\n",
              "    </tr>\n",
              "  </thead>\n",
              "  <tbody>\n",
              "    <tr>\n",
              "      <th>0</th>\n",
              "      <td>1.0</td>\n",
              "      <td>2.0</td>\n",
              "      <td>3.3</td>\n",
              "    </tr>\n",
              "    <tr>\n",
              "      <th>1</th>\n",
              "      <td>4.0</td>\n",
              "      <td>5.0</td>\n",
              "      <td>6.5</td>\n",
              "    </tr>\n",
              "  </tbody>\n",
              "</table>\n",
              "</div>"
            ],
            "text/plain": [
              "     0    1    2\n",
              "0  1.0  2.0  3.3\n",
              "1  4.0  5.0  6.5"
            ]
          },
          "metadata": {
            "tags": []
          },
          "execution_count": 11
        }
      ]
    },
    {
      "cell_type": "markdown",
      "metadata": {
        "id": "262PN7h1Nsf1",
        "colab_type": "text"
      },
      "source": [
        "## 2. Creating arrays\n",
        "\n",
        "* `np.array()`\n",
        "* `np.ones()`\n",
        "* `np.zeros()`\n",
        "* `np.random.rand(5, 3)`\n",
        "* `np.random.randint(10, size=5)`\n",
        "* `np.random.seed()` - pseudo random numbers\n",
        "* Searching the documentation example (finding `np.unique()` and using it)"
      ]
    },
    {
      "cell_type": "code",
      "metadata": {
        "id": "dTUVp4B3Nsf4",
        "colab_type": "code",
        "colab": {},
        "outputId": "aaa882ae-07ec-429a-a17c-821047fbf4a4"
      },
      "source": [
        "# Create a simple array\n",
        "simple_array = np.array([1, 2, 3])\n",
        "simple_array"
      ],
      "execution_count": 0,
      "outputs": [
        {
          "output_type": "execute_result",
          "data": {
            "text/plain": [
              "array([1, 2, 3])"
            ]
          },
          "metadata": {
            "tags": []
          },
          "execution_count": 12
        }
      ]
    },
    {
      "cell_type": "code",
      "metadata": {
        "id": "GygyZuGoNsgA",
        "colab_type": "code",
        "colab": {},
        "outputId": "75f2dc0d-0553-48fa-e32e-b76881ea80aa"
      },
      "source": [
        "simple_array = np.array((1, 2, 3))\n",
        "simple_array, simple_array.dtype"
      ],
      "execution_count": 0,
      "outputs": [
        {
          "output_type": "execute_result",
          "data": {
            "text/plain": [
              "(array([1, 2, 3]), dtype('int64'))"
            ]
          },
          "metadata": {
            "tags": []
          },
          "execution_count": 13
        }
      ]
    },
    {
      "cell_type": "code",
      "metadata": {
        "id": "8DFp7DcfNsgG",
        "colab_type": "code",
        "colab": {},
        "outputId": "a56771a6-f850-424c-e5ae-7d1c432162c7"
      },
      "source": [
        "# Create an array of ones\n",
        "ones = np.ones((10, 2))\n",
        "ones"
      ],
      "execution_count": 0,
      "outputs": [
        {
          "output_type": "execute_result",
          "data": {
            "text/plain": [
              "array([[1., 1.],\n",
              "       [1., 1.],\n",
              "       [1., 1.],\n",
              "       [1., 1.],\n",
              "       [1., 1.],\n",
              "       [1., 1.],\n",
              "       [1., 1.],\n",
              "       [1., 1.],\n",
              "       [1., 1.],\n",
              "       [1., 1.]])"
            ]
          },
          "metadata": {
            "tags": []
          },
          "execution_count": 14
        }
      ]
    },
    {
      "cell_type": "code",
      "metadata": {
        "id": "GyOEhBxBNsgM",
        "colab_type": "code",
        "colab": {},
        "outputId": "b2a2ed4b-6a55-4912-f643-b9a7472c50f3"
      },
      "source": [
        "# The default datatype is 'float64'\n",
        "ones.dtype"
      ],
      "execution_count": 0,
      "outputs": [
        {
          "output_type": "execute_result",
          "data": {
            "text/plain": [
              "dtype('float64')"
            ]
          },
          "metadata": {
            "tags": []
          },
          "execution_count": 15
        }
      ]
    },
    {
      "cell_type": "code",
      "metadata": {
        "id": "7EAU4U4lNsgR",
        "colab_type": "code",
        "colab": {},
        "outputId": "0e723283-5606-43f8-bf1a-100a45cd620c"
      },
      "source": [
        "# You can change the datatype with .astype()\n",
        "ones.astype(int)"
      ],
      "execution_count": 0,
      "outputs": [
        {
          "output_type": "execute_result",
          "data": {
            "text/plain": [
              "array([[1, 1],\n",
              "       [1, 1],\n",
              "       [1, 1],\n",
              "       [1, 1],\n",
              "       [1, 1],\n",
              "       [1, 1],\n",
              "       [1, 1],\n",
              "       [1, 1],\n",
              "       [1, 1],\n",
              "       [1, 1]])"
            ]
          },
          "metadata": {
            "tags": []
          },
          "execution_count": 16
        }
      ]
    },
    {
      "cell_type": "code",
      "metadata": {
        "id": "Y5GqJzahNsgW",
        "colab_type": "code",
        "colab": {},
        "outputId": "4a19bd76-40e7-4fa5-d15d-e69cb94ecbd1"
      },
      "source": [
        "# Create an array of zeros\n",
        "zeros = np.zeros((5, 3, 3))\n",
        "zeros"
      ],
      "execution_count": 0,
      "outputs": [
        {
          "output_type": "execute_result",
          "data": {
            "text/plain": [
              "array([[[0., 0., 0.],\n",
              "        [0., 0., 0.],\n",
              "        [0., 0., 0.]],\n",
              "\n",
              "       [[0., 0., 0.],\n",
              "        [0., 0., 0.],\n",
              "        [0., 0., 0.]],\n",
              "\n",
              "       [[0., 0., 0.],\n",
              "        [0., 0., 0.],\n",
              "        [0., 0., 0.]],\n",
              "\n",
              "       [[0., 0., 0.],\n",
              "        [0., 0., 0.],\n",
              "        [0., 0., 0.]],\n",
              "\n",
              "       [[0., 0., 0.],\n",
              "        [0., 0., 0.],\n",
              "        [0., 0., 0.]]])"
            ]
          },
          "metadata": {
            "tags": []
          },
          "execution_count": 17
        }
      ]
    },
    {
      "cell_type": "code",
      "metadata": {
        "id": "Ybxzz0RHNsgd",
        "colab_type": "code",
        "colab": {},
        "outputId": "9d2faf14-2161-43a4-8183-9e3330bbe9f9"
      },
      "source": [
        "zeros.dtype"
      ],
      "execution_count": 0,
      "outputs": [
        {
          "output_type": "execute_result",
          "data": {
            "text/plain": [
              "dtype('float64')"
            ]
          },
          "metadata": {
            "tags": []
          },
          "execution_count": 18
        }
      ]
    },
    {
      "cell_type": "code",
      "metadata": {
        "id": "2c_2G4TrNsgi",
        "colab_type": "code",
        "colab": {},
        "outputId": "389f77f9-c213-49a9-9b86-7b0f713b70d6"
      },
      "source": [
        "# Create an array within a range of values\n",
        "range_array = np.arange(0, 10, 2)\n",
        "range_array"
      ],
      "execution_count": 0,
      "outputs": [
        {
          "output_type": "execute_result",
          "data": {
            "text/plain": [
              "array([0, 2, 4, 6, 8])"
            ]
          },
          "metadata": {
            "tags": []
          },
          "execution_count": 19
        }
      ]
    },
    {
      "cell_type": "code",
      "metadata": {
        "id": "oFsKKHs7Nsgo",
        "colab_type": "code",
        "colab": {},
        "outputId": "59b9d70a-94dc-4857-bf81-7853a715e6b0"
      },
      "source": [
        "# Random array\n",
        "random_array = np.random.randint(10, size=(5, 3))\n",
        "random_array"
      ],
      "execution_count": 0,
      "outputs": [
        {
          "output_type": "execute_result",
          "data": {
            "text/plain": [
              "array([[3, 2, 4],\n",
              "       [0, 9, 0],\n",
              "       [6, 7, 5],\n",
              "       [0, 1, 9],\n",
              "       [5, 3, 1]])"
            ]
          },
          "metadata": {
            "tags": []
          },
          "execution_count": 20
        }
      ]
    },
    {
      "cell_type": "code",
      "metadata": {
        "id": "vaZiz6FcNsgt",
        "colab_type": "code",
        "colab": {},
        "outputId": "7597f831-8d9a-4752-90d9-a7022cb42c09"
      },
      "source": [
        "# Random array of floats (between 0 & 1)\n",
        "np.random.random((5, 3))"
      ],
      "execution_count": 0,
      "outputs": [
        {
          "output_type": "execute_result",
          "data": {
            "text/plain": [
              "array([[0.20153841, 0.37582038, 0.60296171],\n",
              "       [0.78922978, 0.61651979, 0.39181855],\n",
              "       [0.21325988, 0.53159683, 0.97521884],\n",
              "       [0.12675152, 0.34538155, 0.60466876],\n",
              "       [0.66714451, 0.92307148, 0.85628976]])"
            ]
          },
          "metadata": {
            "tags": []
          },
          "execution_count": 21
        }
      ]
    },
    {
      "cell_type": "code",
      "metadata": {
        "id": "bEiz9lGbNsgy",
        "colab_type": "code",
        "colab": {},
        "outputId": "954b50e8-24bc-4811-d99e-9efb881d0444"
      },
      "source": [
        "np.random.random((5, 3))"
      ],
      "execution_count": 0,
      "outputs": [
        {
          "output_type": "execute_result",
          "data": {
            "text/plain": [
              "array([[0.41006771, 0.25834425, 0.75566325],\n",
              "       [0.48997703, 0.23325182, 0.47949583],\n",
              "       [0.00629117, 0.98519241, 0.25080785],\n",
              "       [0.17224824, 0.47306183, 0.30073575],\n",
              "       [0.54365477, 0.05714738, 0.43913006]])"
            ]
          },
          "metadata": {
            "tags": []
          },
          "execution_count": 22
        }
      ]
    },
    {
      "cell_type": "code",
      "metadata": {
        "id": "P0Hv4aNuNsg5",
        "colab_type": "code",
        "colab": {},
        "outputId": "4776e430-3ead-41f1-f5ff-aebbab1d1047"
      },
      "source": [
        "# Random 5x3 array of floats (between 0 & 1), similar to above\n",
        "np.random.rand(5, 3)"
      ],
      "execution_count": 0,
      "outputs": [
        {
          "output_type": "execute_result",
          "data": {
            "text/plain": [
              "array([[0.66962815, 0.70759503, 0.81030571],\n",
              "       [0.45215695, 0.00173544, 0.71588354],\n",
              "       [0.30440026, 0.97664503, 0.07787752],\n",
              "       [0.49839944, 0.2900812 , 0.83955077],\n",
              "       [0.06752272, 0.73464427, 0.0827841 ]])"
            ]
          },
          "metadata": {
            "tags": []
          },
          "execution_count": 23
        }
      ]
    },
    {
      "cell_type": "code",
      "metadata": {
        "id": "fAKglz3mNshB",
        "colab_type": "code",
        "colab": {},
        "outputId": "b603fed1-44e5-4538-fbf0-03e9dc1808f5"
      },
      "source": [
        "np.random.rand(5, 3)"
      ],
      "execution_count": 0,
      "outputs": [
        {
          "output_type": "execute_result",
          "data": {
            "text/plain": [
              "array([[0.98809371, 0.50318032, 0.73969971],\n",
              "       [0.20350304, 0.15134646, 0.46323102],\n",
              "       [0.86984225, 0.13964899, 0.01276344],\n",
              "       [0.59930525, 0.83124397, 0.55221531],\n",
              "       [0.35222831, 0.12840147, 0.89773117]])"
            ]
          },
          "metadata": {
            "tags": []
          },
          "execution_count": 24
        }
      ]
    },
    {
      "cell_type": "markdown",
      "metadata": {
        "id": "vN-ByY9XNshK",
        "colab_type": "text"
      },
      "source": [
        "NumPy uses pseudo-random numbers, which means, the numbers look random but aren't really, they're predetermined.\n",
        "\n",
        "For consistency, you might want to keep the random numbers you generate similar throughout experiments.\n",
        "\n",
        "To do this, you can use [`np.random.seed()`](https://docs.scipy.org/doc/numpy-1.15.0/reference/generated/numpy.random.seed.html).\n",
        "\n",
        "What this does is it tells NumPy, \"Hey, I want you to create random numbers but keep them aligned with the seed.\"\n",
        "\n",
        "Let's see it."
      ]
    },
    {
      "cell_type": "code",
      "metadata": {
        "id": "nyRO3BiFNshL",
        "colab_type": "code",
        "colab": {},
        "outputId": "5805266d-e24b-4500-94ee-319ce00975e2"
      },
      "source": [
        "# Set random seed to 0\n",
        "np.random.seed(0)\n",
        "\n",
        "# Make 'random' numbers\n",
        "np.random.randint(10, size=(5, 3))"
      ],
      "execution_count": 0,
      "outputs": [
        {
          "output_type": "execute_result",
          "data": {
            "text/plain": [
              "array([[5, 0, 3],\n",
              "       [3, 7, 9],\n",
              "       [3, 5, 2],\n",
              "       [4, 7, 6],\n",
              "       [8, 8, 1]])"
            ]
          },
          "metadata": {
            "tags": []
          },
          "execution_count": 25
        }
      ]
    },
    {
      "cell_type": "markdown",
      "metadata": {
        "id": "ME5AaedGNshQ",
        "colab_type": "text"
      },
      "source": [
        "With `np.random.seed()` set, every time you run the cell above, the same random numbers will be generated.\n",
        "\n",
        "What if `np.random.seed()` wasn't set?\n",
        "\n",
        "Every time you run the cell below, a new set of numbers will appear."
      ]
    },
    {
      "cell_type": "code",
      "metadata": {
        "id": "AzzYzVsoNshR",
        "colab_type": "code",
        "colab": {},
        "outputId": "3809f00e-e152-4eb1-bc6c-63f947cb58d9"
      },
      "source": [
        "# Make more random numbers\n",
        "np.random.randint(10, size=(5, 3))"
      ],
      "execution_count": 0,
      "outputs": [
        {
          "output_type": "execute_result",
          "data": {
            "text/plain": [
              "array([[6, 7, 7],\n",
              "       [8, 1, 5],\n",
              "       [9, 8, 9],\n",
              "       [4, 3, 0],\n",
              "       [3, 5, 0]])"
            ]
          },
          "metadata": {
            "tags": []
          },
          "execution_count": 26
        }
      ]
    },
    {
      "cell_type": "markdown",
      "metadata": {
        "id": "l9hzLtDkNshW",
        "colab_type": "text"
      },
      "source": [
        "Let's see it in action again, we'll stay consistent and set the random seed to 0."
      ]
    },
    {
      "cell_type": "code",
      "metadata": {
        "id": "VtYTpPCJNshX",
        "colab_type": "code",
        "colab": {},
        "outputId": "9ea4e7c8-613a-448c-9425-e772868e8a23"
      },
      "source": [
        "# Set random seed to same number as above\n",
        "np.random.seed(0)\n",
        "\n",
        "# The same random numbers come out\n",
        "np.random.randint(10, size=(5, 3))"
      ],
      "execution_count": 0,
      "outputs": [
        {
          "output_type": "execute_result",
          "data": {
            "text/plain": [
              "array([[5, 0, 3],\n",
              "       [3, 7, 9],\n",
              "       [3, 5, 2],\n",
              "       [4, 7, 6],\n",
              "       [8, 8, 1]])"
            ]
          },
          "metadata": {
            "tags": []
          },
          "execution_count": 27
        }
      ]
    },
    {
      "cell_type": "markdown",
      "metadata": {
        "id": "9nvFB3WMNshg",
        "colab_type": "text"
      },
      "source": [
        "Because `np.random.seed()` is set to 0, the random numbers are the same as the cell with `np.random.seed()` set to 0 as well.\n",
        "\n",
        "Setting `np.random.seed()` is not 100% necessary but it's helpful to keep numbers the same throughout your experiments.\n",
        "\n",
        "For example, say you wanted to split your data randomly into training and test sets.\n",
        "\n",
        "Every time you randomly split, you might get different rows in each set.\n",
        "\n",
        "If you shared your work with someone else, they'd get different rows in each set too.\n",
        "\n",
        "Setting `np.random.seed()` ensures there's still randomness, it just makes the randomness repeatable. Hence the 'pseudo-random' numbers."
      ]
    },
    {
      "cell_type": "code",
      "metadata": {
        "id": "817pBUS7Nshh",
        "colab_type": "code",
        "colab": {},
        "outputId": "1e02b778-9b87-45e4-e871-7384d41d9427"
      },
      "source": [
        "np.random.seed(0)\n",
        "df = pd.DataFrame(np.random.randint(10, size=(5, 3)))\n",
        "df"
      ],
      "execution_count": 0,
      "outputs": [
        {
          "output_type": "execute_result",
          "data": {
            "text/html": [
              "<div>\n",
              "<style scoped>\n",
              "    .dataframe tbody tr th:only-of-type {\n",
              "        vertical-align: middle;\n",
              "    }\n",
              "\n",
              "    .dataframe tbody tr th {\n",
              "        vertical-align: top;\n",
              "    }\n",
              "\n",
              "    .dataframe thead th {\n",
              "        text-align: right;\n",
              "    }\n",
              "</style>\n",
              "<table border=\"1\" class=\"dataframe\">\n",
              "  <thead>\n",
              "    <tr style=\"text-align: right;\">\n",
              "      <th></th>\n",
              "      <th>0</th>\n",
              "      <th>1</th>\n",
              "      <th>2</th>\n",
              "    </tr>\n",
              "  </thead>\n",
              "  <tbody>\n",
              "    <tr>\n",
              "      <th>0</th>\n",
              "      <td>5</td>\n",
              "      <td>0</td>\n",
              "      <td>3</td>\n",
              "    </tr>\n",
              "    <tr>\n",
              "      <th>1</th>\n",
              "      <td>3</td>\n",
              "      <td>7</td>\n",
              "      <td>9</td>\n",
              "    </tr>\n",
              "    <tr>\n",
              "      <th>2</th>\n",
              "      <td>3</td>\n",
              "      <td>5</td>\n",
              "      <td>2</td>\n",
              "    </tr>\n",
              "    <tr>\n",
              "      <th>3</th>\n",
              "      <td>4</td>\n",
              "      <td>7</td>\n",
              "      <td>6</td>\n",
              "    </tr>\n",
              "    <tr>\n",
              "      <th>4</th>\n",
              "      <td>8</td>\n",
              "      <td>8</td>\n",
              "      <td>1</td>\n",
              "    </tr>\n",
              "  </tbody>\n",
              "</table>\n",
              "</div>"
            ],
            "text/plain": [
              "   0  1  2\n",
              "0  5  0  3\n",
              "1  3  7  9\n",
              "2  3  5  2\n",
              "3  4  7  6\n",
              "4  8  8  1"
            ]
          },
          "metadata": {
            "tags": []
          },
          "execution_count": 28
        }
      ]
    },
    {
      "cell_type": "markdown",
      "metadata": {
        "id": "kDeJwEm3Nshn",
        "colab_type": "text"
      },
      "source": [
        "### What unique values are in the array a3?\n",
        "\n",
        "Now you've seen a few different ways to create arrays, as an exercise, try find out what NumPy function you could use to find the unique values are within the `a3` array.\n",
        "\n",
        "You might want to search some like, \"how to find the unqiue values in a numpy array\"."
      ]
    },
    {
      "cell_type": "code",
      "metadata": {
        "id": "3TMMvvO_Nsho",
        "colab_type": "code",
        "colab": {}
      },
      "source": [
        "# Your code here"
      ],
      "execution_count": 0,
      "outputs": []
    },
    {
      "cell_type": "markdown",
      "metadata": {
        "id": "4I_4Jw_CNshu",
        "colab_type": "text"
      },
      "source": [
        "## 3. Viewing arrays and matrices (indexing)\n",
        "\n",
        "Remember, because arrays and matrices are both `ndarray`'s, they can be viewed in similar ways.\n",
        "\n",
        "Let's check out our 3 arrays again."
      ]
    },
    {
      "cell_type": "code",
      "metadata": {
        "id": "6N2D6gHjNshv",
        "colab_type": "code",
        "colab": {},
        "outputId": "cd4c2703-edaf-4c8f-ac32-aace1c1194b9"
      },
      "source": [
        "a1"
      ],
      "execution_count": 0,
      "outputs": [
        {
          "output_type": "execute_result",
          "data": {
            "text/plain": [
              "array([1, 2, 3])"
            ]
          },
          "metadata": {
            "tags": []
          },
          "execution_count": 30
        }
      ]
    },
    {
      "cell_type": "code",
      "metadata": {
        "id": "odGrUbORNsh1",
        "colab_type": "code",
        "colab": {},
        "outputId": "4118fee3-0411-498b-defa-95361f64bd62"
      },
      "source": [
        "a2"
      ],
      "execution_count": 0,
      "outputs": [
        {
          "output_type": "execute_result",
          "data": {
            "text/plain": [
              "array([[1. , 2. , 3.3],\n",
              "       [4. , 5. , 6.5]])"
            ]
          },
          "metadata": {
            "tags": []
          },
          "execution_count": 31
        }
      ]
    },
    {
      "cell_type": "code",
      "metadata": {
        "id": "URTvizyyNsh6",
        "colab_type": "code",
        "colab": {},
        "outputId": "67dec9e7-579d-4978-aad5-2b3b068e0e16"
      },
      "source": [
        "a3"
      ],
      "execution_count": 0,
      "outputs": [
        {
          "output_type": "execute_result",
          "data": {
            "text/plain": [
              "array([[[ 1,  2,  3],\n",
              "        [ 4,  5,  6],\n",
              "        [ 7,  8,  9]],\n",
              "\n",
              "       [[10, 11, 12],\n",
              "        [13, 14, 15],\n",
              "        [16, 17, 18]]])"
            ]
          },
          "metadata": {
            "tags": []
          },
          "execution_count": 32
        }
      ]
    },
    {
      "cell_type": "markdown",
      "metadata": {
        "id": "0ZIJld3CNsiA",
        "colab_type": "text"
      },
      "source": [
        "Array shapes are always listed in the format `(row, column, n, n, n...)` where `n` is optional extra dimensions."
      ]
    },
    {
      "cell_type": "code",
      "metadata": {
        "id": "gcipMSPiNsiB",
        "colab_type": "code",
        "colab": {},
        "outputId": "d6ab82bf-395d-4d1a-d44f-015643cbde8b"
      },
      "source": [
        "a1[0]"
      ],
      "execution_count": 0,
      "outputs": [
        {
          "output_type": "execute_result",
          "data": {
            "text/plain": [
              "1"
            ]
          },
          "metadata": {
            "tags": []
          },
          "execution_count": 33
        }
      ]
    },
    {
      "cell_type": "code",
      "metadata": {
        "id": "MHIvGIe8NsiF",
        "colab_type": "code",
        "colab": {},
        "outputId": "a8c09f58-2d11-4955-bb93-4b3a6cc20d87"
      },
      "source": [
        "a2[0]"
      ],
      "execution_count": 0,
      "outputs": [
        {
          "output_type": "execute_result",
          "data": {
            "text/plain": [
              "array([1. , 2. , 3.3])"
            ]
          },
          "metadata": {
            "tags": []
          },
          "execution_count": 34
        }
      ]
    },
    {
      "cell_type": "code",
      "metadata": {
        "id": "_ih5kMc5NsiL",
        "colab_type": "code",
        "colab": {},
        "outputId": "8add46a4-1a56-410d-b8c5-ecd1817f5856"
      },
      "source": [
        "a3[0]"
      ],
      "execution_count": 0,
      "outputs": [
        {
          "output_type": "execute_result",
          "data": {
            "text/plain": [
              "array([[1, 2, 3],\n",
              "       [4, 5, 6],\n",
              "       [7, 8, 9]])"
            ]
          },
          "metadata": {
            "tags": []
          },
          "execution_count": 35
        }
      ]
    },
    {
      "cell_type": "code",
      "metadata": {
        "id": "Xr4m79lLNsiR",
        "colab_type": "code",
        "colab": {},
        "outputId": "05c64cc6-d26f-4c5a-d578-9957fc0d9040"
      },
      "source": [
        "# Get 2nd row (index 1) of a2\n",
        "a2[1]"
      ],
      "execution_count": 0,
      "outputs": [
        {
          "output_type": "execute_result",
          "data": {
            "text/plain": [
              "array([4. , 5. , 6.5])"
            ]
          },
          "metadata": {
            "tags": []
          },
          "execution_count": 36
        }
      ]
    },
    {
      "cell_type": "code",
      "metadata": {
        "id": "WIUKfJjcNsiW",
        "colab_type": "code",
        "colab": {},
        "outputId": "23d05cf6-dbd1-4429-b0b3-ea0ac91a5464"
      },
      "source": [
        "# Get the first 2 values of the first 2 rows of both arrays\n",
        "a3[:2, :2, :2]"
      ],
      "execution_count": 0,
      "outputs": [
        {
          "output_type": "execute_result",
          "data": {
            "text/plain": [
              "array([[[ 1,  2],\n",
              "        [ 4,  5]],\n",
              "\n",
              "       [[10, 11],\n",
              "        [13, 14]]])"
            ]
          },
          "metadata": {
            "tags": []
          },
          "execution_count": 37
        }
      ]
    },
    {
      "cell_type": "markdown",
      "metadata": {
        "id": "JcXVvIlKNsib",
        "colab_type": "text"
      },
      "source": [
        "This takes a bit of practice, especially when the dimensions get higher. Usually, it takes me a little trial and error of trying to get certain values, viewing the output in the notebook and trying again.\n",
        "\n",
        "NumPy arrays get printed from outside to inside. This means the number at the end of the shape comes first, and the number at the start of the shape comes last."
      ]
    },
    {
      "cell_type": "code",
      "metadata": {
        "id": "-WT90YxGNsic",
        "colab_type": "code",
        "colab": {},
        "outputId": "9e7fecc7-d1d6-487c-a6b2-047820c7a460"
      },
      "source": [
        "a4 = np.random.randint(10, size=(2, 3, 4, 5))\n",
        "a4"
      ],
      "execution_count": 0,
      "outputs": [
        {
          "output_type": "execute_result",
          "data": {
            "text/plain": [
              "array([[[[6, 7, 7, 8, 1],\n",
              "         [5, 9, 8, 9, 4],\n",
              "         [3, 0, 3, 5, 0],\n",
              "         [2, 3, 8, 1, 3]],\n",
              "\n",
              "        [[3, 3, 7, 0, 1],\n",
              "         [9, 9, 0, 4, 7],\n",
              "         [3, 2, 7, 2, 0],\n",
              "         [0, 4, 5, 5, 6]],\n",
              "\n",
              "        [[8, 4, 1, 4, 9],\n",
              "         [8, 1, 1, 7, 9],\n",
              "         [9, 3, 6, 7, 2],\n",
              "         [0, 3, 5, 9, 4]]],\n",
              "\n",
              "\n",
              "       [[[4, 6, 4, 4, 3],\n",
              "         [4, 4, 8, 4, 3],\n",
              "         [7, 5, 5, 0, 1],\n",
              "         [5, 9, 3, 0, 5]],\n",
              "\n",
              "        [[0, 1, 2, 4, 2],\n",
              "         [0, 3, 2, 0, 7],\n",
              "         [5, 9, 0, 2, 7],\n",
              "         [2, 9, 2, 3, 3]],\n",
              "\n",
              "        [[2, 3, 4, 1, 2],\n",
              "         [9, 1, 4, 6, 8],\n",
              "         [2, 3, 0, 0, 6],\n",
              "         [0, 6, 3, 3, 8]]]])"
            ]
          },
          "metadata": {
            "tags": []
          },
          "execution_count": 38
        }
      ]
    },
    {
      "cell_type": "code",
      "metadata": {
        "id": "OGl9DVm4Nsih",
        "colab_type": "code",
        "colab": {},
        "outputId": "0748f25b-b071-4492-8a7b-62ac9ff09d08"
      },
      "source": [
        "a4.shape"
      ],
      "execution_count": 0,
      "outputs": [
        {
          "output_type": "execute_result",
          "data": {
            "text/plain": [
              "(2, 3, 4, 5)"
            ]
          },
          "metadata": {
            "tags": []
          },
          "execution_count": 39
        }
      ]
    },
    {
      "cell_type": "code",
      "metadata": {
        "id": "6vScAVPFNsio",
        "colab_type": "code",
        "colab": {},
        "outputId": "123f956e-4fe1-451e-da9b-eb58c1ad8727"
      },
      "source": [
        "# Get only the first 4 numbers of each single vector\n",
        "a4[:, :, :, :4]"
      ],
      "execution_count": 0,
      "outputs": [
        {
          "output_type": "execute_result",
          "data": {
            "text/plain": [
              "array([[[[6, 7, 7, 8],\n",
              "         [5, 9, 8, 9],\n",
              "         [3, 0, 3, 5],\n",
              "         [2, 3, 8, 1]],\n",
              "\n",
              "        [[3, 3, 7, 0],\n",
              "         [9, 9, 0, 4],\n",
              "         [3, 2, 7, 2],\n",
              "         [0, 4, 5, 5]],\n",
              "\n",
              "        [[8, 4, 1, 4],\n",
              "         [8, 1, 1, 7],\n",
              "         [9, 3, 6, 7],\n",
              "         [0, 3, 5, 9]]],\n",
              "\n",
              "\n",
              "       [[[4, 6, 4, 4],\n",
              "         [4, 4, 8, 4],\n",
              "         [7, 5, 5, 0],\n",
              "         [5, 9, 3, 0]],\n",
              "\n",
              "        [[0, 1, 2, 4],\n",
              "         [0, 3, 2, 0],\n",
              "         [5, 9, 0, 2],\n",
              "         [2, 9, 2, 3]],\n",
              "\n",
              "        [[2, 3, 4, 1],\n",
              "         [9, 1, 4, 6],\n",
              "         [2, 3, 0, 0],\n",
              "         [0, 6, 3, 3]]]])"
            ]
          },
          "metadata": {
            "tags": []
          },
          "execution_count": 40
        }
      ]
    },
    {
      "cell_type": "markdown",
      "metadata": {
        "id": "Bqds-fzHNsit",
        "colab_type": "text"
      },
      "source": [
        "`a4`'s shape is (2, 3, 4, 5), this means it gets displayed like so:\n",
        "* Inner most array = size 5\n",
        "* Next array = size 4\n",
        "* Next array = size 3\n",
        "* Outer most array = size 2"
      ]
    },
    {
      "cell_type": "markdown",
      "metadata": {
        "id": "0JNW2f3tNsiv",
        "colab_type": "text"
      },
      "source": [
        "## 4. Manipulating and comparying arrays\n",
        "* Arithmetic\n",
        "    * `+`, `-`, `*`, `/`, `//`, `**`, `%`\n",
        "    * `np.exp()`\n",
        "    * `np.log()`\n",
        "    * [Dot product](https://www.mathsisfun.com/algebra/matrix-multiplying.html) - `np.dot()`\n",
        "    * Broadcasting\n",
        "* Aggregation\n",
        "    * `np.sum()` - faster than `.sum()`, make demo, np is really fast\n",
        "    * `np.mean()`\n",
        "    * `np.std()`\n",
        "    * `np.var()`\n",
        "    * `np.min()`\n",
        "    * `np.max()`\n",
        "    * `np.argmin()` - find index of minimum value\n",
        "    * `np.argmax()` - find index of maximum value\n",
        "    * These work on all `ndarray`'s\n",
        "        * `a4.min(axis=0)` -- you can use axis as well\n",
        "* Reshaping\n",
        "    * `np.reshape()`\n",
        "* Transposing\n",
        "    * `a3.T` \n",
        "* Comparison operators\n",
        "    * `>`\n",
        "    * `<`\n",
        "    * `<=`\n",
        "    * `>=`\n",
        "    * `x != 3`\n",
        "    * `x == 3`\n",
        "    * `np.sum(x > 3)`"
      ]
    },
    {
      "cell_type": "markdown",
      "metadata": {
        "id": "3PkVYqzUNsix",
        "colab_type": "text"
      },
      "source": [
        "### Arithmetic"
      ]
    },
    {
      "cell_type": "code",
      "metadata": {
        "id": "kekkVjTtNsiy",
        "colab_type": "code",
        "colab": {},
        "outputId": "39d53f76-0990-4908-f2db-9a894a7a9227"
      },
      "source": [
        "a1"
      ],
      "execution_count": 0,
      "outputs": [
        {
          "output_type": "execute_result",
          "data": {
            "text/plain": [
              "array([1, 2, 3])"
            ]
          },
          "metadata": {
            "tags": []
          },
          "execution_count": 41
        }
      ]
    },
    {
      "cell_type": "code",
      "metadata": {
        "id": "JX5ub4neNsi1",
        "colab_type": "code",
        "colab": {},
        "outputId": "2a2670c2-8671-4b29-d7b8-b3964cebac11"
      },
      "source": [
        "ones = np.ones(3)\n",
        "ones"
      ],
      "execution_count": 0,
      "outputs": [
        {
          "output_type": "execute_result",
          "data": {
            "text/plain": [
              "array([1., 1., 1.])"
            ]
          },
          "metadata": {
            "tags": []
          },
          "execution_count": 42
        }
      ]
    },
    {
      "cell_type": "code",
      "metadata": {
        "id": "p1OvCuVtNsi6",
        "colab_type": "code",
        "colab": {},
        "outputId": "2eeabc82-53f6-4a3d-b58d-6fca716cc1f3"
      },
      "source": [
        "# Add two arrays\n",
        "a1 + ones"
      ],
      "execution_count": 0,
      "outputs": [
        {
          "output_type": "execute_result",
          "data": {
            "text/plain": [
              "array([2., 3., 4.])"
            ]
          },
          "metadata": {
            "tags": []
          },
          "execution_count": 43
        }
      ]
    },
    {
      "cell_type": "code",
      "metadata": {
        "id": "86W89MObNsjA",
        "colab_type": "code",
        "colab": {},
        "outputId": "0b12380e-a4d4-44de-abd2-430c1659dc2c"
      },
      "source": [
        "# Subtract two arrays\n",
        "a1 - ones"
      ],
      "execution_count": 0,
      "outputs": [
        {
          "output_type": "execute_result",
          "data": {
            "text/plain": [
              "array([0., 1., 2.])"
            ]
          },
          "metadata": {
            "tags": []
          },
          "execution_count": 44
        }
      ]
    },
    {
      "cell_type": "code",
      "metadata": {
        "id": "wDNc82jkNsjE",
        "colab_type": "code",
        "colab": {},
        "outputId": "59e90d22-1a9a-41d1-9704-01e59475f72f"
      },
      "source": [
        "# Multiply two arrays\n",
        "a1 * ones"
      ],
      "execution_count": 0,
      "outputs": [
        {
          "output_type": "execute_result",
          "data": {
            "text/plain": [
              "array([1., 2., 3.])"
            ]
          },
          "metadata": {
            "tags": []
          },
          "execution_count": 45
        }
      ]
    },
    {
      "cell_type": "code",
      "metadata": {
        "id": "D4FD_3QLNsjI",
        "colab_type": "code",
        "colab": {},
        "outputId": "ba90054a-e102-45f2-b4da-7c23dc5aecaa"
      },
      "source": [
        "# Multiply two arrays\n",
        "a1 * a2"
      ],
      "execution_count": 0,
      "outputs": [
        {
          "output_type": "execute_result",
          "data": {
            "text/plain": [
              "array([[ 1. ,  4. ,  9.9],\n",
              "       [ 4. , 10. , 19.5]])"
            ]
          },
          "metadata": {
            "tags": []
          },
          "execution_count": 46
        }
      ]
    },
    {
      "cell_type": "code",
      "metadata": {
        "id": "vFFn_pdUNsjM",
        "colab_type": "code",
        "colab": {},
        "outputId": "3a4d03ba-45d3-4c04-e850-6fba1966f42d"
      },
      "source": [
        "a1.shape, a2.shape"
      ],
      "execution_count": 0,
      "outputs": [
        {
          "output_type": "execute_result",
          "data": {
            "text/plain": [
              "((3,), (2, 3))"
            ]
          },
          "metadata": {
            "tags": []
          },
          "execution_count": 47
        }
      ]
    },
    {
      "cell_type": "code",
      "metadata": {
        "id": "p5mVTxvUNsjP",
        "colab_type": "code",
        "colab": {},
        "outputId": "eb00294f-b3b3-4893-df73-89cb23e2dbf8"
      },
      "source": [
        "a2 * a3"
      ],
      "execution_count": 0,
      "outputs": [
        {
          "output_type": "error",
          "ename": "ValueError",
          "evalue": "operands could not be broadcast together with shapes (2,3) (2,3,3) ",
          "traceback": [
            "\u001b[0;31m---------------------------------------------------------------------------\u001b[0m",
            "\u001b[0;31mValueError\u001b[0m                                Traceback (most recent call last)",
            "\u001b[0;32m<ipython-input-48-37d8620f1b2c>\u001b[0m in \u001b[0;36m<module>\u001b[0;34m\u001b[0m\n\u001b[0;32m----> 1\u001b[0;31m \u001b[0ma2\u001b[0m \u001b[0;34m*\u001b[0m \u001b[0ma3\u001b[0m\u001b[0;34m\u001b[0m\u001b[0;34m\u001b[0m\u001b[0m\n\u001b[0m",
            "\u001b[0;31mValueError\u001b[0m: operands could not be broadcast together with shapes (2,3) (2,3,3) "
          ]
        }
      ]
    },
    {
      "cell_type": "code",
      "metadata": {
        "id": "l5UrNJepNsjU",
        "colab_type": "code",
        "colab": {}
      },
      "source": [
        "a3"
      ],
      "execution_count": 0,
      "outputs": []
    },
    {
      "cell_type": "markdown",
      "metadata": {
        "id": "5QKvhbBCNsjd",
        "colab_type": "text"
      },
      "source": [
        "### Broadcasting\n",
        "\n",
        "- What is broadcasting?\n",
        "    - Broadcasting is a feature of NumPy which performs an operation across multiple dimensions of data without replicating the data. This saves time and space. For example, if you have a 3x3 array (A) and want to add a 1x3 array (B), NumPy will add the row of (B) to every row of (A).\n",
        "\n",
        "- Rules of Broadcasting\n",
        "    1. If the two arrays differ in their number of dimensions, the shape of the one with fewer dimensions is padded with ones on its leading (left) side.\n",
        "    2. If the shape of the two arrays does not match in any dimension, the array with shape equal to 1 in that dimension is stretched to match the other shape.\n",
        "    3. If in any dimension the sizes disagree and neither is equal to 1, an error is raised.\n",
        "    \n",
        "    \n",
        "**The broadcasting rule:**\n",
        "In order to broadcast, the size of the trailing axes for both arrays in an operation must be either the same size or one of them must be one."
      ]
    },
    {
      "cell_type": "code",
      "metadata": {
        "id": "ol5ziUFQNsjd",
        "colab_type": "code",
        "colab": {}
      },
      "source": [
        "a1"
      ],
      "execution_count": 0,
      "outputs": []
    },
    {
      "cell_type": "code",
      "metadata": {
        "id": "FUwQSoLZNsjh",
        "colab_type": "code",
        "colab": {}
      },
      "source": [
        "a1.shape"
      ],
      "execution_count": 0,
      "outputs": []
    },
    {
      "cell_type": "code",
      "metadata": {
        "id": "OAuXxneQNsjn",
        "colab_type": "code",
        "colab": {}
      },
      "source": [
        "a2.shape"
      ],
      "execution_count": 0,
      "outputs": []
    },
    {
      "cell_type": "code",
      "metadata": {
        "id": "lV8RWvuPNsjr",
        "colab_type": "code",
        "colab": {}
      },
      "source": [
        "a2"
      ],
      "execution_count": 0,
      "outputs": []
    },
    {
      "cell_type": "code",
      "metadata": {
        "id": "isR93ApmNsjy",
        "colab_type": "code",
        "colab": {}
      },
      "source": [
        "a1 + a2"
      ],
      "execution_count": 0,
      "outputs": []
    },
    {
      "cell_type": "code",
      "metadata": {
        "id": "sQvvXtikNsj2",
        "colab_type": "code",
        "colab": {}
      },
      "source": [
        "a2 + 2"
      ],
      "execution_count": 0,
      "outputs": []
    },
    {
      "cell_type": "code",
      "metadata": {
        "id": "E-Mw-u3wNsj6",
        "colab_type": "code",
        "colab": {}
      },
      "source": [
        "# Raises an error because there's a shape mismatch\n",
        "a2 + a3"
      ],
      "execution_count": 0,
      "outputs": []
    },
    {
      "cell_type": "code",
      "metadata": {
        "id": "G6EuqWwoNsj_",
        "colab_type": "code",
        "colab": {}
      },
      "source": [
        "# Divide two arrays\n",
        "a1 / ones"
      ],
      "execution_count": 0,
      "outputs": []
    },
    {
      "cell_type": "code",
      "metadata": {
        "id": "Oe_AbyLkNskD",
        "colab_type": "code",
        "colab": {}
      },
      "source": [
        "# Divide using floor division\n",
        "a2 // a1"
      ],
      "execution_count": 0,
      "outputs": []
    },
    {
      "cell_type": "code",
      "metadata": {
        "id": "aG_sfMDxNskG",
        "colab_type": "code",
        "colab": {}
      },
      "source": [
        "# Take an array to a power\n",
        "a1 ** 2"
      ],
      "execution_count": 0,
      "outputs": []
    },
    {
      "cell_type": "code",
      "metadata": {
        "id": "gAWL46umNskK",
        "colab_type": "code",
        "colab": {}
      },
      "source": [
        "# You can also use np.square()\n",
        "np.square(a1)"
      ],
      "execution_count": 0,
      "outputs": []
    },
    {
      "cell_type": "code",
      "metadata": {
        "id": "ZvFukAz_NskO",
        "colab_type": "code",
        "colab": {}
      },
      "source": [
        "# Modulus divide (what's the remainder)\n",
        "a1 % 2"
      ],
      "execution_count": 0,
      "outputs": []
    },
    {
      "cell_type": "markdown",
      "metadata": {
        "id": "bzdNG7cyNskQ",
        "colab_type": "text"
      },
      "source": [
        "You can also find the log or exponential of an array using `np.log()` and `np.exp()`."
      ]
    },
    {
      "cell_type": "code",
      "metadata": {
        "id": "WeEhTRJgNskS",
        "colab_type": "code",
        "colab": {}
      },
      "source": [
        "# Find the log of an array\n",
        "np.log(a1)"
      ],
      "execution_count": 0,
      "outputs": []
    },
    {
      "cell_type": "code",
      "metadata": {
        "id": "2e6uh2JiNskU",
        "colab_type": "code",
        "colab": {}
      },
      "source": [
        "# Find the exponential of an array\n",
        "np.exp(a1)"
      ],
      "execution_count": 0,
      "outputs": []
    },
    {
      "cell_type": "markdown",
      "metadata": {
        "id": "qdeep5ymNskX",
        "colab_type": "text"
      },
      "source": [
        "### Aggregation\n",
        "\n",
        "Aggregation - bringing things together, doing a similar thing on a number of things."
      ]
    },
    {
      "cell_type": "code",
      "metadata": {
        "id": "oj37qMKUNskX",
        "colab_type": "code",
        "colab": {}
      },
      "source": [
        "sum(a1)"
      ],
      "execution_count": 0,
      "outputs": []
    },
    {
      "cell_type": "code",
      "metadata": {
        "id": "VU7wdR2iNska",
        "colab_type": "code",
        "colab": {}
      },
      "source": [
        "np.sum(a1)"
      ],
      "execution_count": 0,
      "outputs": []
    },
    {
      "cell_type": "markdown",
      "metadata": {
        "id": "dH77xwFjNskd",
        "colab_type": "text"
      },
      "source": [
        "Use NumPy's `np.sum()` on NumPy arrays and Python's `sum()` on Python lists."
      ]
    },
    {
      "cell_type": "code",
      "metadata": {
        "id": "uuRaQzBINskd",
        "colab_type": "code",
        "colab": {}
      },
      "source": [
        "massive_array = np.random.random(100000)\n",
        "massive_array.size"
      ],
      "execution_count": 0,
      "outputs": []
    },
    {
      "cell_type": "code",
      "metadata": {
        "id": "VH0TPxZENskf",
        "colab_type": "code",
        "colab": {}
      },
      "source": [
        "%timeit sum(massive_array) # Python sum()\n",
        "%timeit np.sum(massive_array) # NumPy np.sum()"
      ],
      "execution_count": 0,
      "outputs": []
    },
    {
      "cell_type": "code",
      "metadata": {
        "id": "WHO_aFP_Nskm",
        "colab_type": "code",
        "colab": {}
      },
      "source": [
        "import random \n",
        "massive_list = [random.randint(0, 10) for i in range(100000)]\n",
        "len(massive_list)"
      ],
      "execution_count": 0,
      "outputs": []
    },
    {
      "cell_type": "code",
      "metadata": {
        "id": "ARgn0UQANsko",
        "colab_type": "code",
        "colab": {}
      },
      "source": [
        "massive_list[:10]"
      ],
      "execution_count": 0,
      "outputs": []
    },
    {
      "cell_type": "code",
      "metadata": {
        "id": "cy5tU-E_Nskr",
        "colab_type": "code",
        "colab": {}
      },
      "source": [
        "%timeit sum(massive_list)\n",
        "%timeit np.sum(massive_list)"
      ],
      "execution_count": 0,
      "outputs": []
    },
    {
      "cell_type": "code",
      "metadata": {
        "id": "0AeIddtoNsku",
        "colab_type": "code",
        "colab": {}
      },
      "source": [
        "a2"
      ],
      "execution_count": 0,
      "outputs": []
    },
    {
      "cell_type": "code",
      "metadata": {
        "id": "hBivIOQnNskx",
        "colab_type": "code",
        "colab": {}
      },
      "source": [
        "# Find the mean\n",
        "np.mean(a2)"
      ],
      "execution_count": 0,
      "outputs": []
    },
    {
      "cell_type": "code",
      "metadata": {
        "id": "QJksbqI2Nsk0",
        "colab_type": "code",
        "colab": {}
      },
      "source": [
        "# Find the max\n",
        "np.max(a2)"
      ],
      "execution_count": 0,
      "outputs": []
    },
    {
      "cell_type": "code",
      "metadata": {
        "id": "dg1OXQIONsk4",
        "colab_type": "code",
        "colab": {}
      },
      "source": [
        "# Find the min\n",
        "np.min(a2)"
      ],
      "execution_count": 0,
      "outputs": []
    },
    {
      "cell_type": "code",
      "metadata": {
        "id": "OK-DyTWwNsk7",
        "colab_type": "code",
        "colab": {}
      },
      "source": [
        "# Find the standard deviation\n",
        "np.std(a2)"
      ],
      "execution_count": 0,
      "outputs": []
    },
    {
      "cell_type": "code",
      "metadata": {
        "id": "NItSjJJyNsk-",
        "colab_type": "code",
        "colab": {}
      },
      "source": [
        "# Find the variance\n",
        "np.var(a2)"
      ],
      "execution_count": 0,
      "outputs": []
    },
    {
      "cell_type": "code",
      "metadata": {
        "id": "i-YYmPC8NslC",
        "colab_type": "code",
        "colab": {}
      },
      "source": [
        "# The standard deviation is the square root of the variance\n",
        "np.sqrt(np.var(a2))"
      ],
      "execution_count": 0,
      "outputs": []
    },
    {
      "cell_type": "markdown",
      "metadata": {
        "id": "0L49fgm0NslI",
        "colab_type": "text"
      },
      "source": [
        "**What's mean?**\n",
        "\n",
        "Mean is the same as average. You can find the average of a set of numbers by adding them up and dividing them by how many there are.\n",
        "\n",
        "**What's standard deviation?**\n",
        "\n",
        "[Standard deviation](https://www.mathsisfun.com/data/standard-deviation.html) is a measure of how spread out numbers are.\n",
        "\n",
        "**What's variance?**\n",
        "\n",
        "The [variance](https://www.mathsisfun.com/data/standard-deviation.html) is the averaged squared differences of the mean.\n",
        "\n",
        "To work it out, you:\n",
        "1. Work out the mean\n",
        "2. For each number, subtract the mean and square the result\n",
        "3. Find the average of the squared differences"
      ]
    },
    {
      "cell_type": "code",
      "metadata": {
        "id": "s9Fq2O1jNslI",
        "colab_type": "code",
        "colab": {}
      },
      "source": [
        "# Demo of variance\n",
        "high_var_array = np.array([1, 100, 200, 300, 4000, 5000])\n",
        "low_var_array = np.array([2, 4, 6, 8, 10])\n",
        "\n",
        "np.var(high_var_array), np.var(low_var_array)"
      ],
      "execution_count": 0,
      "outputs": []
    },
    {
      "cell_type": "code",
      "metadata": {
        "id": "vfnuBBUcNslM",
        "colab_type": "code",
        "colab": {}
      },
      "source": [
        "np.std(high_var_array), np.std(low_var_array)"
      ],
      "execution_count": 0,
      "outputs": []
    },
    {
      "cell_type": "code",
      "metadata": {
        "id": "2jv6VaWONslU",
        "colab_type": "code",
        "colab": {}
      },
      "source": [
        "# The standard deviation is the square root of the variance\n",
        "np.sqrt(np.var(high_var_array))"
      ],
      "execution_count": 0,
      "outputs": []
    },
    {
      "cell_type": "code",
      "metadata": {
        "id": "I31OmAWHNslX",
        "colab_type": "code",
        "colab": {}
      },
      "source": [
        "%matplotlib inline\n",
        "import matplotlib.pyplot as plt\n",
        "plt.hist(high_var_array)\n",
        "plt.show()"
      ],
      "execution_count": 0,
      "outputs": []
    },
    {
      "cell_type": "code",
      "metadata": {
        "id": "0PMNZDUoNsla",
        "colab_type": "code",
        "colab": {}
      },
      "source": [
        "plt.hist(low_var_array)\n",
        "plt.show()"
      ],
      "execution_count": 0,
      "outputs": []
    },
    {
      "cell_type": "markdown",
      "metadata": {
        "id": "_dprUNRbNsli",
        "colab_type": "text"
      },
      "source": [
        "### Reshaping"
      ]
    },
    {
      "cell_type": "code",
      "metadata": {
        "id": "pHwy_tLONslj",
        "colab_type": "code",
        "colab": {}
      },
      "source": [
        "a2"
      ],
      "execution_count": 0,
      "outputs": []
    },
    {
      "cell_type": "code",
      "metadata": {
        "id": "QO_YlPjiNslo",
        "colab_type": "code",
        "colab": {}
      },
      "source": [
        "a2.shape"
      ],
      "execution_count": 0,
      "outputs": []
    },
    {
      "cell_type": "code",
      "metadata": {
        "id": "kbk2jSkvNslr",
        "colab_type": "code",
        "colab": {}
      },
      "source": [
        "a2 + a3"
      ],
      "execution_count": 0,
      "outputs": []
    },
    {
      "cell_type": "code",
      "metadata": {
        "id": "aedUttEVNslt",
        "colab_type": "code",
        "colab": {}
      },
      "source": [
        "a2.reshape(2, 3, 1)"
      ],
      "execution_count": 0,
      "outputs": []
    },
    {
      "cell_type": "code",
      "metadata": {
        "id": "BCOSutUsNslx",
        "colab_type": "code",
        "colab": {}
      },
      "source": [
        "a2.reshape(2, 3, 1) + a3"
      ],
      "execution_count": 0,
      "outputs": []
    },
    {
      "cell_type": "markdown",
      "metadata": {
        "id": "96nhclxHNsl0",
        "colab_type": "text"
      },
      "source": [
        "### Transpose"
      ]
    },
    {
      "cell_type": "code",
      "metadata": {
        "id": "MQfyl7-wNsl0",
        "colab_type": "code",
        "colab": {}
      },
      "source": [
        "a2.shape"
      ],
      "execution_count": 0,
      "outputs": []
    },
    {
      "cell_type": "code",
      "metadata": {
        "id": "r3JIdGkpNsl3",
        "colab_type": "code",
        "colab": {}
      },
      "source": [
        "a2.T"
      ],
      "execution_count": 0,
      "outputs": []
    },
    {
      "cell_type": "code",
      "metadata": {
        "id": "WiXKyXjXNsl5",
        "colab_type": "code",
        "colab": {}
      },
      "source": [
        "a2.T.shape"
      ],
      "execution_count": 0,
      "outputs": []
    },
    {
      "cell_type": "code",
      "metadata": {
        "id": "Iz5U63m1Nsl8",
        "colab_type": "code",
        "colab": {}
      },
      "source": [
        "matrix = np.random.random(size=(5,3,3))\n",
        "matrix"
      ],
      "execution_count": 0,
      "outputs": []
    },
    {
      "cell_type": "code",
      "metadata": {
        "id": "BhAhILz4NsmB",
        "colab_type": "code",
        "colab": {}
      },
      "source": [
        "matrix.shape"
      ],
      "execution_count": 0,
      "outputs": []
    },
    {
      "cell_type": "code",
      "metadata": {
        "id": "KGzjxledNsmF",
        "colab_type": "code",
        "colab": {}
      },
      "source": [
        "matrix.T"
      ],
      "execution_count": 0,
      "outputs": []
    },
    {
      "cell_type": "code",
      "metadata": {
        "id": "FjK6WmdJNsmN",
        "colab_type": "code",
        "colab": {}
      },
      "source": [
        "matrix.T.shape"
      ],
      "execution_count": 0,
      "outputs": []
    },
    {
      "cell_type": "markdown",
      "metadata": {
        "id": "6e9nAPtPNsmP",
        "colab_type": "text"
      },
      "source": [
        "### Dot\n",
        "\n",
        "* TODO - create graphic for dot versus element-wise also known as Hadamard product\n",
        "* TODO - why would someone use dot versus element-wise?\n",
        "* A dot product models real world problems well, it's a method of finding patterns between data "
      ]
    },
    {
      "cell_type": "code",
      "metadata": {
        "id": "kvkuO8n3NsmS",
        "colab_type": "code",
        "colab": {}
      },
      "source": [
        "np.random.seed(0)\n",
        "mat1 = np.random.randint(10, size=(3, 3))\n",
        "mat2 = np.random.randint(10, size=(3, 2))\n",
        "\n",
        "mat1.shape, mat2.shape"
      ],
      "execution_count": 0,
      "outputs": []
    },
    {
      "cell_type": "code",
      "metadata": {
        "id": "Rc_HTfBpNsmV",
        "colab_type": "code",
        "colab": {}
      },
      "source": [
        "mat1"
      ],
      "execution_count": 0,
      "outputs": []
    },
    {
      "cell_type": "code",
      "metadata": {
        "id": "eg1fE9RiNsmZ",
        "colab_type": "code",
        "colab": {}
      },
      "source": [
        "mat2"
      ],
      "execution_count": 0,
      "outputs": []
    },
    {
      "cell_type": "code",
      "metadata": {
        "id": "bl1DK7_tNsmc",
        "colab_type": "code",
        "colab": {}
      },
      "source": [
        "np.dot(mat1, mat2)"
      ],
      "execution_count": 0,
      "outputs": []
    },
    {
      "cell_type": "code",
      "metadata": {
        "id": "Bie79vduNsmf",
        "colab_type": "code",
        "colab": {}
      },
      "source": [
        "np.random.seed(0)\n",
        "mat3 = np.random.randint(10, size=(4,3))\n",
        "mat4 = np.random.randint(10, size=(4,3))\n",
        "mat3"
      ],
      "execution_count": 0,
      "outputs": []
    },
    {
      "cell_type": "code",
      "metadata": {
        "id": "yEmoim49Nsmi",
        "colab_type": "code",
        "colab": {}
      },
      "source": [
        "mat4"
      ],
      "execution_count": 0,
      "outputs": []
    },
    {
      "cell_type": "code",
      "metadata": {
        "id": "JU5XtPGkNsml",
        "colab_type": "code",
        "colab": {}
      },
      "source": [
        "np.dot(mat3, mat4)"
      ],
      "execution_count": 0,
      "outputs": []
    },
    {
      "cell_type": "code",
      "metadata": {
        "id": "x73xqW8-Nsmo",
        "colab_type": "code",
        "colab": {}
      },
      "source": [
        "mat3.T.shape"
      ],
      "execution_count": 0,
      "outputs": []
    },
    {
      "cell_type": "code",
      "metadata": {
        "id": "t59Wn5OVNsmr",
        "colab_type": "code",
        "colab": {}
      },
      "source": [
        "# Dot product\n",
        "np.dot(mat3.T, mat4)"
      ],
      "execution_count": 0,
      "outputs": []
    },
    {
      "cell_type": "code",
      "metadata": {
        "id": "3PCfWYkFNsmu",
        "colab_type": "code",
        "colab": {}
      },
      "source": [
        "# Element-wise multiplication, also known as Hadamard product\n",
        "mat3 * mat4"
      ],
      "execution_count": 0,
      "outputs": []
    },
    {
      "cell_type": "markdown",
      "metadata": {
        "id": "0oCGeCh3Nsmx",
        "colab_type": "text"
      },
      "source": [
        "### Dot product practical example, nut butter sales"
      ]
    },
    {
      "cell_type": "code",
      "metadata": {
        "id": "TMRfuD6_Nsmx",
        "colab_type": "code",
        "colab": {}
      },
      "source": [
        "np.random.seed(0)\n",
        "sales_amounts = np.random.randint(20, size=(5, 3))\n",
        "sales_amounts"
      ],
      "execution_count": 0,
      "outputs": []
    },
    {
      "cell_type": "code",
      "metadata": {
        "id": "x_GgVHnNNsm4",
        "colab_type": "code",
        "colab": {}
      },
      "source": [
        "weekly_sales = pd.DataFrame(sales_amounts,\n",
        "                            index=[\"Mon\", \"Tues\", \"Wed\", \"Thurs\", \"Fri\"],\n",
        "                            columns=[\"Almond butter\", \"Peanut butter\", \"Cashew butter\"])\n",
        "weekly_sales"
      ],
      "execution_count": 0,
      "outputs": []
    },
    {
      "cell_type": "code",
      "metadata": {
        "id": "zN7w8dxCNsm7",
        "colab_type": "code",
        "colab": {}
      },
      "source": [
        "prices = np.array([10, 8, 12])\n",
        "prices"
      ],
      "execution_count": 0,
      "outputs": []
    },
    {
      "cell_type": "code",
      "metadata": {
        "id": "xd6PZ2KTNsm9",
        "colab_type": "code",
        "colab": {}
      },
      "source": [
        "butter_prices = pd.DataFrame(prices.reshape(1, 3),\n",
        "                             index=[\"Price\"],\n",
        "                             columns=[\"Almond butter\", \"Peanut butter\", \"Cashew butter\"])\n",
        "butter_prices.shape"
      ],
      "execution_count": 0,
      "outputs": []
    },
    {
      "cell_type": "code",
      "metadata": {
        "id": "pPyHTaU_NsnA",
        "colab_type": "code",
        "colab": {}
      },
      "source": [
        "weekly_sales.shape"
      ],
      "execution_count": 0,
      "outputs": []
    },
    {
      "cell_type": "code",
      "metadata": {
        "id": "UvTSlI9hNsnJ",
        "colab_type": "code",
        "colab": {}
      },
      "source": [
        "# Find the total amount of sales for a whole day\n",
        "total_sales = prices.dot(sales_amounts)\n",
        "total_sales"
      ],
      "execution_count": 0,
      "outputs": []
    },
    {
      "cell_type": "markdown",
      "metadata": {
        "id": "zUXrEDUYNsnM",
        "colab_type": "text"
      },
      "source": [
        "The shapes aren't aligned, we need the middle two numbers to be the same."
      ]
    },
    {
      "cell_type": "code",
      "metadata": {
        "id": "tHtXXxK6NsnN",
        "colab_type": "code",
        "colab": {}
      },
      "source": [
        "prices"
      ],
      "execution_count": 0,
      "outputs": []
    },
    {
      "cell_type": "code",
      "metadata": {
        "id": "X4qXZnAINsnQ",
        "colab_type": "code",
        "colab": {}
      },
      "source": [
        "sales_amounts.T.shape"
      ],
      "execution_count": 0,
      "outputs": []
    },
    {
      "cell_type": "code",
      "metadata": {
        "id": "M40fnCeVNsnT",
        "colab_type": "code",
        "colab": {}
      },
      "source": [
        "# To make the middle numbers the same, we can transpose\n",
        "total_sales = prices.dot(sales_amounts.T)\n",
        "total_sales"
      ],
      "execution_count": 0,
      "outputs": []
    },
    {
      "cell_type": "code",
      "metadata": {
        "id": "G_WYufxpNsnV",
        "colab_type": "code",
        "colab": {}
      },
      "source": [
        "butter_prices.shape, weekly_sales.shape"
      ],
      "execution_count": 0,
      "outputs": []
    },
    {
      "cell_type": "code",
      "metadata": {
        "id": "7SNP7iJwNsnY",
        "colab_type": "code",
        "colab": {}
      },
      "source": [
        "daily_sales = butter_prices.dot(weekly_sales.T)\n",
        "daily_sales"
      ],
      "execution_count": 0,
      "outputs": []
    },
    {
      "cell_type": "code",
      "metadata": {
        "id": "YIjN12HENsna",
        "colab_type": "code",
        "colab": {}
      },
      "source": [
        "# Need to transpose again\n",
        "weekly_sales[\"Total\"] = daily_sales.T\n",
        "weekly_sales"
      ],
      "execution_count": 0,
      "outputs": []
    },
    {
      "cell_type": "markdown",
      "metadata": {
        "id": "fQT6wpCVNsnd",
        "colab_type": "text"
      },
      "source": [
        "### Comparison operators "
      ]
    },
    {
      "cell_type": "code",
      "metadata": {
        "id": "q9Wzz1mrNsnd",
        "colab_type": "code",
        "colab": {}
      },
      "source": [
        "a1"
      ],
      "execution_count": 0,
      "outputs": []
    },
    {
      "cell_type": "code",
      "metadata": {
        "id": "rGWAKzt5Nsni",
        "colab_type": "code",
        "colab": {}
      },
      "source": [
        "a2"
      ],
      "execution_count": 0,
      "outputs": []
    },
    {
      "cell_type": "code",
      "metadata": {
        "id": "umO6jXImNsnk",
        "colab_type": "code",
        "colab": {}
      },
      "source": [
        "a1 > a2"
      ],
      "execution_count": 0,
      "outputs": []
    },
    {
      "cell_type": "code",
      "metadata": {
        "id": "l29q6IJwNsnn",
        "colab_type": "code",
        "colab": {}
      },
      "source": [
        "a1 >= a2"
      ],
      "execution_count": 0,
      "outputs": []
    },
    {
      "cell_type": "code",
      "metadata": {
        "id": "aV65aiq2Nsnq",
        "colab_type": "code",
        "colab": {}
      },
      "source": [
        "a1 > 5"
      ],
      "execution_count": 0,
      "outputs": []
    },
    {
      "cell_type": "code",
      "metadata": {
        "id": "1U8mvp0MNsns",
        "colab_type": "code",
        "colab": {}
      },
      "source": [
        "a1 == a1"
      ],
      "execution_count": 0,
      "outputs": []
    },
    {
      "cell_type": "code",
      "metadata": {
        "id": "l6VSXe_jNsny",
        "colab_type": "code",
        "colab": {}
      },
      "source": [
        "a1 == a2"
      ],
      "execution_count": 0,
      "outputs": []
    },
    {
      "cell_type": "markdown",
      "metadata": {
        "id": "-G9xOqPRNsn0",
        "colab_type": "text"
      },
      "source": [
        "## 5. Sorting arrays\n",
        "\n",
        "* `np.sort()`\n",
        "* `np.argsort()`\n",
        "* `np.argmax()`\n",
        "* `np.argmin()`"
      ]
    },
    {
      "cell_type": "code",
      "metadata": {
        "id": "gCA1Bo25Nsn1",
        "colab_type": "code",
        "colab": {}
      },
      "source": [
        "random_array"
      ],
      "execution_count": 0,
      "outputs": []
    },
    {
      "cell_type": "code",
      "metadata": {
        "id": "xuldAZnsNsn3",
        "colab_type": "code",
        "colab": {}
      },
      "source": [
        "np.sort(random_array)"
      ],
      "execution_count": 0,
      "outputs": []
    },
    {
      "cell_type": "code",
      "metadata": {
        "id": "0JMFKDWFNsn8",
        "colab_type": "code",
        "colab": {}
      },
      "source": [
        "np.argsort(random_array)"
      ],
      "execution_count": 0,
      "outputs": []
    },
    {
      "cell_type": "code",
      "metadata": {
        "id": "SoZOOri6Nsn_",
        "colab_type": "code",
        "colab": {}
      },
      "source": [
        "a1"
      ],
      "execution_count": 0,
      "outputs": []
    },
    {
      "cell_type": "code",
      "metadata": {
        "id": "43NmduZXNsoF",
        "colab_type": "code",
        "colab": {}
      },
      "source": [
        "# Return the indices that would sort an array\n",
        "np.argsort(a1)"
      ],
      "execution_count": 0,
      "outputs": []
    },
    {
      "cell_type": "code",
      "metadata": {
        "id": "2ojGVuWKNsoI",
        "colab_type": "code",
        "colab": {}
      },
      "source": [
        "# No axis\n",
        "np.argmin(a1)"
      ],
      "execution_count": 0,
      "outputs": []
    },
    {
      "cell_type": "code",
      "metadata": {
        "id": "ZCeX0mLENsoL",
        "colab_type": "code",
        "colab": {}
      },
      "source": [
        "random_array"
      ],
      "execution_count": 0,
      "outputs": []
    },
    {
      "cell_type": "code",
      "metadata": {
        "id": "2jDNdGbRNsoO",
        "colab_type": "code",
        "colab": {}
      },
      "source": [
        "# Down the vertical\n",
        "np.argmax(random_array, axis=1)"
      ],
      "execution_count": 0,
      "outputs": []
    },
    {
      "cell_type": "code",
      "metadata": {
        "id": "52DSC_boNsoQ",
        "colab_type": "code",
        "colab": {}
      },
      "source": [
        "# Across the horizontal\n",
        "np.argmin(random_array, axis=0)"
      ],
      "execution_count": 0,
      "outputs": []
    },
    {
      "cell_type": "markdown",
      "metadata": {
        "id": "aHQ8L2WWNsoS",
        "colab_type": "text"
      },
      "source": [
        "## 6. Use case\n",
        "\n",
        "Turning an image of a panda into numbers.\n",
        "\n",
        "<img src=\"https://github.com/ras783/zero-to-mastery-ml/blob/master/images/numpy-panda.png?raw=1\" alt=\"photo of a panda waving\" />"
      ]
    },
    {
      "cell_type": "code",
      "metadata": {
        "id": "Uf5HiJOWNsoS",
        "colab_type": "code",
        "colab": {},
        "outputId": "a8b46fb0-fdb5-46ec-bbff-73fe232e64f3"
      },
      "source": [
        "from matplotlib.image import imread\n",
        "\n",
        "panda = imread('../images/numpy-panda.png')\n",
        "print(type(panda))"
      ],
      "execution_count": 0,
      "outputs": [
        {
          "output_type": "stream",
          "text": [
            "<class 'numpy.ndarray'>\n"
          ],
          "name": "stdout"
        }
      ]
    },
    {
      "cell_type": "code",
      "metadata": {
        "id": "KPegfKfbNsoU",
        "colab_type": "code",
        "colab": {},
        "outputId": "e653abde-5c82-47cf-e61a-8e5ddadd5218"
      },
      "source": [
        "panda.shape"
      ],
      "execution_count": 0,
      "outputs": [
        {
          "output_type": "execute_result",
          "data": {
            "text/plain": [
              "(2330, 3500, 3)"
            ]
          },
          "metadata": {
            "tags": []
          },
          "execution_count": 54
        }
      ]
    },
    {
      "cell_type": "code",
      "metadata": {
        "id": "KE2UPKcmNsoW",
        "colab_type": "code",
        "colab": {},
        "outputId": "3f92ff15-8e70-4616-9f68-0c88fac755cf"
      },
      "source": [
        "panda"
      ],
      "execution_count": 0,
      "outputs": [
        {
          "output_type": "execute_result",
          "data": {
            "text/plain": [
              "array([[[0.05490196, 0.10588235, 0.06666667],\n",
              "        [0.05490196, 0.10588235, 0.06666667],\n",
              "        [0.05490196, 0.10588235, 0.06666667],\n",
              "        ...,\n",
              "        [0.16470589, 0.12941177, 0.09411765],\n",
              "        [0.16470589, 0.12941177, 0.09411765],\n",
              "        [0.16470589, 0.12941177, 0.09411765]],\n",
              "\n",
              "       [[0.05490196, 0.10588235, 0.06666667],\n",
              "        [0.05490196, 0.10588235, 0.06666667],\n",
              "        [0.05490196, 0.10588235, 0.06666667],\n",
              "        ...,\n",
              "        [0.16470589, 0.12941177, 0.09411765],\n",
              "        [0.16470589, 0.12941177, 0.09411765],\n",
              "        [0.16470589, 0.12941177, 0.09411765]],\n",
              "\n",
              "       [[0.05490196, 0.10588235, 0.06666667],\n",
              "        [0.05490196, 0.10588235, 0.06666667],\n",
              "        [0.05490196, 0.10588235, 0.06666667],\n",
              "        ...,\n",
              "        [0.16470589, 0.12941177, 0.09411765],\n",
              "        [0.16470589, 0.12941177, 0.09411765],\n",
              "        [0.16470589, 0.12941177, 0.09411765]],\n",
              "\n",
              "       ...,\n",
              "\n",
              "       [[0.13333334, 0.07450981, 0.05490196],\n",
              "        [0.12156863, 0.0627451 , 0.04313726],\n",
              "        [0.10980392, 0.05098039, 0.03137255],\n",
              "        ...,\n",
              "        [0.02745098, 0.02745098, 0.03529412],\n",
              "        [0.02745098, 0.02745098, 0.03529412],\n",
              "        [0.02745098, 0.02745098, 0.03529412]],\n",
              "\n",
              "       [[0.13333334, 0.07450981, 0.05490196],\n",
              "        [0.12156863, 0.0627451 , 0.04313726],\n",
              "        [0.12156863, 0.0627451 , 0.04313726],\n",
              "        ...,\n",
              "        [0.02352941, 0.02352941, 0.03137255],\n",
              "        [0.02352941, 0.02352941, 0.03137255],\n",
              "        [0.02352941, 0.02352941, 0.03137255]],\n",
              "\n",
              "       [[0.13333334, 0.07450981, 0.05490196],\n",
              "        [0.12156863, 0.0627451 , 0.04313726],\n",
              "        [0.12156863, 0.0627451 , 0.04313726],\n",
              "        ...,\n",
              "        [0.02352941, 0.02352941, 0.03137255],\n",
              "        [0.02352941, 0.02352941, 0.03137255],\n",
              "        [0.02352941, 0.02352941, 0.03137255]]], dtype=float32)"
            ]
          },
          "metadata": {
            "tags": []
          },
          "execution_count": 55
        }
      ]
    },
    {
      "cell_type": "markdown",
      "metadata": {
        "id": "juktOKNONsoY",
        "colab_type": "text"
      },
      "source": [
        "<img src=\"https://github.com/ras783/zero-to-mastery-ml/blob/master/images/numpy-car-photo.png?raw=1\" alt=\"photo of a car\"/>"
      ]
    },
    {
      "cell_type": "code",
      "metadata": {
        "id": "YQKjUwwHNsoY",
        "colab_type": "code",
        "colab": {},
        "outputId": "d028c91c-ac3c-4c9d-b6dd-35500da0c034"
      },
      "source": [
        "car = imread(\"../images/numpy-car-photo.png\")\n",
        "car.shape"
      ],
      "execution_count": 0,
      "outputs": [
        {
          "output_type": "execute_result",
          "data": {
            "text/plain": [
              "(431, 575, 4)"
            ]
          },
          "metadata": {
            "tags": []
          },
          "execution_count": 50
        }
      ]
    },
    {
      "cell_type": "code",
      "metadata": {
        "id": "PX7Mq96tNsoa",
        "colab_type": "code",
        "colab": {},
        "outputId": "bb75d013-c330-4ba4-b2d8-52dbf0b9180b"
      },
      "source": [
        "car[:,:,:3].shape"
      ],
      "execution_count": 0,
      "outputs": [
        {
          "output_type": "execute_result",
          "data": {
            "text/plain": [
              "(431, 575, 3)"
            ]
          },
          "metadata": {
            "tags": []
          },
          "execution_count": 51
        }
      ]
    },
    {
      "cell_type": "markdown",
      "metadata": {
        "id": "oM8NvarnNsod",
        "colab_type": "text"
      },
      "source": [
        "<img src=\"https://github.com/ras783/zero-to-mastery-ml/blob/master/images/numpy-dog-photo.png?raw=1\" alt=\"photo a dog\"/>"
      ]
    },
    {
      "cell_type": "code",
      "metadata": {
        "id": "B17zl2nzNsod",
        "colab_type": "code",
        "colab": {},
        "outputId": "516dfcc1-c810-4913-9b03-24028daa63c3"
      },
      "source": [
        "dog = imread(\"../images/numpy-dog-photo.png\")\n",
        "dog.shape"
      ],
      "execution_count": 0,
      "outputs": [
        {
          "output_type": "execute_result",
          "data": {
            "text/plain": [
              "(432, 575, 4)"
            ]
          },
          "metadata": {
            "tags": []
          },
          "execution_count": 52
        }
      ]
    },
    {
      "cell_type": "code",
      "metadata": {
        "id": "cBOEBT9oNsoe",
        "colab_type": "code",
        "colab": {},
        "outputId": "f5d72d3a-a70a-47ba-a756-df6f91514fa8"
      },
      "source": [
        "dog"
      ],
      "execution_count": 0,
      "outputs": [
        {
          "output_type": "execute_result",
          "data": {
            "text/plain": [
              "array([[[0.70980394, 0.80784315, 0.88235295, 1.        ],\n",
              "        [0.72156864, 0.8117647 , 0.8862745 , 1.        ],\n",
              "        [0.7411765 , 0.8156863 , 0.8862745 , 1.        ],\n",
              "        ...,\n",
              "        [0.49803922, 0.6862745 , 0.8392157 , 1.        ],\n",
              "        [0.49411765, 0.68235296, 0.8392157 , 1.        ],\n",
              "        [0.49411765, 0.68235296, 0.8352941 , 1.        ]],\n",
              "\n",
              "       [[0.69411767, 0.8039216 , 0.8862745 , 1.        ],\n",
              "        [0.7019608 , 0.8039216 , 0.88235295, 1.        ],\n",
              "        [0.7058824 , 0.80784315, 0.88235295, 1.        ],\n",
              "        ...,\n",
              "        [0.5019608 , 0.6862745 , 0.84705883, 1.        ],\n",
              "        [0.49411765, 0.68235296, 0.84313726, 1.        ],\n",
              "        [0.49411765, 0.68235296, 0.8392157 , 1.        ]],\n",
              "\n",
              "       [[0.6901961 , 0.8       , 0.88235295, 1.        ],\n",
              "        [0.69803923, 0.8039216 , 0.88235295, 1.        ],\n",
              "        [0.7058824 , 0.80784315, 0.88235295, 1.        ],\n",
              "        ...,\n",
              "        [0.5019608 , 0.6862745 , 0.84705883, 1.        ],\n",
              "        [0.49803922, 0.6862745 , 0.84313726, 1.        ],\n",
              "        [0.49803922, 0.6862745 , 0.84313726, 1.        ]],\n",
              "\n",
              "       ...,\n",
              "\n",
              "       [[0.9098039 , 0.81960785, 0.654902  , 1.        ],\n",
              "        [0.8352941 , 0.7490196 , 0.6509804 , 1.        ],\n",
              "        [0.72156864, 0.6313726 , 0.5372549 , 1.        ],\n",
              "        ...,\n",
              "        [0.01568628, 0.07058824, 0.02352941, 1.        ],\n",
              "        [0.03921569, 0.09411765, 0.03529412, 1.        ],\n",
              "        [0.03921569, 0.09019608, 0.05490196, 1.        ]],\n",
              "\n",
              "       [[0.9137255 , 0.83137256, 0.6784314 , 1.        ],\n",
              "        [0.8117647 , 0.7294118 , 0.627451  , 1.        ],\n",
              "        [0.65882355, 0.5686275 , 0.47843137, 1.        ],\n",
              "        ...,\n",
              "        [0.00392157, 0.05490196, 0.03529412, 1.        ],\n",
              "        [0.03137255, 0.09019608, 0.05490196, 1.        ],\n",
              "        [0.04705882, 0.10588235, 0.06666667, 1.        ]],\n",
              "\n",
              "       [[0.9137255 , 0.83137256, 0.68235296, 1.        ],\n",
              "        [0.76862746, 0.68235296, 0.5882353 , 1.        ],\n",
              "        [0.59607846, 0.5058824 , 0.44313726, 1.        ],\n",
              "        ...,\n",
              "        [0.03921569, 0.10196079, 0.07058824, 1.        ],\n",
              "        [0.02745098, 0.08235294, 0.05882353, 1.        ],\n",
              "        [0.05098039, 0.11372549, 0.07058824, 1.        ]]], dtype=float32)"
            ]
          },
          "metadata": {
            "tags": []
          },
          "execution_count": 53
        }
      ]
    }
  ]
}